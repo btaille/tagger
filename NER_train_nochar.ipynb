{
 "cells": [
  {
   "cell_type": "code",
   "execution_count": 1,
   "metadata": {},
   "outputs": [
    {
     "name": "stderr",
     "output_type": "stream",
     "text": [
      "Using TensorFlow backend.\n"
     ]
    }
   ],
   "source": [
    "%load_ext autoreload\n",
    "%autoreload 2 \n",
    "\n",
    "import os\n",
    "import numpy as np\n",
    "import pickle\n",
    "\n",
    "from tqdm import tqdm\n",
    "\n",
    "import torch\n",
    "import torch.utils.data\n",
    "import torch.autograd as autograd\n",
    "import torch.nn as nn\n",
    "import torch.nn.functional as F\n",
    "import torch.optim as optim\n",
    "from torch.nn.utils.rnn import pad_packed_sequence, pack_padded_sequence\n",
    "\n",
    "from collections import OrderedDict\n",
    "\n",
    "import nltk\n",
    "from nltk.tokenize import word_tokenize\n",
    "\n",
    "from embeddings import load_embeddings, load_vocab\n",
    "from load_conll import load_conll03\n",
    "from loader import prepare_sentence, tag_mapping, cap_feature, CoNLLDataset, pad_list\n",
    "from model import Tagger, cuda\n",
    "from torch_utils import prepare_sequence, prepare_sequence_float, tensor\n",
    "from utils import sent2seq, sent2chars, word_index, char_index, add_unknown_last, zero_digits\n",
    "from eval import eval, micro_precision_recall_f1_accuracy, eval_metrics, eval_metrics_crf, save_plot"
   ]
  },
  {
   "cell_type": "code",
   "execution_count": 2,
   "metadata": {},
   "outputs": [
    {
     "name": "stdout",
     "output_type": "stream",
     "text": [
      "lr:0.1-optimizer:sgd-hidden_size:200-pre_emb:glove-w_embed_size:300-batch_size:20-load_embeds:true-dropout:0.5-gradient_clipping:0-crf:true\n"
     ]
    }
   ],
   "source": [
    "#Parameters\n",
    "torch.manual_seed(0)\n",
    "\n",
    "parameters = OrderedDict()\n",
    "\n",
    "parameters[\"lr\"] = 0.1\n",
    "parameters[\"optimizer\"] = \"SGD\"\n",
    "parameters[\"hidden_size\"] = 200\n",
    "parameters[\"pre_emb\"] = \"glove\"\n",
    "\n",
    "parameters[\"w_embed_size\"] = 300\n",
    "# parameters[\"dim_cap\"] = 10\n",
    "\n",
    "parameters[\"batch_size\"] = 20\n",
    "parameters[\"load_embeds\"] = True\n",
    "parameters[\"dropout\"] = 0.5\n",
    "parameters[\"gradient_clipping\"] = 0\n",
    "parameters[\"crf\"] = True\n",
    "\n",
    "epochs = 1000\n",
    "zero_digit = True\n",
    "\n",
    "assert parameters[\"pre_emb\"] in [\"glove\", \"google\"]\n",
    "assert not parameters[\"pre_emb\"] == \"google\" or parameters[\"w_embed_size\"] == 300\n",
    "\n",
    "param_str = \"-\".join([\"%s:%s\" % (str(k), str(v)) for (k,v) in parameters.items()]).lower()\n",
    "print(param_str)"
   ]
  },
  {
   "cell_type": "markdown",
   "metadata": {},
   "source": [
    "# 1. Data Preprocessing"
   ]
  },
  {
   "cell_type": "markdown",
   "metadata": {},
   "source": [
    "### Load pretrained embeddings"
   ]
  },
  {
   "cell_type": "code",
   "execution_count": 3,
   "metadata": {},
   "outputs": [
    {
     "name": "stdout",
     "output_type": "stream",
     "text": [
      "Loading from saved embeddings\n",
      "Loading vocab\n"
     ]
    }
   ],
   "source": [
    "if parameters[\"pre_emb\"] == \"glove\":\n",
    "    embeddings_path = \"word_embeddings/glove.6B/glove.6B.%sd_w2vformat.txt\" % parameters[\"w_embed_size\"]\n",
    "    binary = False\n",
    "else:\n",
    "    embeddings_path = \"word_embeddings/google/GoogleNews-vectors-negative300.bin\"\n",
    "    binary = True\n",
    "    \n",
    "if parameters[\"load_embeds\"]:\n",
    "    loaded_embeddings, (w2idx, idx2w) = load_embeddings(embeddings_path, binary=binary)\n",
    "else:\n",
    "    parameters[\"freeze\"] = 0"
   ]
  },
  {
   "cell_type": "markdown",
   "metadata": {},
   "source": [
    "### Load CoNLL"
   ]
  },
  {
   "cell_type": "code",
   "execution_count": 4,
   "metadata": {
    "scrolled": false
   },
   "outputs": [
    {
     "name": "stdout",
     "output_type": "stream",
     "text": [
      "Loaded CoNLL03 in 1.8718538284301758 seconds\n",
      "Loaded CoNLL03 in 0.43241214752197266 seconds\n",
      "Loaded CoNLL03 in 0.4268953800201416 seconds\n",
      "Train 14041, Dev 3250, Test 3453\n"
     ]
    }
   ],
   "source": [
    "# CoNLL03\n",
    "sents_train_03, pos_train_03, chunk_train_03, ner_train_03 = load_conll03([\"cleaned_eng.train\"])\n",
    "sents_dev_03, pos_dev_03, chunk_train_03, ner_dev_03 = load_conll03([\"cleaned_eng.testa\"])\n",
    "sents_test_03, pos_test_03, chunk_train_03, ner_test_03 = load_conll03([\"cleaned_eng.testb\"])\n",
    "\n",
    "print(\"Train %s, Dev %s, Test %s\" % (len(sents_train_03), len(sents_dev_03), len(sents_test_03)))"
   ]
  },
  {
   "cell_type": "code",
   "execution_count": 5,
   "metadata": {
    "collapsed": true
   },
   "outputs": [],
   "source": [
    "if zero_digit:\n",
    "    sents_train_03 = [[zero_digits(w) for w in s] for s in sents_train_03]\n",
    "    sents_test_03 = [[zero_digits(w) for w in s] for s in sents_test_03]    \n",
    "    sents_dev_03 = [[zero_digits(w) for w in s] for s in sents_dev_03]    "
   ]
  },
  {
   "cell_type": "code",
   "execution_count": 6,
   "metadata": {
    "collapsed": true
   },
   "outputs": [],
   "source": [
    "sents_train = np.concatenate([sents_train_03, sents_dev_03, sents_test_03])"
   ]
  },
  {
   "cell_type": "code",
   "execution_count": 7,
   "metadata": {},
   "outputs": [
    {
     "name": "stdout",
     "output_type": "stream",
     "text": [
      "Found 9 unique named entity tags\n"
     ]
    }
   ],
   "source": [
    "w2idx_train, idx2w_train = word_index(sents_train)\n",
    "w2idx_train, idx2w_train = add_unknown_last(w2idx_train, idx2w_train)\n",
    "\n",
    "X_train_03 = sent2seq(sents_train_03, w2idx_train)\n",
    "X_dev_03 = sent2seq(sents_dev_03, w2idx_train)\n",
    "X_test_03 = sent2seq(sents_test_03, w2idx_train)\n",
    "\n",
    "idner_train, ner2idx, idx2ner = tag_mapping(ner_train_03)\n",
    "idner_dev = tag_mapping(ner_dev_03, ner2idx)\n",
    "idner_test = tag_mapping(ner_test_03, ner2idx)\n",
    "\n",
    "num_ner_classes = len(ner2idx)"
   ]
  },
  {
   "cell_type": "markdown",
   "metadata": {},
   "source": [
    "### Data Pipeline"
   ]
  },
  {
   "cell_type": "code",
   "execution_count": 8,
   "metadata": {
    "collapsed": true
   },
   "outputs": [],
   "source": [
    "class CoNLLDataset(torch.utils.data.Dataset):\n",
    "    def __init__(self, X, y, lens):\n",
    "        self.data = X\n",
    "        self.labels = y\n",
    "        self.lens = lens\n",
    "        \n",
    "    def __getitem__(self, idx):\n",
    "        return self.data[idx], self.labels[idx], self.lens[idx]\n",
    "\n",
    "    def __len__(self):\n",
    "        return len(self.data)"
   ]
  },
  {
   "cell_type": "code",
   "execution_count": 9,
   "metadata": {
    "collapsed": true
   },
   "outputs": [],
   "source": [
    "def pad_list(x, padding_idx=0):\n",
    "    lens = [len(s) for s in x]\n",
    "    maxlen = max(lens)    \n",
    "    sorted_indices = sorted(range(len(lens)), key=lambda k: lens[k], reverse=True)\n",
    "    \n",
    "    batch = padding_idx * torch.ones(len(x), maxlen).long()\n",
    "    \n",
    "    for i, idx in enumerate(sorted_indices):\n",
    "        batch[i, :lens[idx]] = torch.LongTensor(x[idx])\n",
    "    \n",
    "    return batch, sorted(lens, reverse=True), sorted_indices"
   ]
  },
  {
   "cell_type": "code",
   "execution_count": 10,
   "metadata": {
    "collapsed": true
   },
   "outputs": [],
   "source": [
    "data_train, lens_train, sorted_train = pad_list(X_train_03)\n",
    "labels_train, _, _ = pad_list(idner_train)\n",
    "\n",
    "data_dev, lens_dev, sorted_dev = pad_list(X_dev_03)\n",
    "labels_dev, _, _ = pad_list(idner_dev)\n",
    "\n",
    "data_test, lens_test, sorted_test = pad_list(X_test_03)\n",
    "labels_test, _, _ = pad_list(idner_test)"
   ]
  },
  {
   "cell_type": "code",
   "execution_count": 11,
   "metadata": {
    "collapsed": true
   },
   "outputs": [],
   "source": [
    "dataset_train = CoNLLDataset(data_train, labels_train, lens_train)\n",
    "loader_train = torch.utils.data.DataLoader(dataset_train, batch_size=parameters[\"batch_size\"], num_workers=4)\n",
    "\n",
    "dataset_dev = CoNLLDataset(data_dev, labels_dev, lens_dev)\n",
    "loader_dev = torch.utils.data.DataLoader(dataset_dev, batch_size=parameters[\"batch_size\"], num_workers=4)\n",
    "\n",
    "dataset_test = CoNLLDataset(data_test, labels_test, lens_test)\n",
    "loader_test = torch.utils.data.DataLoader(dataset_test, batch_size=parameters[\"batch_size\"], num_workers=4)"
   ]
  },
  {
   "cell_type": "code",
   "execution_count": 12,
   "metadata": {
    "collapsed": true
   },
   "outputs": [],
   "source": [
    "idner_dev = [idner_dev[i] for i in sorted_dev]\n",
    "idner_test = [idner_test[i] for i in sorted_test]\n",
    "\n",
    "sents_dev_03 = [sents_dev_03[i] for i in sorted_dev]\n",
    "sents_test_03 = [sents_test_03[i] for i in sorted_test]"
   ]
  },
  {
   "cell_type": "code",
   "execution_count": 13,
   "metadata": {
    "collapsed": true
   },
   "outputs": [],
   "source": [
    "# for x, y, l in loader:\n",
    "#     packed = pack_padded_sequence(autograd.Variable(x), l.numpy(), batch_first=True)\n",
    "#     batch, lens = pad_packed_sequence(packed, batch_first=True)"
   ]
  },
  {
   "cell_type": "markdown",
   "metadata": {},
   "source": [
    "### Fit word embeddings to vocabulary"
   ]
  },
  {
   "cell_type": "code",
   "execution_count": 14,
   "metadata": {
    "collapsed": true
   },
   "outputs": [],
   "source": [
    "embeddings = np.random.normal(scale=0.001, size=(len(w2idx_train), parameters[\"w_embed_size\"]))\n",
    "\n",
    "if parameters[\"load_embeds\"]:\n",
    "    for w, i in w2idx_train.items():\n",
    "        idx = w2idx.get(w)\n",
    "        if idx is not None:\n",
    "            embeddings[i] = loaded_embeddings[idx][:parameters[\"w_embed_size\"]]"
   ]
  },
  {
   "cell_type": "markdown",
   "metadata": {},
   "source": [
    "### Capitalization features"
   ]
  },
  {
   "cell_type": "code",
   "execution_count": 15,
   "metadata": {
    "collapsed": true
   },
   "outputs": [],
   "source": [
    "# cap_train_03 = [[cap_feature(w) for w in s] for s in sents_train_03]\n",
    "# cap_test_03 = [[cap_feature(w) for w in s] for s in sents_test_03]\n",
    "# cap_dev_03 = [[cap_feature(w) for w in s] for s in sents_dev_03]    "
   ]
  },
  {
   "cell_type": "code",
   "execution_count": 16,
   "metadata": {
    "collapsed": true
   },
   "outputs": [],
   "source": [
    "# if parameters[\"dim_cap\"]:\n",
    "#     n_cap = 4\n",
    "#     cap_embeddings = np.random.normal(scale=0.001, size=(n_cap, parameters[\"dim_cap\"]))"
   ]
  },
  {
   "cell_type": "markdown",
   "metadata": {},
   "source": [
    "# 2. Training "
   ]
  },
  {
   "cell_type": "markdown",
   "metadata": {},
   "source": [
    "### Defining model"
   ]
  },
  {
   "cell_type": "code",
   "execution_count": 17,
   "metadata": {},
   "outputs": [
    {
     "data": {
      "text/plain": [
       "{0: 'O',\n",
       " 1: 'B-LOC',\n",
       " 2: 'B-PER',\n",
       " 3: 'B-ORG',\n",
       " 4: 'I-PER',\n",
       " 5: 'I-ORG',\n",
       " 6: 'B-MISC',\n",
       " 7: 'I-LOC',\n",
       " 8: 'I-MISC',\n",
       " 9: '<START>',\n",
       " 10: '<STOP>'}"
      ]
     },
     "execution_count": 17,
     "metadata": {},
     "output_type": "execute_result"
    }
   ],
   "source": [
    "if not \"<START>\" in idx2ner.values():\n",
    "    idx2ner[len(idx2ner)] = \"<START>\"\n",
    "    idx2ner[len(idx2ner)] = \"<STOP>\"\n",
    "    ner2idx = {v:k for (k,v) in idx2ner.items()}\n",
    "\n",
    "idx2ner"
   ]
  },
  {
   "cell_type": "code",
   "execution_count": 18,
   "metadata": {
    "collapsed": true
   },
   "outputs": [],
   "source": [
    "model = Tagger(tensor(embeddings),  parameters[\"hidden_size\"], idx2ner, dropout=parameters[\"dropout\"],\n",
    "               crf=parameters[\"crf\"])\n",
    "\n",
    "trainable_parameters = filter(lambda p: p.requires_grad, model.parameters())\n",
    "\n",
    "if parameters[\"optimizer\"].lower() == \"adam\":\n",
    "    optimizer = optim.Adam(trainable_parameters, lr= parameters[\"lr\"])\n",
    "elif parameters[\"optimizer\"].lower() == \"sgd\":\n",
    "    optimizer = optim.SGD(trainable_parameters, lr= parameters[\"lr\"])\n",
    "\n",
    "if torch.cuda.is_available():\n",
    "    model.cuda()"
   ]
  },
  {
   "cell_type": "code",
   "execution_count": 20,
   "metadata": {},
   "outputs": [],
   "source": [
    "reload = 1\n",
    "model_path = \"models/ner_crf_batch/%s/\" % param_str\n",
    "\n",
    "if not os.path.exists(model_path):\n",
    "    os.makedirs(model_path)\n",
    "    \n",
    "if reload and os.path.exists(model_path + \"last_state_dict\"):\n",
    "    model.load_state_dict(torch.load(model_path + \"last_state_dict\"))\n",
    "    model = model.cuda()\n",
    "    with open(model_path + \"metrics.p\", \"rb\") as file:\n",
    "        metrics = pickle.load(file)\n",
    "    best_ner = np.max(metrics[\"ner\"][\"val_loss_dev\"])\n",
    "    \n",
    "else:\n",
    "    metrics = {\"ner\":{\"precision\":[], \"recall\":[], \"f1\":[], \"accuracy\":[], \"ent_f1\":[], \"loss\": [], \"val_loss_dev\": [],\n",
    "                      \"precision_test\":[], \"recall_test\":[], \"f1_test\":[], \"accuracy_test\":[], \"ent_f1_test\":[], \n",
    "                      \"val_loss_test\": []}}\n",
    "    best_ner = np.inf"
   ]
  },
  {
   "cell_type": "markdown",
   "metadata": {},
   "source": [
    "### Training "
   ]
  },
  {
   "cell_type": "code",
   "execution_count": null,
   "metadata": {
    "scrolled": true
   },
   "outputs": [
    {
     "name": "stderr",
     "output_type": "stream",
     "text": [
      "\r",
      "  0%|          | 0/703 [00:00<?, ?it/s]"
     ]
    },
    {
     "name": "stdout",
     "output_type": "stream",
     "text": [
      "Epoch 1/1000 :\n"
     ]
    },
    {
     "name": "stderr",
     "output_type": "stream",
     "text": [
      "100%|██████████| 703/703 [02:57<00:00,  3.96it/s]  \n",
      "163it [00:18, 38.06it/s]\n"
     ]
    },
    {
     "name": "stdout",
     "output_type": "stream",
     "text": [
      "ner : p 0.976183486957, r 0.977771679473, f 0.976976937766, acc 0.9711849227055022\n",
      "ID     NE  Total      O  B-LOC  B-PER  B-ORG  I-PER  I-ORG B-MISC  I-LOC I-MISC<START> <STOP>  Percent\n",
      " 0      O  42759  42609     30     41     26      5     22     12      4     10      0      0   99.649\n",
      " 1  B-LOC   1837     73   1692     27     30      2      4      6      3      0      0      0   92.107\n",
      " 2  B-PER   1842    103     13   1666     43     13      3      1      0      0      0      0   90.445\n",
      " 3  B-ORG   1341    105     40     64   1093      4     19     15      1      0      0      0   81.506\n",
      " 4  I-PER   1307     50      0      7      0   1221     28      0      0      1      0      0   93.420\n",
      " 5  I-ORG    751     59      5      3     21     16    622      3     12     10      0      0   82.823\n",
      " 6 B-MISC    922     91     13     26     27      1      4    758      0      2      0      0   82.213\n",
      " 7  I-LOC    257     10      2      0      0      6     17      0    221      1      0      0   85.992\n",
      " 8 I-MISC    346     49      2      2      1      5     19     23      6    239      0      0   69.075\n",
      " 9<START>      0      0      0      0      0      0      0      0      0      0      0      0    0.000\n",
      "10 <STOP>      0      0      0      0      0      0      0      0      0      0      0      0    0.000\n",
      "50121/51362 (97.58382%)\n",
      "NER f1 : 87.0\n"
     ]
    },
    {
     "name": "stderr",
     "output_type": "stream",
     "text": [
      "173it [00:17,  9.87it/s]\n"
     ]
    },
    {
     "name": "stdout",
     "output_type": "stream",
     "text": [
      "ner : p 0.959013734184, r 0.95934572362, f 0.959179700175, acc 0.9548831700226122\n",
      "ID     NE  Total      O  B-LOC  B-PER  B-ORG  I-PER  I-ORG B-MISC  I-LOC I-MISC<START> <STOP>  Percent\n",
      " 0      O  38323  37915     41     91     79     25     70     47     16     39      0      0   98.935\n",
      " 1  B-LOC   1668     82   1479     26     48      4      3     19      4      3      0      0   88.669\n",
      " 2  B-PER   1617    140     21   1311    110     30      1      1      2      1      0      0   81.076\n",
      " 3  B-ORG   1661    199     88     97   1216      1     29     31      0      0      0      0   73.209\n",
      " 4  I-PER   1156     53      0      3      4   1041     49      4      2      0      0      0   90.052\n",
      " 5  I-ORG    835     68      5      0     20     33    658      5     29     17      0      0   78.802\n",
      " 6 B-MISC    702    117     24     16     22      0      3    513      0      7      0      0   73.077\n",
      " 7  I-LOC    257     19      2      0      0      9     20      0    207      0      0      0   80.545\n",
      " 8 I-MISC    216     45      0      0      1      6     18      8      5    133      0      0   61.574\n",
      " 9<START>      0      0      0      0      0      0      0      0      0      0      0      0    0.000\n",
      "10 <STOP>      0      0      0      0      0      0      0      0      0      0      0      0    0.000\n",
      "44473/46435 (95.77474%)\n",
      "NER f1 : 78.58\n",
      "Loss :  NER 0.0164475\n",
      "Dev loss : NER 2.32558\n",
      "Test loss : NER 3.40758\n",
      "New best score on dev.\n",
      "Saving model...\n"
     ]
    },
    {
     "name": "stderr",
     "output_type": "stream",
     "text": [
      "\r",
      "  0%|          | 0/703 [00:00<?, ?it/s]"
     ]
    },
    {
     "name": "stdout",
     "output_type": "stream",
     "text": [
      "Epoch 2/1000 :\n"
     ]
    },
    {
     "name": "stderr",
     "output_type": "stream",
     "text": [
      "100%|██████████| 703/703 [00:58<00:00, 12.12it/s]\n",
      "163it [00:18,  8.89it/s]\n"
     ]
    },
    {
     "name": "stdout",
     "output_type": "stream",
     "text": [
      "ner : p 0.975654624447, r 0.977222832053, f 0.976438098596, acc 0.9706397725945252\n",
      "ID     NE  Total      O  B-LOC  B-PER  B-ORG  I-PER  I-ORG B-MISC  I-LOC I-MISC<START> <STOP>  Percent\n",
      " 0      O  42759  42630     35     22     23      3     22     11      4      9      0      0   99.698\n",
      " 1  B-LOC   1837     69   1701     13     37      2      4      8      3      0      0      0   92.597\n",
      " 2  B-PER   1842    124     25   1627     49     12      3      2      0      0      0      0   88.328\n",
      " 3  B-ORG   1341    119     45     55   1090      4     15     12      1      0      0      0   81.283\n",
      " 4  I-PER   1307     55      0      8      0   1219     22      0      1      2      0      0   93.267\n",
      " 5  I-ORG    751     71      6      3     24     18    605      2     12     10      0      0   80.559\n",
      " 6 B-MISC    922    101     16     15     22      1      3    762      0      2      0      0   82.646\n",
      " 7  I-LOC    257      9      3      0      0     10     13      0    220      2      0      0   85.603\n",
      " 8 I-MISC    346     52      2      2      1      6     16     24      4    239      0      0   69.075\n",
      " 9<START>      0      0      0      0      0      0      0      0      0      0      0      0    0.000\n",
      "10 <STOP>      0      0      0      0      0      0      0      0      0      0      0      0    0.000\n",
      "50093/51362 (97.52930%)\n",
      "NER f1 : 86.74\n"
     ]
    },
    {
     "name": "stderr",
     "output_type": "stream",
     "text": [
      "173it [00:16, 10.24it/s]\n"
     ]
    },
    {
     "name": "stdout",
     "output_type": "stream",
     "text": [
      "ner : p 0.95806479519, r 0.95845864255, f 0.958261678402, acc 0.9540002153547971\n",
      "ID     NE  Total      O  B-LOC  B-PER  B-ORG  I-PER  I-ORG B-MISC  I-LOC I-MISC<START> <STOP>  Percent\n",
      " 0      O  38323  37941     58     65     75     19     60     46     19     40      0      0   99.003\n",
      " 1  B-LOC   1668     79   1497     18     47      3      3     19      1      1      0      0   89.748\n",
      " 2  B-PER   1617    177     29   1249    127     29      1      2      2      1      0      0   77.242\n",
      " 3  B-ORG   1661    217    103     66   1220      1     28     25      1      0      0      0   73.450\n",
      " 4  I-PER   1156     68      0      3      3   1033     43      4      2      0      0      0   89.360\n",
      " 5  I-ORG    835     74      4      0     28     33    646      5     29     16      0      0   77.365\n",
      " 6 B-MISC    702    123     24     14     19      0      3    512      0      7      0      0   72.934\n",
      " 7  I-LOC    257     21      3      0      0     10     22      0    201      0      0      0   78.210\n",
      " 8 I-MISC    216     50      0      0      1      6     16      8      3    132      0      0   61.111\n",
      " 9<START>      0      0      0      0      0      0      0      0      0      0      0      0    0.000\n",
      "10 <STOP>      0      0      0      0      0      0      0      0      0      0      0      0    0.000\n",
      "44431/46435 (95.68429%)\n",
      "NER f1 : 78.08\n",
      "Loss :  NER 0.017277\n",
      "Dev loss : NER 2.45056\n",
      "Test loss : NER 3.46687\n"
     ]
    },
    {
     "name": "stderr",
     "output_type": "stream",
     "text": [
      "\r",
      "  0%|          | 0/703 [00:00<?, ?it/s]"
     ]
    },
    {
     "name": "stdout",
     "output_type": "stream",
     "text": [
      "Epoch 3/1000 :\n"
     ]
    },
    {
     "name": "stderr",
     "output_type": "stream",
     "text": [
      "100%|██████████| 703/703 [00:58<00:00, 12.12it/s]\n",
      "163it [00:17, 37.22it/s]\n"
     ]
    },
    {
     "name": "stdout",
     "output_type": "stream",
     "text": [
      "ner : p 0.975478972191, r 0.977066018504, f 0.976271850365, acc 0.9704840154199603\n",
      "ID     NE  Total      O  B-LOC  B-PER  B-ORG  I-PER  I-ORG B-MISC  I-LOC I-MISC<START> <STOP>  Percent\n",
      " 0      O  42759  42618     26     36     27      1     19     18      4     10      0      0   99.670\n",
      " 1  B-LOC   1837     82   1687     19     33      2      3      8      3      0      0      0   91.835\n",
      " 2  B-PER   1842    110     16   1652     49     10      3      2      0      0      0      0   89.685\n",
      " 3  B-ORG   1341    129     38     57   1085      4     13     14      1      0      0      0   80.910\n",
      " 4  I-PER   1307     52      0      7      1   1225     20      0      0      2      0      0   93.726\n",
      " 5  I-ORG    751     72      5      3     25     20    598      2     15     11      0      0   79.627\n",
      " 6 B-MISC    922     96     14     22     20      1      3    765      0      1      0      0   82.972\n",
      " 7  I-LOC    257     12      0      0      0     11     16      0    216      2      0      0   84.047\n",
      " 8 I-MISC    346     54      2      3      1      8     14     24      3    237      0      0   68.497\n",
      " 9<START>      0      0      0      0      0      0      0      0      0      0      0      0    0.000\n",
      "10 <STOP>      0      0      0      0      0      0      0      0      0      0      0      0    0.000\n",
      "50083/51362 (97.50983%)\n",
      "NER f1 : 86.87\n"
     ]
    },
    {
     "name": "stderr",
     "output_type": "stream",
     "text": [
      "173it [00:16, 10.59it/s]\n"
     ]
    },
    {
     "name": "stdout",
     "output_type": "stream",
     "text": [
      "ner : p 0.958126960095, r 0.95845864255, f 0.958292772622, acc 0.9540002153547971\n",
      "ID     NE  Total      O  B-LOC  B-PER  B-ORG  I-PER  I-ORG B-MISC  I-LOC I-MISC<START> <STOP>  Percent\n",
      " 0      O  38323  37921     44     89     80     39     44     49     15     42      0      0   98.951\n",
      " 1  B-LOC   1668     87   1469     27     55      6      1     21      1      1      0      0   88.070\n",
      " 2  B-PER   1617    167     20   1282    113     30      0      2      2      1      0      0   79.283\n",
      " 3  B-ORG   1661    214     88     83   1214      1     24     36      1      0      0      0   73.089\n",
      " 4  I-PER   1156     60      0      4      4   1054     30      3      1      0      0      0   91.176\n",
      " 5  I-ORG    835     76      5      0     25     37    642      5     27     18      0      0   76.886\n",
      " 6 B-MISC    702    117     20     19     20      0      3    518      0      5      0      0   73.789\n",
      " 7  I-LOC    257     19      3      2      0     10     24      0    199      0      0      0   77.432\n",
      " 8 I-MISC    216     45      0      0      2      9     17      7      3    133      0      0   61.574\n",
      " 9<START>      0      0      0      0      0      0      0      0      0      0      0      0    0.000\n",
      "10 <STOP>      0      0      0      0      0      0      0      0      0      0      0      0    0.000\n",
      "44432/46435 (95.68644%)\n",
      "NER f1 : 78.15\n",
      "Loss :  NER 0.0164474\n",
      "Dev loss : NER 2.43216\n",
      "Test loss : NER 3.5003\n"
     ]
    },
    {
     "name": "stderr",
     "output_type": "stream",
     "text": [
      "\r",
      "  0%|          | 0/703 [00:00<?, ?it/s]"
     ]
    },
    {
     "name": "stdout",
     "output_type": "stream",
     "text": [
      "Epoch 4/1000 :\n"
     ]
    },
    {
     "name": "stderr",
     "output_type": "stream",
     "text": [
      "100%|██████████| 703/703 [00:56<00:00, 12.46it/s]\n",
      "163it [00:17,  9.11it/s]\n"
     ]
    },
    {
     "name": "stdout",
     "output_type": "stream",
     "text": [
      "ner : p 0.975785929609, r 0.977124823585, f 0.976454917631, acc 0.9705424243604222\n",
      "ID     NE  Total      O  B-LOC  B-PER  B-ORG  I-PER  I-ORG B-MISC  I-LOC I-MISC<START> <STOP>  Percent\n",
      " 0      O  42759  42628     28     31     23      4     14     16      4     11      0      0   99.694\n",
      " 1  B-LOC   1837     81   1695     15     34      1      0      8      3      0      0      0   92.270\n",
      " 2  B-PER   1842    122     15   1644     48      7      4      2      0      0      0      0   89.251\n",
      " 3  B-ORG   1341    120     37     54   1094      2     13     19      2      0      0      0   81.581\n",
      " 4  I-PER   1307     70      0      8      2   1215     10      1      0      1      0      0   92.961\n",
      " 5  I-ORG    751     77      6      3     26     22    584      3     15     15      0      0   77.763\n",
      " 6 B-MISC    922     95     12     15     21      1      2    775      0      1      0      0   84.056\n",
      " 7  I-LOC    257     15      4      0      0      9     14      0    214      1      0      0   83.268\n",
      " 8 I-MISC    346     53      2      2      1      4     12     23      2    247      0      0   71.387\n",
      " 9<START>      0      0      0      0      0      0      0      0      0      0      0      0    0.000\n",
      "10 <STOP>      0      0      0      0      0      0      0      0      0      0      0      0    0.000\n",
      "50096/51362 (97.53514%)\n",
      "NER f1 : 86.9\n"
     ]
    },
    {
     "name": "stderr",
     "output_type": "stream",
     "text": [
      "173it [00:16, 10.51it/s]\n"
     ]
    },
    {
     "name": "stdout",
     "output_type": "stream",
     "text": [
      "ner : p 0.958260343, r 0.958675003786, f 0.958467628545, acc 0.9542155701518251\n",
      "ID     NE  Total      O  B-LOC  B-PER  B-ORG  I-PER  I-ORG B-MISC  I-LOC I-MISC<START> <STOP>  Percent\n",
      " 0      O  38323  37982     39     74     65     22     34     49     20     38      0      0   99.110\n",
      " 1  B-LOC   1668     85   1476     23     47      4      1     30      1      1      0      0   88.489\n",
      " 2  B-PER   1617    175     21   1254    135     23      1      4      2      2      0      0   77.551\n",
      " 3  B-ORG   1661    219     81     78   1221      2     20     40      0      0      0      0   73.510\n",
      " 4  I-PER   1156     89      0      5      3   1030     25      3      1      0      0      0   89.100\n",
      " 5  I-ORG    835     80      6      0     40     36    616      5     34     18      0      0   73.772\n",
      " 6 B-MISC    702    117     16     15     20      0      2    527      0      5      0      0   75.071\n",
      " 7  I-LOC    257     22      3      2      0     11     15      0    203      1      0      0   78.988\n",
      " 8 I-MISC    216     49      0      0      3      6     12     12      3    131      0      0   60.648\n",
      " 9<START>      0      0      0      0      0      0      0      0      0      0      0      0    0.000\n",
      "10 <STOP>      0      0      0      0      0      0      0      0      0      0      0      0    0.000\n",
      "44440/46435 (95.70367%)\n",
      "NER f1 : 77.78\n",
      "Loss :  NER 0.0162792\n",
      "Dev loss : NER 2.44939\n",
      "Test loss : NER 3.44068\n"
     ]
    },
    {
     "name": "stderr",
     "output_type": "stream",
     "text": [
      "\r",
      "  0%|          | 0/703 [00:00<?, ?it/s]"
     ]
    },
    {
     "name": "stdout",
     "output_type": "stream",
     "text": [
      "Epoch 5/1000 :\n"
     ]
    },
    {
     "name": "stderr",
     "output_type": "stream",
     "text": [
      "100%|██████████| 703/703 [00:57<00:00, 12.30it/s]\n",
      "163it [00:19, 34.19it/s]\n"
     ]
    },
    {
     "name": "stdout",
     "output_type": "stream",
     "text": [
      "ner : p 0.97585714006, r 0.976909204955, f 0.976382889104, acc 0.9703282582453955\n",
      "ID     NE  Total      O  B-LOC  B-PER  B-ORG  I-PER  I-ORG B-MISC  I-LOC I-MISC<START> <STOP>  Percent\n",
      " 0      O  42759  42631     28     16     26      2     23     16      3     14      0      0   99.701\n",
      " 1  B-LOC   1837     85   1682     15     38      1      4      9      3      0      0      0   91.562\n",
      " 2  B-PER   1842    141     18   1608     61      8      4      2      0      0      0      0   87.296\n",
      " 3  B-ORG   1341    123     35     44   1097      2     16     22      0      2      0      0   81.805\n",
      " 4  I-PER   1307     43      0      7      1   1222     32      0      0      2      0      0   93.497\n",
      " 5  I-ORG    751     61      5      3     22     20    610      2      9     19      0      0   81.225\n",
      " 6 B-MISC    922     97     10     10     26      1      4    774      0      0      0      0   83.948\n",
      " 7  I-LOC    257     10      3      0      0      7     20      0    214      3      0      0   83.268\n",
      " 8 I-MISC    346     39      3      2      1      3     21     24      2    251      0      0   72.543\n",
      " 9<START>      0      0      0      0      0      0      0      0      0      0      0      0    0.000\n",
      "10 <STOP>      0      0      0      0      0      0      0      0      0      0      0      0    0.000\n",
      "50089/51362 (97.52151%)\n",
      "NER f1 : 86.66\n"
     ]
    },
    {
     "name": "stderr",
     "output_type": "stream",
     "text": [
      "173it [00:16, 10.41it/s]\n"
     ]
    },
    {
     "name": "stdout",
     "output_type": "stream",
     "text": [
      "ner : p 0.958004112999, r 0.957506653108, f 0.957755318458, acc 0.9530526542478733\n",
      "ID     NE  Total      O  B-LOC  B-PER  B-ORG  I-PER  I-ORG B-MISC  I-LOC I-MISC<START> <STOP>  Percent\n",
      " 0      O  38323  37933     37     53     90     30     62     51     15     52      0      0   98.982\n",
      " 1  B-LOC   1668     81   1465     26     52      4      5     28      3      4      0      0   87.830\n",
      " 2  B-PER   1617    205     24   1199    152     28      1      3      2      3      0      0   74.150\n",
      " 3  B-ORG   1661    216     73     60   1232      2     29     48      0      1      0      0   74.172\n",
      " 4  I-PER   1156     58      0      4      3   1038     49      2      1      1      0      0   89.792\n",
      " 5  I-ORG    835     64      4      0     23     28    670      5     22     19      0      0   80.240\n",
      " 6 B-MISC    702    112     19     10     22      0      3    525      0     11      0      0   74.786\n",
      " 7  I-LOC    257     17      4      1      0      8     30      0    193      4      0      0   75.097\n",
      " 8 I-MISC    216     41      0      0      1      5     17      5      2    145      0      0   67.130\n",
      " 9<START>      0      0      0      0      0      0      0      0      0      0      0      0    0.000\n",
      "10 <STOP>      0      0      0      0      0      0      0      0      0      0      0      0    0.000\n",
      "44400/46435 (95.61753%)\n",
      "NER f1 : 77.19\n",
      "Loss :  NER 0.0159823\n",
      "Dev loss : NER 2.36455\n",
      "Test loss : NER 3.51349\n"
     ]
    },
    {
     "name": "stderr",
     "output_type": "stream",
     "text": [
      "\r",
      "  0%|          | 0/703 [00:00<?, ?it/s]"
     ]
    },
    {
     "name": "stdout",
     "output_type": "stream",
     "text": [
      "Epoch 6/1000 :\n"
     ]
    },
    {
     "name": "stderr",
     "output_type": "stream",
     "text": [
      "100%|██████████| 703/703 [00:58<00:00, 11.94it/s]\n",
      "163it [00:18,  8.94it/s]\n"
     ]
    },
    {
     "name": "stdout",
     "output_type": "stream",
     "text": [
      "ner : p 0.97546312615, r 0.976419162616, f 0.975940910249, acc 0.9698415170748803\n",
      "ID     NE  Total      O  B-LOC  B-PER  B-ORG  I-PER  I-ORG B-MISC  I-LOC I-MISC<START> <STOP>  Percent\n",
      " 0      O  42759  42619     31     23     24      1     23     18      4     16      0      0   99.673\n",
      " 1  B-LOC   1837     82   1687     12     37      2      5      9      3      0      0      0   91.835\n",
      " 2  B-PER   1842    142     26   1605     52     10      5      2      0      0      0      0   87.134\n",
      " 3  B-ORG   1341    128     33     39   1094      1     18     26      0      2      0      0   81.581\n",
      " 4  I-PER   1307     57      0      6      1   1212     27      0      2      2      0      0   92.731\n",
      " 5  I-ORG    751     64      5      2     23     18    607      2     12     18      0      0   80.826\n",
      " 6 B-MISC    922     96     14      9     26      1      2    773      0      1      0      0   83.839\n",
      " 7  I-LOC    257      9      2      0      0      8     20      0    216      2      0      0   84.047\n",
      " 8 I-MISC    346     41      3      1      1      4     15     24      2    255      0      0   73.699\n",
      " 9<START>      0      0      0      0      0      0      0      0      0      0      0      0    0.000\n",
      "10 <STOP>      0      0      0      0      0      0      0      0      0      0      0      0    0.000\n",
      "50068/51362 (97.48063%)\n",
      "NER f1 : 86.47\n"
     ]
    },
    {
     "name": "stderr",
     "output_type": "stream",
     "text": [
      "173it [00:17, 35.62it/s]\n"
     ]
    },
    {
     "name": "stdout",
     "output_type": "stream",
     "text": [
      "ner : p 0.957361153197, r 0.957009022264, f 0.957185055345, acc 0.9525573382147088\n",
      "ID     NE  Total      O  B-LOC  B-PER  B-ORG  I-PER  I-ORG B-MISC  I-LOC I-MISC<START> <STOP>  Percent\n",
      " 0      O  38323  37955     43     57     77     19     57     49     16     50      0      0   99.040\n",
      " 1  B-LOC   1668     92   1476     13     47      3      4     30      2      1      0      0   88.489\n",
      " 2  B-PER   1617    211     25   1191    143     34      1      6      3      3      0      0   73.655\n",
      " 3  B-ORG   1661    221     84     66   1216      1     26     46      0      1      0      0   73.209\n",
      " 4  I-PER   1156     74      0      1      3   1024     46      3      3      2      0      0   88.581\n",
      " 5  I-ORG    835     73      6      0     25     27    649      5     29     21      0      0   77.725\n",
      " 6 B-MISC    702    121     18      7     20      0      3    523      0     10      0      0   74.501\n",
      " 7  I-LOC    257     17      4      0      0     10     23      0    198      5      0      0   77.043\n",
      " 8 I-MISC    216     42      0      0      2      5     15      8      4    140      0      0   64.815\n",
      " 9<START>      0      0      0      0      0      0      0      0      0      0      0      0    0.000\n",
      "10 <STOP>      0      0      0      0      0      0      0      0      0      0      0      0    0.000\n",
      "44372/46435 (95.55723%)\n",
      "NER f1 : 77.04\n",
      "Loss :  NER 0.013971\n",
      "Dev loss : NER 2.36561\n",
      "Test loss : NER 3.50509\n"
     ]
    },
    {
     "name": "stderr",
     "output_type": "stream",
     "text": [
      "\r",
      "  0%|          | 0/703 [00:00<?, ?it/s]"
     ]
    },
    {
     "name": "stdout",
     "output_type": "stream",
     "text": [
      "Epoch 7/1000 :\n"
     ]
    },
    {
     "name": "stderr",
     "output_type": "stream",
     "text": [
      "100%|██████████| 703/703 [00:58<00:00, 11.93it/s]\n",
      "163it [00:18,  9.04it/s]\n"
     ]
    },
    {
     "name": "stdout",
     "output_type": "stream",
     "text": [
      "ner : p 0.976856203008, r 0.977928493022, f 0.977392053914, acc 0.971340679880067\n",
      "ID     NE  Total      O  B-LOC  B-PER  B-ORG  I-PER  I-ORG B-MISC  I-LOC I-MISC<START> <STOP>  Percent\n",
      " 0      O  42759  42623     27     32     23      2     18     17      3     14      0      0   99.682\n",
      " 1  B-LOC   1837     68   1700     15     40      2      1      8      3      0      0      0   92.542\n",
      " 2  B-PER   1842     99     23   1644     58     11      4      2      0      1      0      0   89.251\n",
      " 3  B-ORG   1341    107     38     47   1102      3     16     24      1      3      0      0   82.177\n",
      " 4  I-PER   1307     45      0      8      0   1228     25      0      0      1      0      0   93.956\n",
      " 5  I-ORG    751     60      7      3     23     18    610      2     10     18      0      0   81.225\n",
      " 6 B-MISC    922     91     14     16     26      2      1    771      0      1      0      0   83.623\n",
      " 7  I-LOC    257      9      2      0      0      7     24      0    212      3      0      0   82.490\n",
      " 8 I-MISC    346     47      3      2      1      6     15     22      1    249      0      0   71.965\n",
      " 9<START>      0      0      0      0      0      0      0      0      0      0      0      0    0.000\n",
      "10 <STOP>      0      0      0      0      0      0      0      0      0      0      0      0    0.000\n",
      "50139/51362 (97.61886%)\n",
      "NER f1 : 87.13\n"
     ]
    },
    {
     "name": "stderr",
     "output_type": "stream",
     "text": [
      "173it [00:18,  9.21it/s]\n"
     ]
    },
    {
     "name": "stdout",
     "output_type": "stream",
     "text": [
      "ner : p 0.959379328255, r 0.959150998507, f 0.959265149794, acc 0.9546893507052869\n",
      "ID     NE  Total      O  B-LOC  B-PER  B-ORG  I-PER  I-ORG B-MISC  I-LOC I-MISC<START> <STOP>  Percent\n",
      " 0      O  38323  37951     37     70     80     20     51     47     20     47      0      0   99.029\n",
      " 1  B-LOC   1668     77   1476     20     57      4      4     27      2      1      0      0   88.489\n",
      " 2  B-PER   1617    158     24   1252    145     28      0      5      2      3      0      0   77.427\n",
      " 3  B-ORG   1661    199     88     71   1234      3     25     39      0      2      0      0   74.293\n",
      " 4  I-PER   1156     53      0      4      3   1046     42      4      2      2      0      0   90.484\n",
      " 5  I-ORG    835     73      5      0     27     27    657      5     23     18      0      0   78.683\n",
      " 6 B-MISC    702    115     21     11     24      0      3    521      0      7      0      0   74.217\n",
      " 7  I-LOC    257     17      3      2      0      8     29      0    194      4      0      0   75.486\n",
      " 8 I-MISC    216     42      0      0      2      5     16      6      2    143      0      0   66.204\n",
      " 9<START>      0      0      0      0      0      0      0      0      0      0      0      0    0.000\n",
      "10 <STOP>      0      0      0      0      0      0      0      0      0      0      0      0    0.000\n",
      "44474/46435 (95.77689%)\n",
      "NER f1 : 77.88\n",
      "Loss :  NER 0.0136545\n",
      "Dev loss : NER 2.35351\n",
      "Test loss : NER 3.45674\n"
     ]
    },
    {
     "name": "stderr",
     "output_type": "stream",
     "text": [
      "\r",
      "  0%|          | 0/703 [00:00<?, ?it/s]"
     ]
    },
    {
     "name": "stdout",
     "output_type": "stream",
     "text": [
      "Epoch 8/1000 :\n"
     ]
    },
    {
     "name": "stderr",
     "output_type": "stream",
     "text": [
      "100%|██████████| 703/703 [01:00<00:00, 11.56it/s]\n",
      "163it [00:18,  9.00it/s]\n"
     ]
    },
    {
     "name": "stdout",
     "output_type": "stream",
     "text": [
      "ner : p 0.976275300474, r 0.977614865924, f 0.976944624003, acc 0.9710291655309373\n",
      "ID     NE  Total      O  B-LOC  B-PER  B-ORG  I-PER  I-ORG B-MISC  I-LOC I-MISC<START> <STOP>  Percent\n",
      " 0      O  42759  42627     27     33     19      1     22     17      2     11      0      0   99.691\n",
      " 1  B-LOC   1837     77   1692     13     39      2      3      8      3      0      0      0   92.107\n",
      " 2  B-PER   1842    118     15   1636     56     11      4      2      0      0      0      0   88.817\n",
      " 3  B-ORG   1341    116     29     51   1107      4     13     20      0      1      0      0   82.550\n",
      " 4  I-PER   1307     51      0      7      2   1227     19      0      0      1      0      0   93.879\n",
      " 5  I-ORG    751     66      6      3     26     21    602      2     11     14      0      0   80.160\n",
      " 6 B-MISC    922     96     10     14     27      2      1    771      0      1      0      0   83.623\n",
      " 7  I-LOC    257     14      1      0      0     10     19      0    212      1      0      0   82.490\n",
      " 8 I-MISC    346     49      2      2      1      6     16     22      1    247      0      0   71.387\n",
      " 9<START>      0      0      0      0      0      0      0      0      0      0      0      0    0.000\n",
      "10 <STOP>      0      0      0      0      0      0      0      0      0      0      0      0    0.000\n",
      "50121/51362 (97.58382%)\n",
      "NER f1 : 87.08\n"
     ]
    },
    {
     "name": "stderr",
     "output_type": "stream",
     "text": [
      "173it [00:16, 10.38it/s]\n"
     ]
    },
    {
     "name": "stdout",
     "output_type": "stream",
     "text": [
      "ner : p 0.958594730238, r 0.958739912157, f 0.958667315701, acc 0.9542801765909336\n",
      "ID     NE  Total      O  B-LOC  B-PER  B-ORG  I-PER  I-ORG B-MISC  I-LOC I-MISC<START> <STOP>  Percent\n",
      " 0      O  38323  37963     38     71     79     24     44     46     17     41      0      0   99.061\n",
      " 1  B-LOC   1668     78   1463     27     56      6      5     28      3      2      0      0   87.710\n",
      " 2  B-PER   1617    174     18   1241    145     30      1      4      1      3      0      0   76.747\n",
      " 3  B-ORG   1661    199     71     76   1242      3     26     44      0      0      0      0   74.774\n",
      " 4  I-PER   1156     65      0      2      2   1043     38      4      1      1      0      0   90.225\n",
      " 5  I-ORG    835     75      5      0     29     34    645      5     25     17      0      0   77.246\n",
      " 6 B-MISC    702    119     17     11     22      0      3    523      0      7      0      0   74.501\n",
      " 7  I-LOC    257     17      4      0      0     11     30      0    192      3      0      0   74.708\n",
      " 8 I-MISC    216     49      0      0      3      6     14      7      2    135      0      0   62.500\n",
      " 9<START>      0      0      0      0      0      0      0      0      0      0      0      0    0.000\n",
      "10 <STOP>      0      0      0      0      0      0      0      0      0      0      0      0    0.000\n",
      "44447/46435 (95.71875%)\n",
      "NER f1 : 77.75\n",
      "Loss :  NER 0.0116238\n",
      "Dev loss : NER 2.40741\n",
      "Test loss : NER 3.53001\n"
     ]
    },
    {
     "name": "stderr",
     "output_type": "stream",
     "text": [
      "\r",
      "  0%|          | 0/703 [00:00<?, ?it/s]"
     ]
    },
    {
     "name": "stdout",
     "output_type": "stream",
     "text": [
      "Epoch 9/1000 :\n"
     ]
    },
    {
     "name": "stderr",
     "output_type": "stream",
     "text": [
      "100%|██████████| 703/703 [01:00<00:00, 11.68it/s]\n",
      "163it [00:18,  8.98it/s]\n"
     ]
    },
    {
     "name": "stdout",
     "output_type": "stream",
     "text": [
      "ner : p 0.976992813926, r 0.978046103183, f 0.977519174821, acc 0.9714574977609907\n",
      "ID     NE  Total      O  B-LOC  B-PER  B-ORG  I-PER  I-ORG B-MISC  I-LOC I-MISC<START> <STOP>  Percent\n",
      " 0      O  42759  42608     32     36     24      4     25     16      2     12      0      0   99.647\n",
      " 1  B-LOC   1837     63   1702     15     39      2      5      8      3      0      0      0   92.651\n",
      " 2  B-PER   1842     92     17   1660     59      9      4      1      0      0      0      0   90.119\n",
      " 3  B-ORG   1341     95     39     59   1099      3     18     25      1      2      0      0   81.954\n",
      " 4  I-PER   1307     43      0      9      2   1228     24      0      0      1      0      0   93.956\n",
      " 5  I-ORG    751     63      6      3     21     18    609      3     10     18      0      0   81.092\n",
      " 6 B-MISC    922     81     16     18     28      1      3    774      0      1      0      0   83.948\n",
      " 7  I-LOC    257     11      3      0      0      6     19      0    216      2      0      0   84.047\n",
      " 8 I-MISC    346     39      3      2      1      7     17     20      2    255      0      0   73.699\n",
      " 9<START>      0      0      0      0      0      0      0      0      0      0      0      0    0.000\n",
      "10 <STOP>      0      0      0      0      0      0      0      0      0      0      0      0    0.000\n",
      "50151/51362 (97.64223%)\n",
      "NER f1 : 87.07\n"
     ]
    },
    {
     "name": "stderr",
     "output_type": "stream",
     "text": [
      "173it [00:16, 10.36it/s]\n"
     ]
    },
    {
     "name": "stdout",
     "output_type": "stream",
     "text": [
      "ner : p 0.959668520241, r 0.959626993228, f 0.959647756285, acc 0.9551631312587487\n",
      "ID     NE  Total      O  B-LOC  B-PER  B-ORG  I-PER  I-ORG B-MISC  I-LOC I-MISC<START> <STOP>  Percent\n",
      " 0      O  38323  37915     48     84     90     25     56     47     15     43      0      0   98.935\n",
      " 1  B-LOC   1668     71   1490     22     49      5      4     25      0      2      0      0   89.329\n",
      " 2  B-PER   1617    139     24   1289    130     24      0      6      2      3      0      0   79.716\n",
      " 3  B-ORG   1661    165     94     94   1234      3     25     46      0      0      0      0   74.293\n",
      " 4  I-PER   1156     57      0      4      2   1046     40      4      2      1      0      0   90.484\n",
      " 5  I-ORG    835     67      6      0     25     36    651      5     27     18      0      0   77.964\n",
      " 6 B-MISC    702    101     19     17     26      0      3    527      0      9      0      0   75.071\n",
      " 7  I-LOC    257     19      4      0      0      7     23      0    201      3      0      0   78.210\n",
      " 8 I-MISC    216     44      0      0      2      5     16      8      2    139      0      0   64.352\n",
      " 9<START>      0      0      0      0      0      0      0      0      0      0      0      0    0.000\n",
      "10 <STOP>      0      0      0      0      0      0      0      0      0      0      0      0    0.000\n",
      "44492/46435 (95.81566%)\n",
      "NER f1 : 78.29\n",
      "Loss :  NER 0.0128586\n",
      "Dev loss : NER 2.26544\n",
      "Test loss : NER 3.39781\n",
      "New best score on dev.\n",
      "Saving model...\n"
     ]
    },
    {
     "name": "stderr",
     "output_type": "stream",
     "text": [
      "\r",
      "  0%|          | 0/703 [00:00<?, ?it/s]"
     ]
    },
    {
     "name": "stdout",
     "output_type": "stream",
     "text": [
      "Epoch 10/1000 :\n"
     ]
    },
    {
     "name": "stderr",
     "output_type": "stream",
     "text": [
      "100%|██████████| 703/703 [01:01<00:00, 11.46it/s]\n",
      "163it [00:18,  8.99it/s]\n"
     ]
    },
    {
     "name": "stdout",
     "output_type": "stream",
     "text": [
      "ner : p 0.976130800862, r 0.977164026972, f 0.976647140646, acc 0.9705813636540633\n",
      "ID     NE  Total      O  B-LOC  B-PER  B-ORG  I-PER  I-ORG B-MISC  I-LOC I-MISC<START> <STOP>  Percent\n",
      " 0      O  42759  42619     27     35     21      2     17     19      3     16      0      0   99.673\n",
      " 1  B-LOC   1837     72   1701     13     37      2      1      8      3      0      0      0   92.597\n",
      " 2  B-PER   1842    120     23   1638     44      8      4      4      0      1      0      0   88.925\n",
      " 3  B-ORG   1341    117     44     55   1083      2     15     21      1      3      0      0   80.761\n",
      " 4  I-PER   1307     57      0      8      0   1220     20      0      0      2      0      0   93.344\n",
      " 5  I-ORG    751     70      7      3     21     18    598      2     15     17      0      0   79.627\n",
      " 6 B-MISC    922     94     15     15     20      1      2    775      0      0      0      0   84.056\n",
      " 7  I-LOC    257     13      1      0      0     10     14      0    217      2      0      0   84.436\n",
      " 8 I-MISC    346     47      3      2      1      5     13     22      2    251      0      0   72.543\n",
      " 9<START>      0      0      0      0      0      0      0      0      0      0      0      0    0.000\n",
      "10 <STOP>      0      0      0      0      0      0      0      0      0      0      0      0    0.000\n",
      "50102/51362 (97.54682%)\n",
      "NER f1 : 86.84\n"
     ]
    },
    {
     "name": "stderr",
     "output_type": "stream",
     "text": [
      "173it [00:16, 38.38it/s]\n"
     ]
    },
    {
     "name": "stdout",
     "output_type": "stream",
     "text": [
      "ner : p 0.958820219856, r 0.958675003786, f 0.958747606323, acc 0.9542155701518251\n",
      "ID     NE  Total      O  B-LOC  B-PER  B-ORG  I-PER  I-ORG B-MISC  I-LOC I-MISC<START> <STOP>  Percent\n",
      " 0      O  38323  37940     55     75     76     16     47     49     18     47      0      0   99.001\n",
      " 1  B-LOC   1668     77   1491     23     45      4      2     23      2      1      0      0   89.388\n",
      " 2  B-PER   1617    182     24   1268    101     30      0      7      2      3      0      0   78.417\n",
      " 3  B-ORG   1661    199     99     84   1207      3     25     44      0      0      0      0   72.667\n",
      " 4  I-PER   1156     68      0      2      4   1042     32      3      3      2      0      0   90.138\n",
      " 5  I-ORG    835     75      9      0     29     29    638      5     31     19      0      0   76.407\n",
      " 6 B-MISC    702    115     24      9     22      0      3    521      0      8      0      0   74.217\n",
      " 7  I-LOC    257     21      5      0      0      7     19      0    202      3      0      0   78.599\n",
      " 8 I-MISC    216     44      0      0      2      5     16      7      2    140      0      0   64.815\n",
      " 9<START>      0      0      0      0      0      0      0      0      0      0      0      0    0.000\n",
      "10 <STOP>      0      0      0      0      0      0      0      0      0      0      0      0    0.000\n",
      "44449/46435 (95.72305%)\n",
      "NER f1 : 77.95\n",
      "Loss :  NER 0.0134286\n",
      "Dev loss : NER 2.39256\n",
      "Test loss : NER 3.51937\n"
     ]
    },
    {
     "name": "stderr",
     "output_type": "stream",
     "text": [
      "\r",
      "  0%|          | 0/703 [00:00<?, ?it/s]"
     ]
    },
    {
     "name": "stdout",
     "output_type": "stream",
     "text": [
      "Epoch 11/1000 :\n"
     ]
    },
    {
     "name": "stderr",
     "output_type": "stream",
     "text": [
      "100%|██████████| 703/703 [01:01<00:00, 11.38it/s]\n",
      "163it [00:19,  8.41it/s]\n"
     ]
    },
    {
     "name": "stdout",
     "output_type": "stream",
     "text": [
      "ner : p 0.976740543504, r 0.977889289635, f 0.977314579007, acc 0.9713017405864257\n",
      "ID     NE  Total      O  B-LOC  B-PER  B-ORG  I-PER  I-ORG B-MISC  I-LOC I-MISC<START> <STOP>  Percent\n",
      " 0      O  42759  42606     38     32     30      1     23     17      2     10      0      0   99.642\n",
      " 1  B-LOC   1837     59   1704     16     39      2      6      8      3      0      0      0   92.760\n",
      " 2  B-PER   1842    107     20   1628     67     14      4      2      0      0      0      0   88.382\n",
      " 3  B-ORG   1341     84     43     52   1120      2     19     18      1      2      0      0   83.520\n",
      " 4  I-PER   1307     48      0      8      2   1217     30      0      0      2      0      0   93.114\n",
      " 5  I-ORG    751     53      5      3     22     17    623      2     11     15      0      0   82.956\n",
      " 6 B-MISC    922     80     13     15     33      1      2    775      0      3      0      0   84.056\n",
      " 7  I-LOC    257     10      2      0      0      8     20      0    215      2      0      0   83.658\n",
      " 8 I-MISC    346     43      3      0      1      5     18     23      1    252      0      0   72.832\n",
      " 9<START>      0      0      0      0      0      0      0      0      0      0      0      0    0.000\n",
      "10 <STOP>      0      0      0      0      0      0      0      0      0      0      0      0    0.000\n",
      "50140/51362 (97.62081%)\n",
      "NER f1 : 87.03\n"
     ]
    },
    {
     "name": "stderr",
     "output_type": "stream",
     "text": [
      "173it [00:17,  9.77it/s]\n"
     ]
    },
    {
     "name": "stdout",
     "output_type": "stream",
     "text": [
      "ner : p 0.95860740869, r 0.958545187044, f 0.958576296857, acc 0.9540863572736082\n",
      "ID     NE  Total      O  B-LOC  B-PER  B-ORG  I-PER  I-ORG B-MISC  I-LOC I-MISC<START> <STOP>  Percent\n",
      " 0      O  38323  37920     59     57    100     17     59     52     15     44      0      0   98.948\n",
      " 1  B-LOC   1668     69   1489     22     57      3      5     20      1      2      0      0   89.269\n",
      " 2  B-PER   1617    171     28   1227    146     33      3      4      2      3      0      0   75.881\n",
      " 3  B-ORG   1661    158    104     77   1255      1     30     35      0      1      0      0   75.557\n",
      " 4  I-PER   1156     65      0      3      3   1030     48      4      2      1      0      0   89.100\n",
      " 5  I-ORG    835     67      6      0     26     27    662      4     24     19      0      0   79.281\n",
      " 6 B-MISC    702    104     22     13     28      0      3    524      0      8      0      0   74.644\n",
      " 7  I-LOC    257     20      2      0      0      9     28      0    196      2      0      0   76.265\n",
      " 8 I-MISC    216     45      1      0      2      6     16      5      2    139      0      0   64.352\n",
      " 9<START>      0      0      0      0      0      0      0      0      0      0      0      0    0.000\n",
      "10 <STOP>      0      0      0      0      0      0      0      0      0      0      0      0    0.000\n",
      "44442/46435 (95.70798%)\n",
      "NER f1 : 77.8\n",
      "Loss :  NER 0.0123116\n",
      "Dev loss : NER 2.37371\n",
      "Test loss : NER 3.37875\n"
     ]
    },
    {
     "name": "stderr",
     "output_type": "stream",
     "text": [
      "\r",
      "  0%|          | 0/703 [00:00<?, ?it/s]"
     ]
    },
    {
     "name": "stdout",
     "output_type": "stream",
     "text": [
      "Epoch 12/1000 :\n"
     ]
    },
    {
     "name": "stderr",
     "output_type": "stream",
     "text": [
      "100%|██████████| 703/703 [01:02<00:00, 11.28it/s]\n",
      "163it [00:18,  8.93it/s]\n"
     ]
    },
    {
     "name": "stdout",
     "output_type": "stream",
     "text": [
      "ner : p 0.977056048237, r 0.9783009252, f 0.977678090443, acc 0.9717106031696585\n",
      "ID     NE  Total      O  B-LOC  B-PER  B-ORG  I-PER  I-ORG B-MISC  I-LOC I-MISC<START> <STOP>  Percent\n",
      " 0      O  42759  42597     32     31     35      3     27     18      4     12      0      0   99.621\n",
      " 1  B-LOC   1837     61   1707     12     38      2      6      8      3      0      0      0   92.923\n",
      " 2  B-PER   1842     96     20   1646     58     15      4      3      0      0      0      0   89.359\n",
      " 3  B-ORG   1341     87     38     52   1120      4     21     18      0      1      0      0   83.520\n",
      " 4  I-PER   1307     41      0      8      0   1230     26      0      0      2      0      0   94.109\n",
      " 5  I-ORG    751     51      5      3     21     19    625      2     11     14      0      0   83.222\n",
      " 6 B-MISC    922     83     14     18     35      1      2    768      0      1      0      0   83.297\n",
      " 7  I-LOC    257     11      1      0      0      8     20      0    216      1      0      0   84.047\n",
      " 8 I-MISC    346     39      3      2      1      7     18     23      3    250      0      0   72.254\n",
      " 9<START>      0      0      0      0      0      0      0      0      0      0      0      0    0.000\n",
      "10 <STOP>      0      0      0      0      0      0      0      0      0      0      0      0    0.000\n",
      "50159/51362 (97.65780%)\n",
      "NER f1 : 87.27\n"
     ]
    },
    {
     "name": "stderr",
     "output_type": "stream",
     "text": [
      "173it [00:16, 10.49it/s]\n"
     ]
    },
    {
     "name": "stdout",
     "output_type": "stream",
     "text": [
      "ner : p 0.958501914797, r 0.958501914797, f 0.958501914797, acc 0.9540432863142027\n",
      "ID     NE  Total      O  B-LOC  B-PER  B-ORG  I-PER  I-ORG B-MISC  I-LOC I-MISC<START> <STOP>  Percent\n",
      " 0      O  38323  37872     67     71    100     30     68     49     19     47      0      0   98.823\n",
      " 1  B-LOC   1668     72   1487     26     52      5      3     21      0      2      0      0   89.149\n",
      " 2  B-PER   1617    147     26   1261    140     32      2      4      2      3      0      0   77.984\n",
      " 3  B-ORG   1661    171     90     85   1248      2     31     33      0      1      0      0   75.135\n",
      " 4  I-PER   1156     44      0      3      3   1055     46      3      2      0      0      0   91.263\n",
      " 5  I-ORG    835     63      4      0     24     29    667      5     25     18      0      0   79.880\n",
      " 6 B-MISC    702    108     23     13     31      0      3    517      0      7      0      0   73.647\n",
      " 7  I-LOC    257     16      2      1      0     11     30      0    194      3      0      0   75.486\n",
      " 8 I-MISC    216     45      0      0      2      6     18      7      3    135      0      0   62.500\n",
      " 9<START>      0      0      0      0      0      0      0      0      0      0      0      0    0.000\n",
      "10 <STOP>      0      0      0      0      0      0      0      0      0      0      0      0    0.000\n",
      "44436/46435 (95.69506%)\n",
      "NER f1 : 78.06\n",
      "Loss :  NER 0.0132503\n",
      "Dev loss : NER 2.31407\n",
      "Test loss : NER 3.37795\n"
     ]
    },
    {
     "name": "stderr",
     "output_type": "stream",
     "text": [
      "\r",
      "  0%|          | 0/703 [00:00<?, ?it/s]"
     ]
    },
    {
     "name": "stdout",
     "output_type": "stream",
     "text": [
      "Epoch 13/1000 :\n"
     ]
    },
    {
     "name": "stderr",
     "output_type": "stream",
     "text": [
      " 37%|███▋      | 263/703 [00:37<00:34, 12.81it/s]"
     ]
    }
   ],
   "source": [
    "for epoch in range(epochs):\n",
    "    print(\"Epoch %s/%s :\" % (epoch+1, epochs))\n",
    "\n",
    "    losses = []\n",
    "    val_loss_epoch = []\n",
    "    loss_epoch = []\n",
    "    \n",
    "    test_lim = 3500 \n",
    "    for i, (sentences, tags, lens) in enumerate(tqdm(loader_train)):\n",
    "#     test_lim = 10\n",
    "#     for i in tqdm(range(10)):\n",
    "                      \n",
    "        sentences_in = autograd.Variable(cuda(sentences[:,:lens.numpy()[0]]))\n",
    "        targets = autograd.Variable(cuda(tags[:,:lens.numpy()[0]]))\n",
    "        \n",
    "        packed_targets = pack_padded_sequence(targets, lens.numpy(), batch_first=True) \n",
    "        \n",
    "        if parameters[\"crf\"]:        \n",
    "            loss = model.neg_log_likelihood(sentences_in, lens, targets,\n",
    "                                            gradient_clipping=parameters[\"gradient_clipping\"])\n",
    "        else:\n",
    "            scores = model(sentences_in, lens)\n",
    "            padded_scores = pad_packed_sequence(scores, batch_first=True) \n",
    "            \n",
    "#             print(padded_scores[0].size())\n",
    "#             print(targets.size())\n",
    "            \n",
    "            loss = nn.CrossEntropyLoss()(padded_scores[0].contiguous().view(-1,len(ner2idx)),\n",
    "                                                          targets.contiguous().view(-1))\n",
    "\n",
    "        loss.backward()        \n",
    "        optimizer.step()\n",
    "        \n",
    "        losses.append(loss.cpu().data.numpy())\n",
    "    \n",
    "    preds_dev, ner_loss_dev = model.test(loader_dev)  \n",
    "    \n",
    "    eval_metrics_crf(preds_dev, metrics, idner_dev[:test_lim], sents_dev_03[:test_lim], \n",
    "                     ner2idx, idx2ner, model_path, dev=True)\n",
    "    \n",
    "    val_loss_epoch = ner_loss_dev\n",
    "    \n",
    "    preds_test, ner_loss_test = model.test(loader_test)     \n",
    "    \n",
    "    eval_metrics_crf(preds_test, metrics, idner_test[:test_lim], sents_test_03[:test_lim], \n",
    "                         ner2idx, idx2ner, model_path)\n",
    "    \n",
    "    loss_epoch = np.mean(losses)\n",
    "    \n",
    "    print(\"Loss :  NER %s\" % (loss_epoch))\n",
    "    print(\"Dev loss : NER %s\" % (val_loss_epoch))\n",
    "    print(\"Test loss : NER %s\" % (ner_loss_test))\n",
    "    \n",
    "    torch.save(model.state_dict(), model_path + \"last_state_dict\")\n",
    "    if ner_loss_dev < best_ner: \n",
    "        print(\"New best score on dev.\")\n",
    "        print(\"Saving model...\")\n",
    "        torch.save(model.state_dict(), model_path + \"best_state_dict\")\n",
    "        \n",
    "        best_ner = ner_loss_dev\n",
    "    \n",
    "    metrics[\"ner\"][\"val_loss_dev\"].append(val_loss_epoch)\n",
    "    metrics[\"ner\"][\"val_loss_test\"].append(ner_loss_test)    \n",
    "    metrics[\"ner\"][\"loss\"].append(loss_epoch)    \n",
    "\n",
    "    # Save learning curve\n",
    "    save_plot(metrics, model_path)\n",
    "    with open(model_path + \"metrics.p\", \"wb\") as file:\n",
    "        pickle.dump(metrics, file)\n",
    "\n",
    "print(\"Done\")"
   ]
  },
  {
   "cell_type": "markdown",
   "metadata": {},
   "source": [
    "# Debug Tests"
   ]
  },
  {
   "cell_type": "code",
   "execution_count": null,
   "metadata": {
    "collapsed": true
   },
   "outputs": [],
   "source": [
    "for x,y,l in loader_train:\n",
    "    X = autograd.Variable(x)\n",
    "    Y = autograd.Variable(y)\n",
    "    L = l\n",
    "    break"
   ]
  },
  {
   "cell_type": "code",
   "execution_count": null,
   "metadata": {
    "collapsed": true
   },
   "outputs": [],
   "source": [
    "word_embeddings = nn.Embedding(len(w2idx_train), 300)"
   ]
  },
  {
   "cell_type": "code",
   "execution_count": null,
   "metadata": {
    "collapsed": true
   },
   "outputs": [],
   "source": [
    "packed = pack_padded_sequence(X, l.numpy(), batch_first=True)"
   ]
  },
  {
   "cell_type": "code",
   "execution_count": null,
   "metadata": {
    "collapsed": true
   },
   "outputs": [],
   "source": [
    "w = word_embeddings(X)"
   ]
  },
  {
   "cell_type": "code",
   "execution_count": null,
   "metadata": {
    "collapsed": true
   },
   "outputs": [],
   "source": [
    "w.size()"
   ]
  },
  {
   "cell_type": "code",
   "execution_count": null,
   "metadata": {
    "collapsed": true
   },
   "outputs": [],
   "source": [
    "p = pack_padded_sequence(w, l.numpy(), batch_first=True)"
   ]
  },
  {
   "cell_type": "code",
   "execution_count": null,
   "metadata": {
    "collapsed": true
   },
   "outputs": [],
   "source": [
    "p"
   ]
  },
  {
   "cell_type": "code",
   "execution_count": null,
   "metadata": {
    "collapsed": true
   },
   "outputs": [],
   "source": [
    "np.sum(p.batch_sizes)"
   ]
  },
  {
   "cell_type": "code",
   "execution_count": null,
   "metadata": {
    "collapsed": true
   },
   "outputs": [],
   "source": [
    "np.sum(l.numpy())"
   ]
  },
  {
   "cell_type": "code",
   "execution_count": null,
   "metadata": {
    "collapsed": true
   },
   "outputs": [],
   "source": [
    "print(l.numpy())\n",
    "print(p.batch_sizes)"
   ]
  },
  {
   "cell_type": "code",
   "execution_count": null,
   "metadata": {
    "collapsed": true
   },
   "outputs": [],
   "source": []
  }
 ],
 "metadata": {
  "kernelspec": {
   "display_name": "Python 3",
   "language": "python",
   "name": "python3"
  },
  "language_info": {
   "codemirror_mode": {
    "name": "ipython",
    "version": 3
   },
   "file_extension": ".py",
   "mimetype": "text/x-python",
   "name": "python",
   "nbconvert_exporter": "python",
   "pygments_lexer": "ipython3",
   "version": "3.6.1"
  }
 },
 "nbformat": 4,
 "nbformat_minor": 2
}
