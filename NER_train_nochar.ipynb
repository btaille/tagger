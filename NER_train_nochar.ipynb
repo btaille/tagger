{
 "cells": [
  {
   "cell_type": "code",
   "execution_count": 1,
   "metadata": {},
   "outputs": [
    {
     "name": "stderr",
     "output_type": "stream",
     "text": [
      "Using TensorFlow backend.\n"
     ]
    }
   ],
   "source": [
    "%load_ext autoreload\n",
    "%autoreload 2 \n",
    "\n",
    "import os\n",
    "import numpy as np\n",
    "import pickle\n",
    "\n",
    "from tqdm import tqdm\n",
    "\n",
    "import torch\n",
    "import torch.utils.data\n",
    "import torch.autograd as autograd\n",
    "import torch.nn as nn\n",
    "import torch.nn.functional as F\n",
    "import torch.optim as optim\n",
    "from torch.nn.utils.rnn import pad_packed_sequence, pack_padded_sequence\n",
    "\n",
    "from collections import OrderedDict\n",
    "\n",
    "import nltk\n",
    "from nltk.tokenize import word_tokenize\n",
    "\n",
    "from embeddings import load_embeddings, load_vocab\n",
    "from load_conll import load_conll03\n",
    "from loader import prepare_sentence, tag_mapping, cap_feature, CoNLLDataset, pad_list\n",
    "from model import Tagger, cuda\n",
    "from torch_utils import prepare_sequence, prepare_sequence_float, tensor\n",
    "from utils import sent2seq, sent2chars, word_index, char_index, add_unknown_last, zero_digits\n",
    "from eval import eval, micro_precision_recall_f1_accuracy, eval_metrics, eval_metrics_crf, save_plot"
   ]
  },
  {
   "cell_type": "code",
   "execution_count": 2,
   "metadata": {},
   "outputs": [
    {
     "name": "stdout",
     "output_type": "stream",
     "text": [
      "lr:0.1-optimizer:sgd-hidden_size:200-pre_emb:glove-w_embed_size:300-batch_size:20-load_embeds:true-dropout:0.5-gradient_clipping:0-crf:true\n"
     ]
    }
   ],
   "source": [
    "#Parameters\n",
    "torch.manual_seed(0)\n",
    "\n",
    "parameters = OrderedDict()\n",
    "\n",
    "parameters[\"lr\"] = 0.1\n",
    "parameters[\"optimizer\"] = \"SGD\"\n",
    "parameters[\"hidden_size\"] = 200\n",
    "parameters[\"pre_emb\"] = \"glove\"\n",
    "\n",
    "parameters[\"w_embed_size\"] = 300\n",
    "# parameters[\"dim_cap\"] = 10\n",
    "\n",
    "parameters[\"batch_size\"] = 20\n",
    "parameters[\"load_embeds\"] = True\n",
    "parameters[\"dropout\"] = 0.5\n",
    "parameters[\"gradient_clipping\"] = 0\n",
    "parameters[\"crf\"] = True\n",
    "\n",
    "epochs = 1000\n",
    "zero_digit = True\n",
    "\n",
    "assert parameters[\"pre_emb\"] in [\"glove\", \"google\"]\n",
    "assert not parameters[\"pre_emb\"] == \"google\" or parameters[\"w_embed_size\"] == 300\n",
    "\n",
    "param_str = \"-\".join([\"%s:%s\" % (str(k), str(v)) for (k,v) in parameters.items()]).lower()\n",
    "print(param_str)"
   ]
  },
  {
   "cell_type": "markdown",
   "metadata": {},
   "source": [
    "# 1. Data Preprocessing"
   ]
  },
  {
   "cell_type": "markdown",
   "metadata": {},
   "source": [
    "### Load pretrained embeddings"
   ]
  },
  {
   "cell_type": "code",
   "execution_count": 3,
   "metadata": {},
   "outputs": [
    {
     "name": "stdout",
     "output_type": "stream",
     "text": [
      "Loading from saved embeddings\n",
      "Loading vocab\n"
     ]
    }
   ],
   "source": [
    "if parameters[\"pre_emb\"] == \"glove\":\n",
    "    embeddings_path = \"word_embeddings/glove.6B/glove.6B.%sd_w2vformat.txt\" % parameters[\"w_embed_size\"]\n",
    "    binary = False\n",
    "else:\n",
    "    embeddings_path = \"word_embeddings/google/GoogleNews-vectors-negative300.bin\"\n",
    "    binary = True\n",
    "    \n",
    "if parameters[\"load_embeds\"]:\n",
    "    loaded_embeddings, (w2idx, idx2w) = load_embeddings(embeddings_path, binary=binary)\n",
    "else:\n",
    "    parameters[\"freeze\"] = 0"
   ]
  },
  {
   "cell_type": "markdown",
   "metadata": {},
   "source": [
    "### Load CoNLL"
   ]
  },
  {
   "cell_type": "code",
   "execution_count": 4,
   "metadata": {
    "scrolled": false
   },
   "outputs": [
    {
     "name": "stdout",
     "output_type": "stream",
     "text": [
      "Loaded CoNLL03 in 1.8718538284301758 seconds\n",
      "Loaded CoNLL03 in 0.43241214752197266 seconds\n",
      "Loaded CoNLL03 in 0.4268953800201416 seconds\n",
      "Train 14041, Dev 3250, Test 3453\n"
     ]
    }
   ],
   "source": [
    "# CoNLL03\n",
    "sents_train_03, pos_train_03, chunk_train_03, ner_train_03 = load_conll03([\"cleaned_eng.train\"])\n",
    "sents_dev_03, pos_dev_03, chunk_train_03, ner_dev_03 = load_conll03([\"cleaned_eng.testa\"])\n",
    "sents_test_03, pos_test_03, chunk_train_03, ner_test_03 = load_conll03([\"cleaned_eng.testb\"])\n",
    "\n",
    "print(\"Train %s, Dev %s, Test %s\" % (len(sents_train_03), len(sents_dev_03), len(sents_test_03)))"
   ]
  },
  {
   "cell_type": "code",
   "execution_count": 5,
   "metadata": {
    "collapsed": true
   },
   "outputs": [],
   "source": [
    "if zero_digit:\n",
    "    sents_train_03 = [[zero_digits(w) for w in s] for s in sents_train_03]\n",
    "    sents_test_03 = [[zero_digits(w) for w in s] for s in sents_test_03]    \n",
    "    sents_dev_03 = [[zero_digits(w) for w in s] for s in sents_dev_03]    "
   ]
  },
  {
   "cell_type": "code",
   "execution_count": 6,
   "metadata": {
    "collapsed": true
   },
   "outputs": [],
   "source": [
    "sents_train = np.concatenate([sents_train_03, sents_dev_03, sents_test_03])"
   ]
  },
  {
   "cell_type": "code",
   "execution_count": 7,
   "metadata": {},
   "outputs": [
    {
     "name": "stdout",
     "output_type": "stream",
     "text": [
      "Found 9 unique named entity tags\n"
     ]
    }
   ],
   "source": [
    "w2idx_train, idx2w_train = word_index(sents_train)\n",
    "w2idx_train, idx2w_train = add_unknown_last(w2idx_train, idx2w_train)\n",
    "\n",
    "X_train_03 = sent2seq(sents_train_03, w2idx_train)\n",
    "X_dev_03 = sent2seq(sents_dev_03, w2idx_train)\n",
    "X_test_03 = sent2seq(sents_test_03, w2idx_train)\n",
    "\n",
    "idner_train, ner2idx, idx2ner = tag_mapping(ner_train_03)\n",
    "idner_dev = tag_mapping(ner_dev_03, ner2idx)\n",
    "idner_test = tag_mapping(ner_test_03, ner2idx)\n",
    "\n",
    "num_ner_classes = len(ner2idx)"
   ]
  },
  {
   "cell_type": "markdown",
   "metadata": {},
   "source": [
    "### Data Pipeline"
   ]
  },
  {
   "cell_type": "code",
   "execution_count": 8,
   "metadata": {
    "collapsed": true
   },
   "outputs": [],
   "source": [
    "class CoNLLDataset(torch.utils.data.Dataset):\n",
    "    def __init__(self, X, y, lens):\n",
    "        self.data = X\n",
    "        self.labels = y\n",
    "        self.lens = lens\n",
    "        \n",
    "    def __getitem__(self, idx):\n",
    "        return self.data[idx], self.labels[idx], self.lens[idx]\n",
    "\n",
    "    def __len__(self):\n",
    "        return len(self.data)"
   ]
  },
  {
   "cell_type": "code",
   "execution_count": 9,
   "metadata": {
    "collapsed": true
   },
   "outputs": [],
   "source": [
    "def pad_list(x, padding_idx=0):\n",
    "    lens = [len(s) for s in x]\n",
    "    maxlen = max(lens)    \n",
    "    sorted_indices = sorted(range(len(lens)), key=lambda k: lens[k], reverse=True)\n",
    "    \n",
    "    batch = padding_idx * torch.ones(len(x), maxlen).long()\n",
    "    \n",
    "    for i, idx in enumerate(sorted_indices):\n",
    "        batch[i, :lens[idx]] = torch.LongTensor(x[idx])\n",
    "    \n",
    "    return batch, sorted(lens, reverse=True), sorted_indices"
   ]
  },
  {
   "cell_type": "code",
   "execution_count": 10,
   "metadata": {
    "collapsed": true
   },
   "outputs": [],
   "source": [
    "data_train, lens_train, sorted_train = pad_list(X_train_03)\n",
    "labels_train, _, _ = pad_list(idner_train)\n",
    "\n",
    "data_dev, lens_dev, sorted_dev = pad_list(X_dev_03)\n",
    "labels_dev, _, _ = pad_list(idner_dev)\n",
    "\n",
    "data_test, lens_test, sorted_test = pad_list(X_test_03)\n",
    "labels_test, _, _ = pad_list(idner_test)"
   ]
  },
  {
   "cell_type": "code",
   "execution_count": 11,
   "metadata": {
    "collapsed": true
   },
   "outputs": [],
   "source": [
    "dataset_train = CoNLLDataset(data_train, labels_train, lens_train)\n",
    "loader_train = torch.utils.data.DataLoader(dataset_train, batch_size=parameters[\"batch_size\"], num_workers=4)\n",
    "\n",
    "dataset_dev = CoNLLDataset(data_dev, labels_dev, lens_dev)\n",
    "loader_dev = torch.utils.data.DataLoader(dataset_dev, batch_size=parameters[\"batch_size\"], num_workers=4)\n",
    "\n",
    "dataset_test = CoNLLDataset(data_test, labels_test, lens_test)\n",
    "loader_test = torch.utils.data.DataLoader(dataset_test, batch_size=parameters[\"batch_size\"], num_workers=4)"
   ]
  },
  {
   "cell_type": "code",
   "execution_count": 12,
   "metadata": {
    "collapsed": true
   },
   "outputs": [],
   "source": [
    "idner_dev = [idner_dev[i] for i in sorted_dev]\n",
    "idner_test = [idner_test[i] for i in sorted_test]\n",
    "\n",
    "sents_dev_03 = [sents_dev_03[i] for i in sorted_dev]\n",
    "sents_test_03 = [sents_test_03[i] for i in sorted_test]"
   ]
  },
  {
   "cell_type": "code",
   "execution_count": 13,
   "metadata": {
    "collapsed": true
   },
   "outputs": [],
   "source": [
    "# for x, y, l in loader:\n",
    "#     packed = pack_padded_sequence(autograd.Variable(x), l.numpy(), batch_first=True)\n",
    "#     batch, lens = pad_packed_sequence(packed, batch_first=True)"
   ]
  },
  {
   "cell_type": "markdown",
   "metadata": {},
   "source": [
    "### Fit word embeddings to vocabulary"
   ]
  },
  {
   "cell_type": "code",
   "execution_count": 14,
   "metadata": {
    "collapsed": true
   },
   "outputs": [],
   "source": [
    "embeddings = np.random.normal(scale=0.001, size=(len(w2idx_train), parameters[\"w_embed_size\"]))\n",
    "\n",
    "if parameters[\"load_embeds\"]:\n",
    "    for w, i in w2idx_train.items():\n",
    "        idx = w2idx.get(w)\n",
    "        if idx is not None:\n",
    "            embeddings[i] = loaded_embeddings[idx][:parameters[\"w_embed_size\"]]"
   ]
  },
  {
   "cell_type": "markdown",
   "metadata": {},
   "source": [
    "### Capitalization features"
   ]
  },
  {
   "cell_type": "code",
   "execution_count": 15,
   "metadata": {
    "collapsed": true
   },
   "outputs": [],
   "source": [
    "# cap_train_03 = [[cap_feature(w) for w in s] for s in sents_train_03]\n",
    "# cap_test_03 = [[cap_feature(w) for w in s] for s in sents_test_03]\n",
    "# cap_dev_03 = [[cap_feature(w) for w in s] for s in sents_dev_03]    "
   ]
  },
  {
   "cell_type": "code",
   "execution_count": 16,
   "metadata": {
    "collapsed": true
   },
   "outputs": [],
   "source": [
    "# if parameters[\"dim_cap\"]:\n",
    "#     n_cap = 4\n",
    "#     cap_embeddings = np.random.normal(scale=0.001, size=(n_cap, parameters[\"dim_cap\"]))"
   ]
  },
  {
   "cell_type": "markdown",
   "metadata": {},
   "source": [
    "# 2. Training "
   ]
  },
  {
   "cell_type": "markdown",
   "metadata": {},
   "source": [
    "### Defining model"
   ]
  },
  {
   "cell_type": "code",
   "execution_count": 17,
   "metadata": {},
   "outputs": [
    {
     "data": {
      "text/plain": [
       "{0: 'O',\n",
       " 1: 'B-LOC',\n",
       " 2: 'B-PER',\n",
       " 3: 'B-ORG',\n",
       " 4: 'I-PER',\n",
       " 5: 'I-ORG',\n",
       " 6: 'B-MISC',\n",
       " 7: 'I-LOC',\n",
       " 8: 'I-MISC',\n",
       " 9: '<START>',\n",
       " 10: '<STOP>'}"
      ]
     },
     "execution_count": 17,
     "metadata": {},
     "output_type": "execute_result"
    }
   ],
   "source": [
    "if not \"<START>\" in idx2ner.values():\n",
    "    idx2ner[len(idx2ner)] = \"<START>\"\n",
    "    idx2ner[len(idx2ner)] = \"<STOP>\"\n",
    "    ner2idx = {v:k for (k,v) in idx2ner.items()}\n",
    "\n",
    "idx2ner"
   ]
  },
  {
   "cell_type": "code",
   "execution_count": 18,
   "metadata": {
    "collapsed": true
   },
   "outputs": [],
   "source": [
    "model = Tagger(tensor(embeddings),  parameters[\"hidden_size\"], idx2ner, dropout=parameters[\"dropout\"],\n",
    "               crf=parameters[\"crf\"])\n",
    "\n",
    "trainable_parameters = filter(lambda p: p.requires_grad, model.parameters())\n",
    "\n",
    "if parameters[\"optimizer\"].lower() == \"adam\":\n",
    "    optimizer = optim.Adam(trainable_parameters, lr= parameters[\"lr\"])\n",
    "elif parameters[\"optimizer\"].lower() == \"sgd\":\n",
    "    optimizer = optim.SGD(trainable_parameters, lr= parameters[\"lr\"])\n",
    "\n",
    "if torch.cuda.is_available():\n",
    "    model.cuda()"
   ]
  },
  {
   "cell_type": "code",
   "execution_count": 20,
   "metadata": {},
   "outputs": [],
   "source": [
    "reload = 1\n",
    "model_path = \"models/ner_crf_batch/%s/\" % param_str\n",
    "\n",
    "if not os.path.exists(model_path):\n",
    "    os.makedirs(model_path)\n",
    "    \n",
    "if reload and os.path.exists(model_path + \"last_state_dict\"):\n",
    "    model.load_state_dict(torch.load(model_path + \"last_state_dict\"))\n",
    "    model = model.cuda()\n",
    "    with open(model_path + \"metrics.p\", \"rb\") as file:\n",
    "        metrics = pickle.load(file)\n",
    "    best_ner = np.max(metrics[\"ner\"][\"val_loss_dev\"])\n",
    "    \n",
    "else:\n",
    "    metrics = {\"ner\":{\"precision\":[], \"recall\":[], \"f1\":[], \"accuracy\":[], \"ent_f1\":[], \"loss\": [], \"val_loss_dev\": [],\n",
    "                      \"precision_test\":[], \"recall_test\":[], \"f1_test\":[], \"accuracy_test\":[], \"ent_f1_test\":[], \n",
    "                      \"val_loss_test\": []}}\n",
    "    best_ner = np.inf"
   ]
  },
  {
   "cell_type": "markdown",
   "metadata": {},
   "source": [
    "### Training "
   ]
  },
  {
   "cell_type": "code",
   "execution_count": 21,
   "metadata": {
    "scrolled": true
   },
   "outputs": [
    {
     "name": "stderr",
     "output_type": "stream",
     "text": [
      "\r",
      "  0%|          | 0/703 [00:00<?, ?it/s]"
     ]
    },
    {
     "name": "stdout",
     "output_type": "stream",
     "text": [
      "Epoch 1/1000 :\n"
     ]
    },
    {
     "name": "stderr",
     "output_type": "stream",
     "text": [
      "100%|██████████| 703/703 [02:57<00:00,  3.96it/s]  \n",
      "163it [00:18, 38.06it/s]\n"
     ]
    },
    {
     "name": "stdout",
     "output_type": "stream",
     "text": [
      "ner : p 0.976183486957, r 0.977771679473, f 0.976976937766, acc 0.9711849227055022\n",
      "ID     NE  Total      O  B-LOC  B-PER  B-ORG  I-PER  I-ORG B-MISC  I-LOC I-MISC<START> <STOP>  Percent\n",
      " 0      O  42759  42609     30     41     26      5     22     12      4     10      0      0   99.649\n",
      " 1  B-LOC   1837     73   1692     27     30      2      4      6      3      0      0      0   92.107\n",
      " 2  B-PER   1842    103     13   1666     43     13      3      1      0      0      0      0   90.445\n",
      " 3  B-ORG   1341    105     40     64   1093      4     19     15      1      0      0      0   81.506\n",
      " 4  I-PER   1307     50      0      7      0   1221     28      0      0      1      0      0   93.420\n",
      " 5  I-ORG    751     59      5      3     21     16    622      3     12     10      0      0   82.823\n",
      " 6 B-MISC    922     91     13     26     27      1      4    758      0      2      0      0   82.213\n",
      " 7  I-LOC    257     10      2      0      0      6     17      0    221      1      0      0   85.992\n",
      " 8 I-MISC    346     49      2      2      1      5     19     23      6    239      0      0   69.075\n",
      " 9<START>      0      0      0      0      0      0      0      0      0      0      0      0    0.000\n",
      "10 <STOP>      0      0      0      0      0      0      0      0      0      0      0      0    0.000\n",
      "50121/51362 (97.58382%)\n",
      "NER f1 : 87.0\n"
     ]
    },
    {
     "name": "stderr",
     "output_type": "stream",
     "text": [
      "173it [00:17,  9.87it/s]\n"
     ]
    },
    {
     "name": "stdout",
     "output_type": "stream",
     "text": [
      "ner : p 0.959013734184, r 0.95934572362, f 0.959179700175, acc 0.9548831700226122\n",
      "ID     NE  Total      O  B-LOC  B-PER  B-ORG  I-PER  I-ORG B-MISC  I-LOC I-MISC<START> <STOP>  Percent\n",
      " 0      O  38323  37915     41     91     79     25     70     47     16     39      0      0   98.935\n",
      " 1  B-LOC   1668     82   1479     26     48      4      3     19      4      3      0      0   88.669\n",
      " 2  B-PER   1617    140     21   1311    110     30      1      1      2      1      0      0   81.076\n",
      " 3  B-ORG   1661    199     88     97   1216      1     29     31      0      0      0      0   73.209\n",
      " 4  I-PER   1156     53      0      3      4   1041     49      4      2      0      0      0   90.052\n",
      " 5  I-ORG    835     68      5      0     20     33    658      5     29     17      0      0   78.802\n",
      " 6 B-MISC    702    117     24     16     22      0      3    513      0      7      0      0   73.077\n",
      " 7  I-LOC    257     19      2      0      0      9     20      0    207      0      0      0   80.545\n",
      " 8 I-MISC    216     45      0      0      1      6     18      8      5    133      0      0   61.574\n",
      " 9<START>      0      0      0      0      0      0      0      0      0      0      0      0    0.000\n",
      "10 <STOP>      0      0      0      0      0      0      0      0      0      0      0      0    0.000\n",
      "44473/46435 (95.77474%)\n",
      "NER f1 : 78.58\n",
      "Loss :  NER 0.0164475\n",
      "Dev loss : NER 2.32558\n",
      "Test loss : NER 3.40758\n",
      "New best score on dev.\n",
      "Saving model...\n"
     ]
    },
    {
     "name": "stderr",
     "output_type": "stream",
     "text": [
      "\r",
      "  0%|          | 0/703 [00:00<?, ?it/s]"
     ]
    },
    {
     "name": "stdout",
     "output_type": "stream",
     "text": [
      "Epoch 2/1000 :\n"
     ]
    },
    {
     "name": "stderr",
     "output_type": "stream",
     "text": [
      "100%|██████████| 703/703 [00:58<00:00, 12.12it/s]\n",
      "163it [00:18,  8.89it/s]\n"
     ]
    },
    {
     "name": "stdout",
     "output_type": "stream",
     "text": [
      "ner : p 0.975654624447, r 0.977222832053, f 0.976438098596, acc 0.9706397725945252\n",
      "ID     NE  Total      O  B-LOC  B-PER  B-ORG  I-PER  I-ORG B-MISC  I-LOC I-MISC<START> <STOP>  Percent\n",
      " 0      O  42759  42630     35     22     23      3     22     11      4      9      0      0   99.698\n",
      " 1  B-LOC   1837     69   1701     13     37      2      4      8      3      0      0      0   92.597\n",
      " 2  B-PER   1842    124     25   1627     49     12      3      2      0      0      0      0   88.328\n",
      " 3  B-ORG   1341    119     45     55   1090      4     15     12      1      0      0      0   81.283\n",
      " 4  I-PER   1307     55      0      8      0   1219     22      0      1      2      0      0   93.267\n",
      " 5  I-ORG    751     71      6      3     24     18    605      2     12     10      0      0   80.559\n",
      " 6 B-MISC    922    101     16     15     22      1      3    762      0      2      0      0   82.646\n",
      " 7  I-LOC    257      9      3      0      0     10     13      0    220      2      0      0   85.603\n",
      " 8 I-MISC    346     52      2      2      1      6     16     24      4    239      0      0   69.075\n",
      " 9<START>      0      0      0      0      0      0      0      0      0      0      0      0    0.000\n",
      "10 <STOP>      0      0      0      0      0      0      0      0      0      0      0      0    0.000\n",
      "50093/51362 (97.52930%)\n",
      "NER f1 : 86.74\n"
     ]
    },
    {
     "name": "stderr",
     "output_type": "stream",
     "text": [
      "173it [00:16, 10.24it/s]\n"
     ]
    },
    {
     "name": "stdout",
     "output_type": "stream",
     "text": [
      "ner : p 0.95806479519, r 0.95845864255, f 0.958261678402, acc 0.9540002153547971\n",
      "ID     NE  Total      O  B-LOC  B-PER  B-ORG  I-PER  I-ORG B-MISC  I-LOC I-MISC<START> <STOP>  Percent\n",
      " 0      O  38323  37941     58     65     75     19     60     46     19     40      0      0   99.003\n",
      " 1  B-LOC   1668     79   1497     18     47      3      3     19      1      1      0      0   89.748\n",
      " 2  B-PER   1617    177     29   1249    127     29      1      2      2      1      0      0   77.242\n",
      " 3  B-ORG   1661    217    103     66   1220      1     28     25      1      0      0      0   73.450\n",
      " 4  I-PER   1156     68      0      3      3   1033     43      4      2      0      0      0   89.360\n",
      " 5  I-ORG    835     74      4      0     28     33    646      5     29     16      0      0   77.365\n",
      " 6 B-MISC    702    123     24     14     19      0      3    512      0      7      0      0   72.934\n",
      " 7  I-LOC    257     21      3      0      0     10     22      0    201      0      0      0   78.210\n",
      " 8 I-MISC    216     50      0      0      1      6     16      8      3    132      0      0   61.111\n",
      " 9<START>      0      0      0      0      0      0      0      0      0      0      0      0    0.000\n",
      "10 <STOP>      0      0      0      0      0      0      0      0      0      0      0      0    0.000\n",
      "44431/46435 (95.68429%)\n",
      "NER f1 : 78.08\n",
      "Loss :  NER 0.017277\n",
      "Dev loss : NER 2.45056\n",
      "Test loss : NER 3.46687\n"
     ]
    },
    {
     "name": "stderr",
     "output_type": "stream",
     "text": [
      "\r",
      "  0%|          | 0/703 [00:00<?, ?it/s]"
     ]
    },
    {
     "name": "stdout",
     "output_type": "stream",
     "text": [
      "Epoch 3/1000 :\n"
     ]
    },
    {
     "name": "stderr",
     "output_type": "stream",
     "text": [
      "100%|██████████| 703/703 [00:58<00:00, 12.12it/s]\n",
      "163it [00:17, 37.22it/s]\n"
     ]
    },
    {
     "name": "stdout",
     "output_type": "stream",
     "text": [
      "ner : p 0.975478972191, r 0.977066018504, f 0.976271850365, acc 0.9704840154199603\n",
      "ID     NE  Total      O  B-LOC  B-PER  B-ORG  I-PER  I-ORG B-MISC  I-LOC I-MISC<START> <STOP>  Percent\n",
      " 0      O  42759  42618     26     36     27      1     19     18      4     10      0      0   99.670\n",
      " 1  B-LOC   1837     82   1687     19     33      2      3      8      3      0      0      0   91.835\n",
      " 2  B-PER   1842    110     16   1652     49     10      3      2      0      0      0      0   89.685\n",
      " 3  B-ORG   1341    129     38     57   1085      4     13     14      1      0      0      0   80.910\n",
      " 4  I-PER   1307     52      0      7      1   1225     20      0      0      2      0      0   93.726\n",
      " 5  I-ORG    751     72      5      3     25     20    598      2     15     11      0      0   79.627\n",
      " 6 B-MISC    922     96     14     22     20      1      3    765      0      1      0      0   82.972\n",
      " 7  I-LOC    257     12      0      0      0     11     16      0    216      2      0      0   84.047\n",
      " 8 I-MISC    346     54      2      3      1      8     14     24      3    237      0      0   68.497\n",
      " 9<START>      0      0      0      0      0      0      0      0      0      0      0      0    0.000\n",
      "10 <STOP>      0      0      0      0      0      0      0      0      0      0      0      0    0.000\n",
      "50083/51362 (97.50983%)\n",
      "NER f1 : 86.87\n"
     ]
    },
    {
     "name": "stderr",
     "output_type": "stream",
     "text": [
      "173it [00:16, 10.59it/s]\n"
     ]
    },
    {
     "name": "stdout",
     "output_type": "stream",
     "text": [
      "ner : p 0.958126960095, r 0.95845864255, f 0.958292772622, acc 0.9540002153547971\n",
      "ID     NE  Total      O  B-LOC  B-PER  B-ORG  I-PER  I-ORG B-MISC  I-LOC I-MISC<START> <STOP>  Percent\n",
      " 0      O  38323  37921     44     89     80     39     44     49     15     42      0      0   98.951\n",
      " 1  B-LOC   1668     87   1469     27     55      6      1     21      1      1      0      0   88.070\n",
      " 2  B-PER   1617    167     20   1282    113     30      0      2      2      1      0      0   79.283\n",
      " 3  B-ORG   1661    214     88     83   1214      1     24     36      1      0      0      0   73.089\n",
      " 4  I-PER   1156     60      0      4      4   1054     30      3      1      0      0      0   91.176\n",
      " 5  I-ORG    835     76      5      0     25     37    642      5     27     18      0      0   76.886\n",
      " 6 B-MISC    702    117     20     19     20      0      3    518      0      5      0      0   73.789\n",
      " 7  I-LOC    257     19      3      2      0     10     24      0    199      0      0      0   77.432\n",
      " 8 I-MISC    216     45      0      0      2      9     17      7      3    133      0      0   61.574\n",
      " 9<START>      0      0      0      0      0      0      0      0      0      0      0      0    0.000\n",
      "10 <STOP>      0      0      0      0      0      0      0      0      0      0      0      0    0.000\n",
      "44432/46435 (95.68644%)\n",
      "NER f1 : 78.15\n",
      "Loss :  NER 0.0164474\n",
      "Dev loss : NER 2.43216\n",
      "Test loss : NER 3.5003\n"
     ]
    },
    {
     "name": "stderr",
     "output_type": "stream",
     "text": [
      "\r",
      "  0%|          | 0/703 [00:00<?, ?it/s]"
     ]
    },
    {
     "name": "stdout",
     "output_type": "stream",
     "text": [
      "Epoch 4/1000 :\n"
     ]
    },
    {
     "name": "stderr",
     "output_type": "stream",
     "text": [
      "100%|██████████| 703/703 [00:56<00:00, 12.46it/s]\n",
      "163it [00:17,  9.11it/s]\n"
     ]
    },
    {
     "name": "stdout",
     "output_type": "stream",
     "text": [
      "ner : p 0.975785929609, r 0.977124823585, f 0.976454917631, acc 0.9705424243604222\n",
      "ID     NE  Total      O  B-LOC  B-PER  B-ORG  I-PER  I-ORG B-MISC  I-LOC I-MISC<START> <STOP>  Percent\n",
      " 0      O  42759  42628     28     31     23      4     14     16      4     11      0      0   99.694\n",
      " 1  B-LOC   1837     81   1695     15     34      1      0      8      3      0      0      0   92.270\n",
      " 2  B-PER   1842    122     15   1644     48      7      4      2      0      0      0      0   89.251\n",
      " 3  B-ORG   1341    120     37     54   1094      2     13     19      2      0      0      0   81.581\n",
      " 4  I-PER   1307     70      0      8      2   1215     10      1      0      1      0      0   92.961\n",
      " 5  I-ORG    751     77      6      3     26     22    584      3     15     15      0      0   77.763\n",
      " 6 B-MISC    922     95     12     15     21      1      2    775      0      1      0      0   84.056\n",
      " 7  I-LOC    257     15      4      0      0      9     14      0    214      1      0      0   83.268\n",
      " 8 I-MISC    346     53      2      2      1      4     12     23      2    247      0      0   71.387\n",
      " 9<START>      0      0      0      0      0      0      0      0      0      0      0      0    0.000\n",
      "10 <STOP>      0      0      0      0      0      0      0      0      0      0      0      0    0.000\n",
      "50096/51362 (97.53514%)\n",
      "NER f1 : 86.9\n"
     ]
    },
    {
     "name": "stderr",
     "output_type": "stream",
     "text": [
      "173it [00:16, 10.51it/s]\n"
     ]
    },
    {
     "name": "stdout",
     "output_type": "stream",
     "text": [
      "ner : p 0.958260343, r 0.958675003786, f 0.958467628545, acc 0.9542155701518251\n",
      "ID     NE  Total      O  B-LOC  B-PER  B-ORG  I-PER  I-ORG B-MISC  I-LOC I-MISC<START> <STOP>  Percent\n",
      " 0      O  38323  37982     39     74     65     22     34     49     20     38      0      0   99.110\n",
      " 1  B-LOC   1668     85   1476     23     47      4      1     30      1      1      0      0   88.489\n",
      " 2  B-PER   1617    175     21   1254    135     23      1      4      2      2      0      0   77.551\n",
      " 3  B-ORG   1661    219     81     78   1221      2     20     40      0      0      0      0   73.510\n",
      " 4  I-PER   1156     89      0      5      3   1030     25      3      1      0      0      0   89.100\n",
      " 5  I-ORG    835     80      6      0     40     36    616      5     34     18      0      0   73.772\n",
      " 6 B-MISC    702    117     16     15     20      0      2    527      0      5      0      0   75.071\n",
      " 7  I-LOC    257     22      3      2      0     11     15      0    203      1      0      0   78.988\n",
      " 8 I-MISC    216     49      0      0      3      6     12     12      3    131      0      0   60.648\n",
      " 9<START>      0      0      0      0      0      0      0      0      0      0      0      0    0.000\n",
      "10 <STOP>      0      0      0      0      0      0      0      0      0      0      0      0    0.000\n",
      "44440/46435 (95.70367%)\n",
      "NER f1 : 77.78\n",
      "Loss :  NER 0.0162792\n",
      "Dev loss : NER 2.44939\n",
      "Test loss : NER 3.44068\n"
     ]
    },
    {
     "name": "stderr",
     "output_type": "stream",
     "text": [
      "\r",
      "  0%|          | 0/703 [00:00<?, ?it/s]"
     ]
    },
    {
     "name": "stdout",
     "output_type": "stream",
     "text": [
      "Epoch 5/1000 :\n"
     ]
    },
    {
     "name": "stderr",
     "output_type": "stream",
     "text": [
      "100%|██████████| 703/703 [00:57<00:00, 12.30it/s]\n",
      "163it [00:19, 34.19it/s]\n"
     ]
    },
    {
     "name": "stdout",
     "output_type": "stream",
     "text": [
      "ner : p 0.97585714006, r 0.976909204955, f 0.976382889104, acc 0.9703282582453955\n",
      "ID     NE  Total      O  B-LOC  B-PER  B-ORG  I-PER  I-ORG B-MISC  I-LOC I-MISC<START> <STOP>  Percent\n",
      " 0      O  42759  42631     28     16     26      2     23     16      3     14      0      0   99.701\n",
      " 1  B-LOC   1837     85   1682     15     38      1      4      9      3      0      0      0   91.562\n",
      " 2  B-PER   1842    141     18   1608     61      8      4      2      0      0      0      0   87.296\n",
      " 3  B-ORG   1341    123     35     44   1097      2     16     22      0      2      0      0   81.805\n",
      " 4  I-PER   1307     43      0      7      1   1222     32      0      0      2      0      0   93.497\n",
      " 5  I-ORG    751     61      5      3     22     20    610      2      9     19      0      0   81.225\n",
      " 6 B-MISC    922     97     10     10     26      1      4    774      0      0      0      0   83.948\n",
      " 7  I-LOC    257     10      3      0      0      7     20      0    214      3      0      0   83.268\n",
      " 8 I-MISC    346     39      3      2      1      3     21     24      2    251      0      0   72.543\n",
      " 9<START>      0      0      0      0      0      0      0      0      0      0      0      0    0.000\n",
      "10 <STOP>      0      0      0      0      0      0      0      0      0      0      0      0    0.000\n",
      "50089/51362 (97.52151%)\n",
      "NER f1 : 86.66\n"
     ]
    },
    {
     "name": "stderr",
     "output_type": "stream",
     "text": [
      "173it [00:16, 10.41it/s]\n"
     ]
    },
    {
     "name": "stdout",
     "output_type": "stream",
     "text": [
      "ner : p 0.958004112999, r 0.957506653108, f 0.957755318458, acc 0.9530526542478733\n",
      "ID     NE  Total      O  B-LOC  B-PER  B-ORG  I-PER  I-ORG B-MISC  I-LOC I-MISC<START> <STOP>  Percent\n",
      " 0      O  38323  37933     37     53     90     30     62     51     15     52      0      0   98.982\n",
      " 1  B-LOC   1668     81   1465     26     52      4      5     28      3      4      0      0   87.830\n",
      " 2  B-PER   1617    205     24   1199    152     28      1      3      2      3      0      0   74.150\n",
      " 3  B-ORG   1661    216     73     60   1232      2     29     48      0      1      0      0   74.172\n",
      " 4  I-PER   1156     58      0      4      3   1038     49      2      1      1      0      0   89.792\n",
      " 5  I-ORG    835     64      4      0     23     28    670      5     22     19      0      0   80.240\n",
      " 6 B-MISC    702    112     19     10     22      0      3    525      0     11      0      0   74.786\n",
      " 7  I-LOC    257     17      4      1      0      8     30      0    193      4      0      0   75.097\n",
      " 8 I-MISC    216     41      0      0      1      5     17      5      2    145      0      0   67.130\n",
      " 9<START>      0      0      0      0      0      0      0      0      0      0      0      0    0.000\n",
      "10 <STOP>      0      0      0      0      0      0      0      0      0      0      0      0    0.000\n",
      "44400/46435 (95.61753%)\n",
      "NER f1 : 77.19\n",
      "Loss :  NER 0.0159823\n",
      "Dev loss : NER 2.36455\n",
      "Test loss : NER 3.51349\n"
     ]
    },
    {
     "name": "stderr",
     "output_type": "stream",
     "text": [
      "\r",
      "  0%|          | 0/703 [00:00<?, ?it/s]"
     ]
    },
    {
     "name": "stdout",
     "output_type": "stream",
     "text": [
      "Epoch 6/1000 :\n"
     ]
    },
    {
     "name": "stderr",
     "output_type": "stream",
     "text": [
      "100%|██████████| 703/703 [00:58<00:00, 11.94it/s]\n",
      "163it [00:18,  8.94it/s]\n"
     ]
    },
    {
     "name": "stdout",
     "output_type": "stream",
     "text": [
      "ner : p 0.97546312615, r 0.976419162616, f 0.975940910249, acc 0.9698415170748803\n",
      "ID     NE  Total      O  B-LOC  B-PER  B-ORG  I-PER  I-ORG B-MISC  I-LOC I-MISC<START> <STOP>  Percent\n",
      " 0      O  42759  42619     31     23     24      1     23     18      4     16      0      0   99.673\n",
      " 1  B-LOC   1837     82   1687     12     37      2      5      9      3      0      0      0   91.835\n",
      " 2  B-PER   1842    142     26   1605     52     10      5      2      0      0      0      0   87.134\n",
      " 3  B-ORG   1341    128     33     39   1094      1     18     26      0      2      0      0   81.581\n",
      " 4  I-PER   1307     57      0      6      1   1212     27      0      2      2      0      0   92.731\n",
      " 5  I-ORG    751     64      5      2     23     18    607      2     12     18      0      0   80.826\n",
      " 6 B-MISC    922     96     14      9     26      1      2    773      0      1      0      0   83.839\n",
      " 7  I-LOC    257      9      2      0      0      8     20      0    216      2      0      0   84.047\n",
      " 8 I-MISC    346     41      3      1      1      4     15     24      2    255      0      0   73.699\n",
      " 9<START>      0      0      0      0      0      0      0      0      0      0      0      0    0.000\n",
      "10 <STOP>      0      0      0      0      0      0      0      0      0      0      0      0    0.000\n",
      "50068/51362 (97.48063%)\n",
      "NER f1 : 86.47\n"
     ]
    },
    {
     "name": "stderr",
     "output_type": "stream",
     "text": [
      "173it [00:17, 35.62it/s]\n"
     ]
    },
    {
     "name": "stdout",
     "output_type": "stream",
     "text": [
      "ner : p 0.957361153197, r 0.957009022264, f 0.957185055345, acc 0.9525573382147088\n",
      "ID     NE  Total      O  B-LOC  B-PER  B-ORG  I-PER  I-ORG B-MISC  I-LOC I-MISC<START> <STOP>  Percent\n",
      " 0      O  38323  37955     43     57     77     19     57     49     16     50      0      0   99.040\n",
      " 1  B-LOC   1668     92   1476     13     47      3      4     30      2      1      0      0   88.489\n",
      " 2  B-PER   1617    211     25   1191    143     34      1      6      3      3      0      0   73.655\n",
      " 3  B-ORG   1661    221     84     66   1216      1     26     46      0      1      0      0   73.209\n",
      " 4  I-PER   1156     74      0      1      3   1024     46      3      3      2      0      0   88.581\n",
      " 5  I-ORG    835     73      6      0     25     27    649      5     29     21      0      0   77.725\n",
      " 6 B-MISC    702    121     18      7     20      0      3    523      0     10      0      0   74.501\n",
      " 7  I-LOC    257     17      4      0      0     10     23      0    198      5      0      0   77.043\n",
      " 8 I-MISC    216     42      0      0      2      5     15      8      4    140      0      0   64.815\n",
      " 9<START>      0      0      0      0      0      0      0      0      0      0      0      0    0.000\n",
      "10 <STOP>      0      0      0      0      0      0      0      0      0      0      0      0    0.000\n",
      "44372/46435 (95.55723%)\n",
      "NER f1 : 77.04\n",
      "Loss :  NER 0.013971\n",
      "Dev loss : NER 2.36561\n",
      "Test loss : NER 3.50509\n"
     ]
    },
    {
     "name": "stderr",
     "output_type": "stream",
     "text": [
      "\r",
      "  0%|          | 0/703 [00:00<?, ?it/s]"
     ]
    },
    {
     "name": "stdout",
     "output_type": "stream",
     "text": [
      "Epoch 7/1000 :\n"
     ]
    },
    {
     "name": "stderr",
     "output_type": "stream",
     "text": [
      "100%|██████████| 703/703 [00:58<00:00, 11.93it/s]\n",
      "163it [00:18,  9.04it/s]\n"
     ]
    },
    {
     "name": "stdout",
     "output_type": "stream",
     "text": [
      "ner : p 0.976856203008, r 0.977928493022, f 0.977392053914, acc 0.971340679880067\n",
      "ID     NE  Total      O  B-LOC  B-PER  B-ORG  I-PER  I-ORG B-MISC  I-LOC I-MISC<START> <STOP>  Percent\n",
      " 0      O  42759  42623     27     32     23      2     18     17      3     14      0      0   99.682\n",
      " 1  B-LOC   1837     68   1700     15     40      2      1      8      3      0      0      0   92.542\n",
      " 2  B-PER   1842     99     23   1644     58     11      4      2      0      1      0      0   89.251\n",
      " 3  B-ORG   1341    107     38     47   1102      3     16     24      1      3      0      0   82.177\n",
      " 4  I-PER   1307     45      0      8      0   1228     25      0      0      1      0      0   93.956\n",
      " 5  I-ORG    751     60      7      3     23     18    610      2     10     18      0      0   81.225\n",
      " 6 B-MISC    922     91     14     16     26      2      1    771      0      1      0      0   83.623\n",
      " 7  I-LOC    257      9      2      0      0      7     24      0    212      3      0      0   82.490\n",
      " 8 I-MISC    346     47      3      2      1      6     15     22      1    249      0      0   71.965\n",
      " 9<START>      0      0      0      0      0      0      0      0      0      0      0      0    0.000\n",
      "10 <STOP>      0      0      0      0      0      0      0      0      0      0      0      0    0.000\n",
      "50139/51362 (97.61886%)\n",
      "NER f1 : 87.13\n"
     ]
    },
    {
     "name": "stderr",
     "output_type": "stream",
     "text": [
      "173it [00:18,  9.21it/s]\n"
     ]
    },
    {
     "name": "stdout",
     "output_type": "stream",
     "text": [
      "ner : p 0.959379328255, r 0.959150998507, f 0.959265149794, acc 0.9546893507052869\n",
      "ID     NE  Total      O  B-LOC  B-PER  B-ORG  I-PER  I-ORG B-MISC  I-LOC I-MISC<START> <STOP>  Percent\n",
      " 0      O  38323  37951     37     70     80     20     51     47     20     47      0      0   99.029\n",
      " 1  B-LOC   1668     77   1476     20     57      4      4     27      2      1      0      0   88.489\n",
      " 2  B-PER   1617    158     24   1252    145     28      0      5      2      3      0      0   77.427\n",
      " 3  B-ORG   1661    199     88     71   1234      3     25     39      0      2      0      0   74.293\n",
      " 4  I-PER   1156     53      0      4      3   1046     42      4      2      2      0      0   90.484\n",
      " 5  I-ORG    835     73      5      0     27     27    657      5     23     18      0      0   78.683\n",
      " 6 B-MISC    702    115     21     11     24      0      3    521      0      7      0      0   74.217\n",
      " 7  I-LOC    257     17      3      2      0      8     29      0    194      4      0      0   75.486\n",
      " 8 I-MISC    216     42      0      0      2      5     16      6      2    143      0      0   66.204\n",
      " 9<START>      0      0      0      0      0      0      0      0      0      0      0      0    0.000\n",
      "10 <STOP>      0      0      0      0      0      0      0      0      0      0      0      0    0.000\n",
      "44474/46435 (95.77689%)\n",
      "NER f1 : 77.88\n",
      "Loss :  NER 0.0136545\n",
      "Dev loss : NER 2.35351\n",
      "Test loss : NER 3.45674\n"
     ]
    },
    {
     "name": "stderr",
     "output_type": "stream",
     "text": [
      "\r",
      "  0%|          | 0/703 [00:00<?, ?it/s]"
     ]
    },
    {
     "name": "stdout",
     "output_type": "stream",
     "text": [
      "Epoch 8/1000 :\n"
     ]
    },
    {
     "name": "stderr",
     "output_type": "stream",
     "text": [
      "100%|██████████| 703/703 [01:00<00:00, 11.56it/s]\n",
      "163it [00:18,  9.00it/s]\n"
     ]
    },
    {
     "name": "stdout",
     "output_type": "stream",
     "text": [
      "ner : p 0.976275300474, r 0.977614865924, f 0.976944624003, acc 0.9710291655309373\n",
      "ID     NE  Total      O  B-LOC  B-PER  B-ORG  I-PER  I-ORG B-MISC  I-LOC I-MISC<START> <STOP>  Percent\n",
      " 0      O  42759  42627     27     33     19      1     22     17      2     11      0      0   99.691\n",
      " 1  B-LOC   1837     77   1692     13     39      2      3      8      3      0      0      0   92.107\n",
      " 2  B-PER   1842    118     15   1636     56     11      4      2      0      0      0      0   88.817\n",
      " 3  B-ORG   1341    116     29     51   1107      4     13     20      0      1      0      0   82.550\n",
      " 4  I-PER   1307     51      0      7      2   1227     19      0      0      1      0      0   93.879\n",
      " 5  I-ORG    751     66      6      3     26     21    602      2     11     14      0      0   80.160\n",
      " 6 B-MISC    922     96     10     14     27      2      1    771      0      1      0      0   83.623\n",
      " 7  I-LOC    257     14      1      0      0     10     19      0    212      1      0      0   82.490\n",
      " 8 I-MISC    346     49      2      2      1      6     16     22      1    247      0      0   71.387\n",
      " 9<START>      0      0      0      0      0      0      0      0      0      0      0      0    0.000\n",
      "10 <STOP>      0      0      0      0      0      0      0      0      0      0      0      0    0.000\n",
      "50121/51362 (97.58382%)\n",
      "NER f1 : 87.08\n"
     ]
    },
    {
     "name": "stderr",
     "output_type": "stream",
     "text": [
      "173it [00:16, 10.38it/s]\n"
     ]
    },
    {
     "name": "stdout",
     "output_type": "stream",
     "text": [
      "ner : p 0.958594730238, r 0.958739912157, f 0.958667315701, acc 0.9542801765909336\n",
      "ID     NE  Total      O  B-LOC  B-PER  B-ORG  I-PER  I-ORG B-MISC  I-LOC I-MISC<START> <STOP>  Percent\n",
      " 0      O  38323  37963     38     71     79     24     44     46     17     41      0      0   99.061\n",
      " 1  B-LOC   1668     78   1463     27     56      6      5     28      3      2      0      0   87.710\n",
      " 2  B-PER   1617    174     18   1241    145     30      1      4      1      3      0      0   76.747\n",
      " 3  B-ORG   1661    199     71     76   1242      3     26     44      0      0      0      0   74.774\n",
      " 4  I-PER   1156     65      0      2      2   1043     38      4      1      1      0      0   90.225\n",
      " 5  I-ORG    835     75      5      0     29     34    645      5     25     17      0      0   77.246\n",
      " 6 B-MISC    702    119     17     11     22      0      3    523      0      7      0      0   74.501\n",
      " 7  I-LOC    257     17      4      0      0     11     30      0    192      3      0      0   74.708\n",
      " 8 I-MISC    216     49      0      0      3      6     14      7      2    135      0      0   62.500\n",
      " 9<START>      0      0      0      0      0      0      0      0      0      0      0      0    0.000\n",
      "10 <STOP>      0      0      0      0      0      0      0      0      0      0      0      0    0.000\n",
      "44447/46435 (95.71875%)\n",
      "NER f1 : 77.75\n",
      "Loss :  NER 0.0116238\n",
      "Dev loss : NER 2.40741\n",
      "Test loss : NER 3.53001\n"
     ]
    },
    {
     "name": "stderr",
     "output_type": "stream",
     "text": [
      "\r",
      "  0%|          | 0/703 [00:00<?, ?it/s]"
     ]
    },
    {
     "name": "stdout",
     "output_type": "stream",
     "text": [
      "Epoch 9/1000 :\n"
     ]
    },
    {
     "name": "stderr",
     "output_type": "stream",
     "text": [
      "100%|██████████| 703/703 [01:00<00:00, 11.68it/s]\n",
      "163it [00:18,  8.98it/s]\n"
     ]
    },
    {
     "name": "stdout",
     "output_type": "stream",
     "text": [
      "ner : p 0.976992813926, r 0.978046103183, f 0.977519174821, acc 0.9714574977609907\n",
      "ID     NE  Total      O  B-LOC  B-PER  B-ORG  I-PER  I-ORG B-MISC  I-LOC I-MISC<START> <STOP>  Percent\n",
      " 0      O  42759  42608     32     36     24      4     25     16      2     12      0      0   99.647\n",
      " 1  B-LOC   1837     63   1702     15     39      2      5      8      3      0      0      0   92.651\n",
      " 2  B-PER   1842     92     17   1660     59      9      4      1      0      0      0      0   90.119\n",
      " 3  B-ORG   1341     95     39     59   1099      3     18     25      1      2      0      0   81.954\n",
      " 4  I-PER   1307     43      0      9      2   1228     24      0      0      1      0      0   93.956\n",
      " 5  I-ORG    751     63      6      3     21     18    609      3     10     18      0      0   81.092\n",
      " 6 B-MISC    922     81     16     18     28      1      3    774      0      1      0      0   83.948\n",
      " 7  I-LOC    257     11      3      0      0      6     19      0    216      2      0      0   84.047\n",
      " 8 I-MISC    346     39      3      2      1      7     17     20      2    255      0      0   73.699\n",
      " 9<START>      0      0      0      0      0      0      0      0      0      0      0      0    0.000\n",
      "10 <STOP>      0      0      0      0      0      0      0      0      0      0      0      0    0.000\n",
      "50151/51362 (97.64223%)\n",
      "NER f1 : 87.07\n"
     ]
    },
    {
     "name": "stderr",
     "output_type": "stream",
     "text": [
      "173it [00:16, 10.36it/s]\n"
     ]
    },
    {
     "name": "stdout",
     "output_type": "stream",
     "text": [
      "ner : p 0.959668520241, r 0.959626993228, f 0.959647756285, acc 0.9551631312587487\n",
      "ID     NE  Total      O  B-LOC  B-PER  B-ORG  I-PER  I-ORG B-MISC  I-LOC I-MISC<START> <STOP>  Percent\n",
      " 0      O  38323  37915     48     84     90     25     56     47     15     43      0      0   98.935\n",
      " 1  B-LOC   1668     71   1490     22     49      5      4     25      0      2      0      0   89.329\n",
      " 2  B-PER   1617    139     24   1289    130     24      0      6      2      3      0      0   79.716\n",
      " 3  B-ORG   1661    165     94     94   1234      3     25     46      0      0      0      0   74.293\n",
      " 4  I-PER   1156     57      0      4      2   1046     40      4      2      1      0      0   90.484\n",
      " 5  I-ORG    835     67      6      0     25     36    651      5     27     18      0      0   77.964\n",
      " 6 B-MISC    702    101     19     17     26      0      3    527      0      9      0      0   75.071\n",
      " 7  I-LOC    257     19      4      0      0      7     23      0    201      3      0      0   78.210\n",
      " 8 I-MISC    216     44      0      0      2      5     16      8      2    139      0      0   64.352\n",
      " 9<START>      0      0      0      0      0      0      0      0      0      0      0      0    0.000\n",
      "10 <STOP>      0      0      0      0      0      0      0      0      0      0      0      0    0.000\n",
      "44492/46435 (95.81566%)\n",
      "NER f1 : 78.29\n",
      "Loss :  NER 0.0128586\n",
      "Dev loss : NER 2.26544\n",
      "Test loss : NER 3.39781\n",
      "New best score on dev.\n",
      "Saving model...\n"
     ]
    },
    {
     "name": "stderr",
     "output_type": "stream",
     "text": [
      "\r",
      "  0%|          | 0/703 [00:00<?, ?it/s]"
     ]
    },
    {
     "name": "stdout",
     "output_type": "stream",
     "text": [
      "Epoch 10/1000 :\n"
     ]
    },
    {
     "name": "stderr",
     "output_type": "stream",
     "text": [
      "100%|██████████| 703/703 [01:01<00:00, 11.46it/s]\n",
      "163it [00:18,  8.99it/s]\n"
     ]
    },
    {
     "name": "stdout",
     "output_type": "stream",
     "text": [
      "ner : p 0.976130800862, r 0.977164026972, f 0.976647140646, acc 0.9705813636540633\n",
      "ID     NE  Total      O  B-LOC  B-PER  B-ORG  I-PER  I-ORG B-MISC  I-LOC I-MISC<START> <STOP>  Percent\n",
      " 0      O  42759  42619     27     35     21      2     17     19      3     16      0      0   99.673\n",
      " 1  B-LOC   1837     72   1701     13     37      2      1      8      3      0      0      0   92.597\n",
      " 2  B-PER   1842    120     23   1638     44      8      4      4      0      1      0      0   88.925\n",
      " 3  B-ORG   1341    117     44     55   1083      2     15     21      1      3      0      0   80.761\n",
      " 4  I-PER   1307     57      0      8      0   1220     20      0      0      2      0      0   93.344\n",
      " 5  I-ORG    751     70      7      3     21     18    598      2     15     17      0      0   79.627\n",
      " 6 B-MISC    922     94     15     15     20      1      2    775      0      0      0      0   84.056\n",
      " 7  I-LOC    257     13      1      0      0     10     14      0    217      2      0      0   84.436\n",
      " 8 I-MISC    346     47      3      2      1      5     13     22      2    251      0      0   72.543\n",
      " 9<START>      0      0      0      0      0      0      0      0      0      0      0      0    0.000\n",
      "10 <STOP>      0      0      0      0      0      0      0      0      0      0      0      0    0.000\n",
      "50102/51362 (97.54682%)\n",
      "NER f1 : 86.84\n"
     ]
    },
    {
     "name": "stderr",
     "output_type": "stream",
     "text": [
      "173it [00:16, 38.38it/s]\n"
     ]
    },
    {
     "name": "stdout",
     "output_type": "stream",
     "text": [
      "ner : p 0.958820219856, r 0.958675003786, f 0.958747606323, acc 0.9542155701518251\n",
      "ID     NE  Total      O  B-LOC  B-PER  B-ORG  I-PER  I-ORG B-MISC  I-LOC I-MISC<START> <STOP>  Percent\n",
      " 0      O  38323  37940     55     75     76     16     47     49     18     47      0      0   99.001\n",
      " 1  B-LOC   1668     77   1491     23     45      4      2     23      2      1      0      0   89.388\n",
      " 2  B-PER   1617    182     24   1268    101     30      0      7      2      3      0      0   78.417\n",
      " 3  B-ORG   1661    199     99     84   1207      3     25     44      0      0      0      0   72.667\n",
      " 4  I-PER   1156     68      0      2      4   1042     32      3      3      2      0      0   90.138\n",
      " 5  I-ORG    835     75      9      0     29     29    638      5     31     19      0      0   76.407\n",
      " 6 B-MISC    702    115     24      9     22      0      3    521      0      8      0      0   74.217\n",
      " 7  I-LOC    257     21      5      0      0      7     19      0    202      3      0      0   78.599\n",
      " 8 I-MISC    216     44      0      0      2      5     16      7      2    140      0      0   64.815\n",
      " 9<START>      0      0      0      0      0      0      0      0      0      0      0      0    0.000\n",
      "10 <STOP>      0      0      0      0      0      0      0      0      0      0      0      0    0.000\n",
      "44449/46435 (95.72305%)\n",
      "NER f1 : 77.95\n",
      "Loss :  NER 0.0134286\n",
      "Dev loss : NER 2.39256\n",
      "Test loss : NER 3.51937\n"
     ]
    },
    {
     "name": "stderr",
     "output_type": "stream",
     "text": [
      "\r",
      "  0%|          | 0/703 [00:00<?, ?it/s]"
     ]
    },
    {
     "name": "stdout",
     "output_type": "stream",
     "text": [
      "Epoch 11/1000 :\n"
     ]
    },
    {
     "name": "stderr",
     "output_type": "stream",
     "text": [
      "100%|██████████| 703/703 [01:01<00:00, 11.38it/s]\n",
      "163it [00:19,  8.41it/s]\n"
     ]
    },
    {
     "name": "stdout",
     "output_type": "stream",
     "text": [
      "ner : p 0.976740543504, r 0.977889289635, f 0.977314579007, acc 0.9713017405864257\n",
      "ID     NE  Total      O  B-LOC  B-PER  B-ORG  I-PER  I-ORG B-MISC  I-LOC I-MISC<START> <STOP>  Percent\n",
      " 0      O  42759  42606     38     32     30      1     23     17      2     10      0      0   99.642\n",
      " 1  B-LOC   1837     59   1704     16     39      2      6      8      3      0      0      0   92.760\n",
      " 2  B-PER   1842    107     20   1628     67     14      4      2      0      0      0      0   88.382\n",
      " 3  B-ORG   1341     84     43     52   1120      2     19     18      1      2      0      0   83.520\n",
      " 4  I-PER   1307     48      0      8      2   1217     30      0      0      2      0      0   93.114\n",
      " 5  I-ORG    751     53      5      3     22     17    623      2     11     15      0      0   82.956\n",
      " 6 B-MISC    922     80     13     15     33      1      2    775      0      3      0      0   84.056\n",
      " 7  I-LOC    257     10      2      0      0      8     20      0    215      2      0      0   83.658\n",
      " 8 I-MISC    346     43      3      0      1      5     18     23      1    252      0      0   72.832\n",
      " 9<START>      0      0      0      0      0      0      0      0      0      0      0      0    0.000\n",
      "10 <STOP>      0      0      0      0      0      0      0      0      0      0      0      0    0.000\n",
      "50140/51362 (97.62081%)\n",
      "NER f1 : 87.03\n"
     ]
    },
    {
     "name": "stderr",
     "output_type": "stream",
     "text": [
      "173it [00:17,  9.77it/s]\n"
     ]
    },
    {
     "name": "stdout",
     "output_type": "stream",
     "text": [
      "ner : p 0.95860740869, r 0.958545187044, f 0.958576296857, acc 0.9540863572736082\n",
      "ID     NE  Total      O  B-LOC  B-PER  B-ORG  I-PER  I-ORG B-MISC  I-LOC I-MISC<START> <STOP>  Percent\n",
      " 0      O  38323  37920     59     57    100     17     59     52     15     44      0      0   98.948\n",
      " 1  B-LOC   1668     69   1489     22     57      3      5     20      1      2      0      0   89.269\n",
      " 2  B-PER   1617    171     28   1227    146     33      3      4      2      3      0      0   75.881\n",
      " 3  B-ORG   1661    158    104     77   1255      1     30     35      0      1      0      0   75.557\n",
      " 4  I-PER   1156     65      0      3      3   1030     48      4      2      1      0      0   89.100\n",
      " 5  I-ORG    835     67      6      0     26     27    662      4     24     19      0      0   79.281\n",
      " 6 B-MISC    702    104     22     13     28      0      3    524      0      8      0      0   74.644\n",
      " 7  I-LOC    257     20      2      0      0      9     28      0    196      2      0      0   76.265\n",
      " 8 I-MISC    216     45      1      0      2      6     16      5      2    139      0      0   64.352\n",
      " 9<START>      0      0      0      0      0      0      0      0      0      0      0      0    0.000\n",
      "10 <STOP>      0      0      0      0      0      0      0      0      0      0      0      0    0.000\n",
      "44442/46435 (95.70798%)\n",
      "NER f1 : 77.8\n",
      "Loss :  NER 0.0123116\n",
      "Dev loss : NER 2.37371\n",
      "Test loss : NER 3.37875\n"
     ]
    },
    {
     "name": "stderr",
     "output_type": "stream",
     "text": [
      "\r",
      "  0%|          | 0/703 [00:00<?, ?it/s]"
     ]
    },
    {
     "name": "stdout",
     "output_type": "stream",
     "text": [
      "Epoch 12/1000 :\n"
     ]
    },
    {
     "name": "stderr",
     "output_type": "stream",
     "text": [
      "100%|██████████| 703/703 [01:02<00:00, 11.28it/s]\n",
      "163it [00:18,  8.93it/s]\n"
     ]
    },
    {
     "name": "stdout",
     "output_type": "stream",
     "text": [
      "ner : p 0.977056048237, r 0.9783009252, f 0.977678090443, acc 0.9717106031696585\n",
      "ID     NE  Total      O  B-LOC  B-PER  B-ORG  I-PER  I-ORG B-MISC  I-LOC I-MISC<START> <STOP>  Percent\n",
      " 0      O  42759  42597     32     31     35      3     27     18      4     12      0      0   99.621\n",
      " 1  B-LOC   1837     61   1707     12     38      2      6      8      3      0      0      0   92.923\n",
      " 2  B-PER   1842     96     20   1646     58     15      4      3      0      0      0      0   89.359\n",
      " 3  B-ORG   1341     87     38     52   1120      4     21     18      0      1      0      0   83.520\n",
      " 4  I-PER   1307     41      0      8      0   1230     26      0      0      2      0      0   94.109\n",
      " 5  I-ORG    751     51      5      3     21     19    625      2     11     14      0      0   83.222\n",
      " 6 B-MISC    922     83     14     18     35      1      2    768      0      1      0      0   83.297\n",
      " 7  I-LOC    257     11      1      0      0      8     20      0    216      1      0      0   84.047\n",
      " 8 I-MISC    346     39      3      2      1      7     18     23      3    250      0      0   72.254\n",
      " 9<START>      0      0      0      0      0      0      0      0      0      0      0      0    0.000\n",
      "10 <STOP>      0      0      0      0      0      0      0      0      0      0      0      0    0.000\n",
      "50159/51362 (97.65780%)\n",
      "NER f1 : 87.27\n"
     ]
    },
    {
     "name": "stderr",
     "output_type": "stream",
     "text": [
      "173it [00:16, 10.49it/s]\n"
     ]
    },
    {
     "name": "stdout",
     "output_type": "stream",
     "text": [
      "ner : p 0.958501914797, r 0.958501914797, f 0.958501914797, acc 0.9540432863142027\n",
      "ID     NE  Total      O  B-LOC  B-PER  B-ORG  I-PER  I-ORG B-MISC  I-LOC I-MISC<START> <STOP>  Percent\n",
      " 0      O  38323  37872     67     71    100     30     68     49     19     47      0      0   98.823\n",
      " 1  B-LOC   1668     72   1487     26     52      5      3     21      0      2      0      0   89.149\n",
      " 2  B-PER   1617    147     26   1261    140     32      2      4      2      3      0      0   77.984\n",
      " 3  B-ORG   1661    171     90     85   1248      2     31     33      0      1      0      0   75.135\n",
      " 4  I-PER   1156     44      0      3      3   1055     46      3      2      0      0      0   91.263\n",
      " 5  I-ORG    835     63      4      0     24     29    667      5     25     18      0      0   79.880\n",
      " 6 B-MISC    702    108     23     13     31      0      3    517      0      7      0      0   73.647\n",
      " 7  I-LOC    257     16      2      1      0     11     30      0    194      3      0      0   75.486\n",
      " 8 I-MISC    216     45      0      0      2      6     18      7      3    135      0      0   62.500\n",
      " 9<START>      0      0      0      0      0      0      0      0      0      0      0      0    0.000\n",
      "10 <STOP>      0      0      0      0      0      0      0      0      0      0      0      0    0.000\n",
      "44436/46435 (95.69506%)\n",
      "NER f1 : 78.06\n",
      "Loss :  NER 0.0132503\n",
      "Dev loss : NER 2.31407\n",
      "Test loss : NER 3.37795\n"
     ]
    },
    {
     "name": "stderr",
     "output_type": "stream",
     "text": [
      "\r",
      "  0%|          | 0/703 [00:00<?, ?it/s]"
     ]
    },
    {
     "name": "stdout",
     "output_type": "stream",
     "text": [
      "Epoch 13/1000 :\n"
     ]
    },
    {
     "name": "stderr",
     "output_type": "stream",
     "text": [
      "100%|██████████| 703/703 [00:57<00:00, 12.16it/s]\n",
      "163it [00:18,  8.62it/s]\n"
     ]
    },
    {
     "name": "stdout",
     "output_type": "stream",
     "text": [
      "ner : p 0.975886635873, r 0.977340442214, f 0.976612998002, acc 0.9707565904754488\n",
      "ID     NE  Total      O  B-LOC  B-PER  B-ORG  I-PER  I-ORG B-MISC  I-LOC I-MISC<START> <STOP>  Percent\n",
      " 0      O  42759  42626     30     23     26      2     27     13      3      9      0      0   99.689\n",
      " 1  B-LOC   1837     75   1699     11     33      2      6      8      3      0      0      0   92.488\n",
      " 2  B-PER   1842    130     16   1610     64     15      4      3      0      0      0      0   87.405\n",
      " 3  B-ORG   1341    122     35     51   1095      3     18     15      2      0      0      0   81.655\n",
      " 4  I-PER   1307     44      0      8      0   1215     38      0      0      2      0      0   92.961\n",
      " 5  I-ORG    751     52      5      3     19     17    631      2     11     11      0      0   84.021\n",
      " 6 B-MISC    922     98     15     12     27      1      3    765      0      1      0      0   82.972\n",
      " 7  I-LOC    257     11      2      0      0      6     17      0    219      2      0      0   85.214\n",
      " 8 I-MISC    346     43      3      2      1      6     22     22      2    245      0      0   70.809\n",
      " 9<START>      0      0      0      0      0      0      0      0      0      0      0      0    0.000\n",
      "10 <STOP>      0      0      0      0      0      0      0      0      0      0      0      0    0.000\n",
      "50105/51362 (97.55267%)\n",
      "NER f1 : 87.02\n"
     ]
    },
    {
     "name": "stderr",
     "output_type": "stream",
     "text": [
      "173it [00:16, 10.35it/s]\n"
     ]
    },
    {
     "name": "stdout",
     "output_type": "stream",
     "text": [
      "ner : p 0.958404533754, r 0.958653367663, f 0.958528934559, acc 0.9541940346721223\n",
      "ID     NE  Total      O  B-LOC  B-PER  B-ORG  I-PER  I-ORG B-MISC  I-LOC I-MISC<START> <STOP>  Percent\n",
      " 0      O  38323  37937     44     64     80     28     69     47     17     37      0      0   98.993\n",
      " 1  B-LOC   1668     80   1482     25     48      3      6     21      1      2      0      0   88.849\n",
      " 2  B-PER   1617    192     22   1237    123     35      0      3      2      3      0      0   76.500\n",
      " 3  B-ORG   1661    220     83     70   1225      2     30     31      0      0      0      0   73.751\n",
      " 4  I-PER   1156     53      0      3      3   1043     49      2      2      1      0      0   90.225\n",
      " 5  I-ORG    835     66      5      0     22     28    671      4     22     17      0      0   80.359\n",
      " 6 B-MISC    702    126     19     11     21      0      3    513      0      9      0      0   73.077\n",
      " 7  I-LOC    257     18      2      1      0     12     24      0    200      0      0      0   77.821\n",
      " 8 I-MISC    216     48      0      0      1      5     19      6      2    135      0      0   62.500\n",
      " 9<START>      0      0      0      0      0      0      0      0      0      0      0      0    0.000\n",
      "10 <STOP>      0      0      0      0      0      0      0      0      0      0      0      0    0.000\n",
      "44443/46435 (95.71013%)\n",
      "NER f1 : 78.24\n",
      "Loss :  NER 0.0126909\n",
      "Dev loss : NER 2.34882\n",
      "Test loss : NER 3.45071\n"
     ]
    },
    {
     "name": "stderr",
     "output_type": "stream",
     "text": [
      "\r",
      "  0%|          | 0/703 [00:00<?, ?it/s]"
     ]
    },
    {
     "name": "stdout",
     "output_type": "stream",
     "text": [
      "Epoch 14/1000 :\n"
     ]
    },
    {
     "name": "stderr",
     "output_type": "stream",
     "text": [
      "100%|██████████| 703/703 [00:58<00:00, 12.04it/s]\n",
      "163it [00:18,  8.62it/s]\n"
     ]
    },
    {
     "name": "stdout",
     "output_type": "stream",
     "text": [
      "ner : p 0.975957867533, r 0.977124823585, f 0.976540996934, acc 0.9705424243604222\n",
      "ID     NE  Total      O  B-LOC  B-PER  B-ORG  I-PER  I-ORG B-MISC  I-LOC I-MISC<START> <STOP>  Percent\n",
      " 0      O  42759  42627     33     19     25      1     23     14      3     14      0      0   99.691\n",
      " 1  B-LOC   1837     68   1700     12     41      2      4      7      3      0      0      0   92.542\n",
      " 2  B-PER   1842    134     22   1590     77     12      4      3      0      0      0      0   86.319\n",
      " 3  B-ORG   1341    109     38     34   1122      1     18     17      1      1      0      0   83.669\n",
      " 4  I-PER   1307     51      0      7      1   1196     49      0      1      2      0      0   91.507\n",
      " 5  I-ORG    751     54      7      2     21     14    625      3     11     14      0      0   83.222\n",
      " 6 B-MISC    922     93     13      9     33      1      3    769      0      1      0      0   83.406\n",
      " 7  I-LOC    257      8      3      0      0      7     18      0    220      1      0      0   85.603\n",
      " 8 I-MISC    346     42      3      0      1      3     21     22      2    252      0      0   72.832\n",
      " 9<START>      0      0      0      0      0      0      0      0      0      0      0      0    0.000\n",
      "10 <STOP>      0      0      0      0      0      0      0      0      0      0      0      0    0.000\n",
      "50101/51362 (97.54488%)\n",
      "NER f1 : 86.81\n"
     ]
    },
    {
     "name": "stderr",
     "output_type": "stream",
     "text": [
      "173it [00:17,  9.83it/s]\n"
     ]
    },
    {
     "name": "stdout",
     "output_type": "stream",
     "text": [
      "ner : p 0.957395707114, r 0.957333564119, f 0.957364634608, acc 0.9528803704102509\n",
      "ID     NE  Total      O  B-LOC  B-PER  B-ORG  I-PER  I-ORG B-MISC  I-LOC I-MISC<START> <STOP>  Percent\n",
      " 0      O  38323  37920     49     58     99     17     70     51     15     44      0      0   98.948\n",
      " 1  B-LOC   1668     80   1488     15     57      4      3     19      0      2      0      0   89.209\n",
      " 2  B-PER   1617    196     27   1183    173     27      1      5      2      3      0      0   73.160\n",
      " 3  B-ORG   1661    198     85     56   1261      1     30     30      0      0      0      0   75.918\n",
      " 4  I-PER   1156     61      0      5      4   1015     64      3      2      2      0      0   87.803\n",
      " 5  I-ORG    835     63      6      0     26     27    666      4     26     17      0      0   79.760\n",
      " 6 B-MISC    702    114     21      9     28      0      3    517      0     10      0      0   73.647\n",
      " 7  I-LOC    257     19      4      0      0      7     27      0    197      3      0      0   76.654\n",
      " 8 I-MISC    216     45      0      0      1      6     18      6      2    138      0      0   63.889\n",
      " 9<START>      0      0      0      0      0      0      0      0      0      0      0      0    0.000\n",
      "10 <STOP>      0      0      0      0      0      0      0      0      0      0      0      0    0.000\n",
      "44385/46435 (95.58523%)\n",
      "NER f1 : 77.43\n",
      "Loss :  NER 0.0126884\n",
      "Dev loss : NER 2.37089\n",
      "Test loss : NER 3.51904\n"
     ]
    },
    {
     "name": "stderr",
     "output_type": "stream",
     "text": [
      "\r",
      "  0%|          | 0/703 [00:00<?, ?it/s]"
     ]
    },
    {
     "name": "stdout",
     "output_type": "stream",
     "text": [
      "Epoch 15/1000 :\n"
     ]
    },
    {
     "name": "stderr",
     "output_type": "stream",
     "text": [
      "100%|██████████| 703/703 [01:00<00:00, 11.70it/s]\n",
      "163it [00:18,  8.70it/s]\n"
     ]
    },
    {
     "name": "stdout",
     "output_type": "stream",
     "text": [
      "ner : p 0.976895815793, r 0.977987298103, f 0.977441252241, acc 0.9713990888205288\n",
      "ID     NE  Total      O  B-LOC  B-PER  B-ORG  I-PER  I-ORG B-MISC  I-LOC I-MISC<START> <STOP>  Percent\n",
      " 0      O  42759  42612     32     28     23      3     24     21      4     12      0      0   99.656\n",
      " 1  B-LOC   1837     66   1705     12     36      2      4      9      3      0      0      0   92.814\n",
      " 2  B-PER   1842    110     24   1629     59     13      4      3      0      0      0      0   88.436\n",
      " 3  B-ORG   1341    104     39     47   1111      4     14     19      2      1      0      0   82.849\n",
      " 4  I-PER   1307     42      0      7      1   1229     25      0      1      2      0      0   94.032\n",
      " 5  I-ORG    751     52      5      3     22     21    618      3     12     15      0      0   82.290\n",
      " 6 B-MISC    922     92     16     12     22      1      3    772      0      4      0      0   83.731\n",
      " 7  I-LOC    257     10      2      0      0      7     18      0    217      3      0      0   84.436\n",
      " 8 I-MISC    346     40      3      1      1      5     18     23      3    252      0      0   72.832\n",
      " 9<START>      0      0      0      0      0      0      0      0      0      0      0      0    0.000\n",
      "10 <STOP>      0      0      0      0      0      0      0      0      0      0      0      0    0.000\n",
      "50145/51362 (97.63054%)\n",
      "NER f1 : 87.04\n"
     ]
    },
    {
     "name": "stderr",
     "output_type": "stream",
     "text": [
      "173it [00:16, 10.25it/s]\n"
     ]
    },
    {
     "name": "stdout",
     "output_type": "stream",
     "text": [
      "ner : p 0.958697533535, r 0.958718276034, f 0.958707904672, acc 0.9542586411112307\n",
      "ID     NE  Total      O  B-LOC  B-PER  B-ORG  I-PER  I-ORG B-MISC  I-LOC I-MISC<START> <STOP>  Percent\n",
      " 0      O  38323  37899     61     68     91     32     65     50     15     42      0      0   98.894\n",
      " 1  B-LOC   1668     75   1489     21     46      4      8     23      0      2      0      0   89.269\n",
      " 2  B-PER   1617    155     33   1252    135     31      2      4      2      3      0      0   77.427\n",
      " 3  B-ORG   1661    185     95     71   1237      4     30     38      1      0      0      0   74.473\n",
      " 4  I-PER   1156     44      0      3      4   1059     40      3      2      1      0      0   91.609\n",
      " 5  I-ORG    835     66      6      1     24     32    655      4     29     18      0      0   78.443\n",
      " 6 B-MISC    702    111     24     11     25      0      3    518      0     10      0      0   73.789\n",
      " 7  I-LOC    257     15      3      0      0     10     24      0    202      3      0      0   78.599\n",
      " 8 I-MISC    216     46      0      0      2      7     16      5      4    136      0      0   62.963\n",
      " 9<START>      0      0      0      0      0      0      0      0      0      0      0      0    0.000\n",
      "10 <STOP>      0      0      0      0      0      0      0      0      0      0      0      0    0.000\n",
      "44447/46435 (95.71875%)\n",
      "NER f1 : 77.74\n",
      "Loss :  NER 0.00968156\n",
      "Dev loss : NER 2.33053\n",
      "Test loss : NER 3.4304\n"
     ]
    },
    {
     "name": "stderr",
     "output_type": "stream",
     "text": [
      "\r",
      "  0%|          | 0/703 [00:00<?, ?it/s]"
     ]
    },
    {
     "name": "stdout",
     "output_type": "stream",
     "text": [
      "Epoch 16/1000 :\n"
     ]
    },
    {
     "name": "stderr",
     "output_type": "stream",
     "text": [
      "100%|██████████| 703/703 [00:58<00:00, 12.02it/s]\n",
      "163it [00:19,  8.43it/s]\n"
     ]
    },
    {
     "name": "stdout",
     "output_type": "stream",
     "text": [
      "ner : p 0.976316304561, r 0.977732476086, f 0.977023877147, acc 0.9711459834118609\n",
      "ID     NE  Total      O  B-LOC  B-PER  B-ORG  I-PER  I-ORG B-MISC  I-LOC I-MISC<START> <STOP>  Percent\n",
      " 0      O  42759  42629     32     28     20      3     20     14      3     10      0      0   99.696\n",
      " 1  B-LOC   1837     76   1699     15     30      2      3      9      3      0      0      0   92.488\n",
      " 2  B-PER   1842    132     18   1626     48     12      4      2      0      0      0      0   88.274\n",
      " 3  B-ORG   1341    125     41     43   1092      4     12     22      2      0      0      0   81.432\n",
      " 4  I-PER   1307     46      0      8      1   1230     19      0      1      2      0      0   94.109\n",
      " 5  I-ORG    751     64      5      3     19     18    611      3     14     14      0      0   81.358\n",
      " 6 B-MISC    922     89     14     17     25      1      3    773      0      0      0      0   83.839\n",
      " 7  I-LOC    257     10      3      0      0      7     16      0    220      1      0      0   85.603\n",
      " 8 I-MISC    346     47      3      2      1      6     17     22      3    245      0      0   70.809\n",
      " 9<START>      0      0      0      0      0      0      0      0      0      0      0      0    0.000\n",
      "10 <STOP>      0      0      0      0      0      0      0      0      0      0      0      0    0.000\n",
      "50125/51362 (97.59160%)\n",
      "NER f1 : 87.24\n"
     ]
    },
    {
     "name": "stderr",
     "output_type": "stream",
     "text": [
      "173it [00:17, 10.08it/s]\n"
     ]
    },
    {
     "name": "stdout",
     "output_type": "stream",
     "text": [
      "ner : p 0.958613677174, r 0.95869663991, f 0.958655156747, acc 0.954237105631528\n",
      "ID     NE  Total      O  B-LOC  B-PER  B-ORG  I-PER  I-ORG B-MISC  I-LOC I-MISC<START> <STOP>  Percent\n",
      " 0      O  38323  37945     44     71     73     30     46     51     20     43      0      0   99.014\n",
      " 1  B-LOC   1668     85   1481     17     50      3      3     26      2      1      0      0   88.789\n",
      " 2  B-PER   1617    180     23   1247    129     30      0      3      2      3      0      0   77.118\n",
      " 3  B-ORG   1661    215     88     68   1220      1     26     40      1      2      0      0   73.450\n",
      " 4  I-PER   1156     58      0      3      2   1052     34      4      2      1      0      0   91.003\n",
      " 5  I-ORG    835     74      6      1     25     30    643      5     35     16      0      0   77.006\n",
      " 6 B-MISC    702    122     19     11     19      0      3    521      0      7      0      0   74.217\n",
      " 7  I-LOC    257     18      3      1      0      7     24      0    201      3      0      0   78.210\n",
      " 8 I-MISC    216     45      0      0      1      6     17      8      3    136      0      0   62.963\n",
      " 9<START>      0      0      0      0      0      0      0      0      0      0      0      0    0.000\n",
      "10 <STOP>      0      0      0      0      0      0      0      0      0      0      0      0    0.000\n",
      "44446/46435 (95.71659%)\n",
      "NER f1 : 78.17\n",
      "Loss :  NER 0.00924504\n",
      "Dev loss : NER 2.35424\n",
      "Test loss : NER 3.51814\n"
     ]
    },
    {
     "name": "stderr",
     "output_type": "stream",
     "text": [
      "\r",
      "  0%|          | 0/703 [00:00<?, ?it/s]"
     ]
    },
    {
     "name": "stdout",
     "output_type": "stream",
     "text": [
      "Epoch 17/1000 :\n"
     ]
    },
    {
     "name": "stderr",
     "output_type": "stream",
     "text": [
      "100%|██████████| 703/703 [00:58<00:00, 12.03it/s]\n",
      "163it [00:19,  8.55it/s]\n"
     ]
    },
    {
     "name": "stdout",
     "output_type": "stream",
     "text": [
      "ner : p 0.976775608514, r 0.97775207778, f 0.977263599228, acc 0.9711654530586815\n",
      "ID     NE  Total      O  B-LOC  B-PER  B-ORG  I-PER  I-ORG B-MISC  I-LOC I-MISC<START> <STOP>  Percent\n",
      " 0      O  42759  42607     35     28     29      2     20     21      5     12      0      0   99.645\n",
      " 1  B-LOC   1837     65   1704     11     39      2      3     10      3      0      0      0   92.760\n",
      " 2  B-PER   1842    104     22   1638     62      8      4      4      0      0      0      0   88.925\n",
      " 3  B-ORG   1341     99     41     50   1102      3     16     26      2      2      0      0   82.177\n",
      " 4  I-PER   1307     42      0      7      1   1220     31      2      1      3      0      0   93.344\n",
      " 5  I-ORG    751     52      6      4     22     18    613      3     14     19      0      0   81.625\n",
      " 6 B-MISC    922     90     12     13     25      1      4    777      0      0      0      0   84.273\n",
      " 7  I-LOC    257      8      3      0      0      7     17      0    220      2      0      0   85.603\n",
      " 8 I-MISC    346     38      3      1      1      4     17     23      2    257      0      0   74.277\n",
      " 9<START>      0      0      0      0      0      0      0      0      0      0      0      0    0.000\n",
      "10 <STOP>      0      0      0      0      0      0      0      0      0      0      0      0    0.000\n",
      "50138/51362 (97.61692%)\n",
      "NER f1 : 86.75\n"
     ]
    },
    {
     "name": "stderr",
     "output_type": "stream",
     "text": [
      "173it [00:16, 10.39it/s]\n"
     ]
    },
    {
     "name": "stdout",
     "output_type": "stream",
     "text": [
      "ner : p 0.958728303684, r 0.95845864255, f 0.958593454152, acc 0.9540002153547971\n",
      "ID     NE  Total      O  B-LOC  B-PER  B-ORG  I-PER  I-ORG B-MISC  I-LOC I-MISC<START> <STOP>  Percent\n",
      " 0      O  38323  37907     52     75     84     20     68     54     15     48      0      0   98.914\n",
      " 1  B-LOC   1668     66   1485     19     52      4      6     33      1      2      0      0   89.029\n",
      " 2  B-PER   1617    156     29   1252    139     30      1      5      2      3      0      0   77.427\n",
      " 3  B-ORG   1661    186     95     72   1226      3     29     49      0      1      0      0   73.811\n",
      " 4  I-PER   1156     49      0      4      4   1043     50      3      2      1      0      0   90.225\n",
      " 5  I-ORG    835     67      4      0     22     30    652      5     36     19      0      0   78.084\n",
      " 6 B-MISC    702    105     18     14     22      0      3    530      0     10      0      0   75.499\n",
      " 7  I-LOC    257     17      3      0      1      6     23      0    204      3      0      0   79.377\n",
      " 8 I-MISC    216     42      0      0      2      5     15      6      4    142      0      0   65.741\n",
      " 9<START>      0      0      0      0      0      0      0      0      0      0      0      0    0.000\n",
      "10 <STOP>      0      0      0      0      0      0      0      0      0      0      0      0    0.000\n",
      "44441/46435 (95.70583%)\n",
      "NER f1 : 77.53\n",
      "Loss :  NER 0.0112312\n",
      "Dev loss : NER 2.32741\n",
      "Test loss : NER 3.44091\n"
     ]
    },
    {
     "name": "stderr",
     "output_type": "stream",
     "text": [
      "\r",
      "  0%|          | 0/703 [00:00<?, ?it/s]"
     ]
    },
    {
     "name": "stdout",
     "output_type": "stream",
     "text": [
      "Epoch 18/1000 :\n"
     ]
    },
    {
     "name": "stderr",
     "output_type": "stream",
     "text": [
      "100%|██████████| 703/703 [00:57<00:00, 12.21it/s]\n",
      "163it [00:18,  8.90it/s]\n"
     ]
    },
    {
     "name": "stdout",
     "output_type": "stream",
     "text": [
      "ner : p 0.976038526291, r 0.977301238827, f 0.976669474427, acc 0.9707176511818075\n",
      "ID     NE  Total      O  B-LOC  B-PER  B-ORG  I-PER  I-ORG B-MISC  I-LOC I-MISC<START> <STOP>  Percent\n",
      " 0      O  42759  42626     27     25     23      1     24     16      4     13      0      0   99.689\n",
      " 1  B-LOC   1837     84   1683     16     34      2      5     10      3      0      0      0   91.617\n",
      " 2  B-PER   1842    137     16   1626     47      9      5      2      0      0      0      0   88.274\n",
      " 3  B-ORG   1341    121     31     51   1089      2     21     23      1      2      0      0   81.208\n",
      " 4  I-PER   1307     48      0      8      0   1220     30      0      0      1      0      0   93.344\n",
      " 5  I-ORG    751     57      6      3     19     15    625      3     10     13      0      0   83.222\n",
      " 6 B-MISC    922     98      8     13     24      1      4    773      0      1      0      0   83.839\n",
      " 7  I-LOC    257      9      1      0      0      9     20      0    216      2      0      0   84.047\n",
      " 8 I-MISC    346     45      2      2      1      4     21     22      1    248      0      0   71.676\n",
      " 9<START>      0      0      0      0      0      0      0      0      0      0      0      0    0.000\n",
      "10 <STOP>      0      0      0      0      0      0      0      0      0      0      0      0    0.000\n",
      "50106/51362 (97.55461%)\n",
      "NER f1 : 86.87\n"
     ]
    },
    {
     "name": "stderr",
     "output_type": "stream",
     "text": [
      "173it [00:16, 10.39it/s]\n"
     ]
    },
    {
     "name": "stdout",
     "output_type": "stream",
     "text": [
      "ner : p 0.958492036011, r 0.958263917437, f 0.958377963149, acc 0.9538063960374717\n",
      "ID     NE  Total      O  B-LOC  B-PER  B-ORG  I-PER  I-ORG B-MISC  I-LOC I-MISC<START> <STOP>  Percent\n",
      " 0      O  38323  37922     42     71     74     24     75     51     18     46      0      0   98.954\n",
      " 1  B-LOC   1668     83   1466     27     49      4      4     30      1      4      0      0   87.890\n",
      " 2  B-PER   1617    187     20   1263    106     30      2      4      2      3      0      0   78.108\n",
      " 3  B-ORG   1661    210     78     75   1220      2     30     44      0      2      0      0   73.450\n",
      " 4  I-PER   1156     57      0      3      3   1035     53      3      2      0      0      0   89.533\n",
      " 5  I-ORG    835     71      6      1     24     22    663      4     26     18      0      0   79.401\n",
      " 6 B-MISC    702    119     19      9     19      0      3    525      0      8      0      0   74.786\n",
      " 7  I-LOC    257     16      1      0      1      7     33      0    196      3      0      0   76.265\n",
      " 8 I-MISC    216     42      0      0      2      5     16      6      2    143      0      0   66.204\n",
      " 9<START>      0      0      0      0      0      0      0      0      0      0      0      0    0.000\n",
      "10 <STOP>      0      0      0      0      0      0      0      0      0      0      0      0    0.000\n",
      "44433/46435 (95.68860%)\n",
      "NER f1 : 77.94\n",
      "Loss :  NER 0.0105026\n",
      "Dev loss : NER 2.3391\n",
      "Test loss : NER 3.51735\n"
     ]
    },
    {
     "name": "stderr",
     "output_type": "stream",
     "text": [
      "\r",
      "  0%|          | 0/703 [00:00<?, ?it/s]"
     ]
    },
    {
     "name": "stdout",
     "output_type": "stream",
     "text": [
      "Epoch 19/1000 :\n"
     ]
    },
    {
     "name": "stderr",
     "output_type": "stream",
     "text": [
      "100%|██████████| 703/703 [00:57<00:00, 12.30it/s]\n",
      "163it [00:18,  8.99it/s]\n"
     ]
    },
    {
     "name": "stdout",
     "output_type": "stream",
     "text": [
      "ner : p 0.97504306295, r 0.976419162616, f 0.975730627595, acc 0.9698415170748803\n",
      "ID     NE  Total      O  B-LOC  B-PER  B-ORG  I-PER  I-ORG B-MISC  I-LOC I-MISC<START> <STOP>  Percent\n",
      " 0      O  42759  42616     31     36     26      1     17     17      3     12      0      0   99.666\n",
      " 1  B-LOC   1837     72   1695     17     38      2      3      7      3      0      0      0   92.270\n",
      " 2  B-PER   1842    114     16   1643     52      8      5      4      0      0      0      0   89.197\n",
      " 3  B-ORG   1341    120     32     52   1104      2     12     17      2      0      0      0   82.327\n",
      " 4  I-PER   1307     93      0      7      2   1184     17      0      0      4      0      0   90.589\n",
      " 5  I-ORG    751     77      7      3     29     18    590      3     12     12      0      0   78.562\n",
      " 6 B-MISC    922     92     15     17     27      0      2    768      0      1      0      0   83.297\n",
      " 7  I-LOC    257     16      2      0      0      7     18      0    213      1      0      0   82.879\n",
      " 8 I-MISC    346     50      3      2      1      4     17     23      2    244      0      0   70.520\n",
      " 9<START>      0      0      0      0      0      0      0      0      0      0      0      0    0.000\n",
      "10 <STOP>      0      0      0      0      0      0      0      0      0      0      0      0    0.000\n",
      "50057/51362 (97.45921%)\n",
      "NER f1 : 86.32\n"
     ]
    },
    {
     "name": "stderr",
     "output_type": "stream",
     "text": [
      "173it [00:17,  9.90it/s]\n"
     ]
    },
    {
     "name": "stdout",
     "output_type": "stream",
     "text": [
      "ner : p 0.958894922441, r 0.958977909518, f 0.958936414184, acc 0.9545170668676645\n",
      "ID     NE  Total      O  B-LOC  B-PER  B-ORG  I-PER  I-ORG B-MISC  I-LOC I-MISC<START> <STOP>  Percent\n",
      " 0      O  38323  37963     43     79     71     15     46     47     14     45      0      0   99.061\n",
      " 1  B-LOC   1668     78   1486     26     49      3      3     21      0      2      0      0   89.089\n",
      " 2  B-PER   1617    165     21   1292    111     23      0      2      2      1      0      0   79.901\n",
      " 3  B-ORG   1661    196     83     82   1238      3     22     36      0      1      0      0   74.533\n",
      " 4  I-PER   1156    124      0      5      4    987     31      4      1      0      0      0   85.381\n",
      " 5  I-ORG    835     79      6      0     30     31    641      5     24     19      0      0   76.766\n",
      " 6 B-MISC    702    118     16     14     24      0      2    519      0      9      0      0   73.932\n",
      " 7  I-LOC    257     22      4      0      0      7     25      0    197      2      0      0   76.654\n",
      " 8 I-MISC    216     49      0      0      3      4     15     10      2    133      0      0   61.574\n",
      " 9<START>      0      0      0      0      0      0      0      0      0      0      0      0    0.000\n",
      "10 <STOP>      0      0      0      0      0      0      0      0      0      0      0      0    0.000\n",
      "44456/46435 (95.73813%)\n",
      "NER f1 : 77.94\n",
      "Loss :  NER 0.0120165\n",
      "Dev loss : NER 2.47561\n",
      "Test loss : NER 3.58832\n"
     ]
    },
    {
     "name": "stderr",
     "output_type": "stream",
     "text": [
      "\r",
      "  0%|          | 0/703 [00:00<?, ?it/s]"
     ]
    },
    {
     "name": "stdout",
     "output_type": "stream",
     "text": [
      "Epoch 20/1000 :\n"
     ]
    },
    {
     "name": "stderr",
     "output_type": "stream",
     "text": [
      "100%|██████████| 703/703 [00:58<00:00, 12.00it/s]\n",
      "163it [00:18,  8.70it/s]\n"
     ]
    },
    {
     "name": "stdout",
     "output_type": "stream",
     "text": [
      "ner : p 0.976217507047, r 0.977595264231, f 0.976905899867, acc 0.9710096958841167\n",
      "ID     NE  Total      O  B-LOC  B-PER  B-ORG  I-PER  I-ORG B-MISC  I-LOC I-MISC<START> <STOP>  Percent\n",
      " 0      O  42759  42636     28     26     24      1     18     14      2     10      0      0   99.712\n",
      " 1  B-LOC   1837     82   1690     13     37      2      4      6      3      0      0      0   91.998\n",
      " 2  B-PER   1842    117     17   1644     46     10      4      4      0      0      0      0   89.251\n",
      " 3  B-ORG   1341    116     35     56   1094      4     13     22      1      0      0      0   81.581\n",
      " 4  I-PER   1307     54      0      8      1   1224     19      0      0      1      0      0   93.650\n",
      " 5  I-ORG    751     74      5      3     20     19    600      3     12     15      0      0   79.893\n",
      " 6 B-MISC    922     93     12     14     27      1      2    773      0      0      0      0   83.839\n",
      " 7  I-LOC    257     16      1      0      0      9     18      0    212      1      0      0   82.490\n",
      " 8 I-MISC    346     48      3      1      1      7     17     21      1    247      0      0   71.387\n",
      " 9<START>      0      0      0      0      0      0      0      0      0      0      0      0    0.000\n",
      "10 <STOP>      0      0      0      0      0      0      0      0      0      0      0      0    0.000\n",
      "50120/51362 (97.58187%)\n",
      "NER f1 : 87.27\n"
     ]
    },
    {
     "name": "stderr",
     "output_type": "stream",
     "text": [
      "173it [00:17,  9.94it/s]\n"
     ]
    },
    {
     "name": "stdout",
     "output_type": "stream",
     "text": [
      "ner : p 0.958966039368, r 0.959194270754, f 0.959080141483, acc 0.9547324216646926\n",
      "ID     NE  Total      O  B-LOC  B-PER  B-ORG  I-PER  I-ORG B-MISC  I-LOC I-MISC<START> <STOP>  Percent\n",
      " 0      O  38323  37960     41     73     72     19     48     52     16     42      0      0   99.053\n",
      " 1  B-LOC   1668     83   1472     22     51      3      5     28      2      2      0      0   88.249\n",
      " 2  B-PER   1617    171     23   1271    115     29      1      4      2      1      0      0   78.602\n",
      " 3  B-ORG   1661    198     87     83   1225      2     25     40      0      1      0      0   73.751\n",
      " 4  I-PER   1156     72      0      4      2   1038     34      4      2      0      0      0   89.792\n",
      " 5  I-ORG    835     77      6      0     25     31    648      5     27     16      0      0   77.605\n",
      " 6 B-MISC    702    119     15     12     24      0      3    522      0      7      0      0   74.359\n",
      " 7  I-LOC    257     20      2      0      0      9     27      0    197      2      0      0   76.654\n",
      " 8 I-MISC    216     46      0      0      2      5     18      9      2    134      0      0   62.037\n",
      " 9<START>      0      0      0      0      0      0      0      0      0      0      0      0    0.000\n",
      "10 <STOP>      0      0      0      0      0      0      0      0      0      0      0      0    0.000\n",
      "44467/46435 (95.76182%)\n",
      "NER f1 : 78.3\n",
      "Loss :  NER 0.0106015\n",
      "Dev loss : NER 2.38783\n",
      "Test loss : NER 3.50647\n"
     ]
    },
    {
     "name": "stderr",
     "output_type": "stream",
     "text": [
      "\r",
      "  0%|          | 0/703 [00:00<?, ?it/s]"
     ]
    },
    {
     "name": "stdout",
     "output_type": "stream",
     "text": [
      "Epoch 21/1000 :\n"
     ]
    },
    {
     "name": "stderr",
     "output_type": "stream",
     "text": [
      "100%|██████████| 703/703 [00:57<00:00, 12.27it/s]\n",
      "163it [00:18,  9.04it/s]\n"
     ]
    },
    {
     "name": "stdout",
     "output_type": "stream",
     "text": [
      "ner : p 0.976387202882, r 0.977497255763, f 0.976941913997, acc 0.9709123476500137\n",
      "ID     NE  Total      O  B-LOC  B-PER  B-ORG  I-PER  I-ORG B-MISC  I-LOC I-MISC<START> <STOP>  Percent\n",
      " 0      O  42759  42614     32     26     23      2     28     18      3     13      0      0   99.661\n",
      " 1  B-LOC   1837     66   1704     11     37      2      5      7      5      0      0      0   92.760\n",
      " 2  B-PER   1842    113     23   1619     66     13      5      3      0      0      0      0   87.894\n",
      " 3  B-ORG   1341    100     44     48   1110      1     21     15      1      1      0      0   82.774\n",
      " 4  I-PER   1307     42      0      8      1   1207     46      0      1      2      0      0   92.349\n",
      " 5  I-ORG    751     55      6      3     20     14    626      2     11     14      0      0   83.356\n",
      " 6 B-MISC    922     92     16     12     28      1      3    768      0      2      0      0   83.297\n",
      " 7  I-LOC    257     10      1      0      0      5     18      0    220      3      0      0   85.603\n",
      " 8 I-MISC    346     43      2      2      1      4     20     19      2    253      0      0   73.121\n",
      " 9<START>      0      0      0      0      0      0      0      0      0      0      0      0    0.000\n",
      "10 <STOP>      0      0      0      0      0      0      0      0      0      0      0      0    0.000\n",
      "50121/51362 (97.58382%)\n",
      "NER f1 : 87.01\n"
     ]
    },
    {
     "name": "stderr",
     "output_type": "stream",
     "text": [
      "173it [00:16, 10.42it/s]\n"
     ]
    },
    {
     "name": "stdout",
     "output_type": "stream",
     "text": [
      "ner : p 0.958110651925, r 0.958069192324, f 0.958089921676, acc 0.9536125767201464\n",
      "ID     NE  Total      O  B-LOC  B-PER  B-ORG  I-PER  I-ORG B-MISC  I-LOC I-MISC<START> <STOP>  Percent\n",
      " 0      O  38323  37904     52     67     93     23     75     47     18     44      0      0   98.907\n",
      " 1  B-LOC   1668     77   1489     16     54      4      2     20      1      5      0      0   89.269\n",
      " 2  B-PER   1617    171     25   1240    138     34      0      2      3      4      0      0   76.685\n",
      " 3  B-ORG   1661    190     87     77   1242      2     30     33      0      0      0      0   74.774\n",
      " 4  I-PER   1156     60      0      3      3   1028     56      3      2      1      0      0   88.927\n",
      " 5  I-ORG    835     62      4      2     25     27    665      4     29     17      0      0   79.641\n",
      " 6 B-MISC    702    115     21     12     27      0      3    516      0      8      0      0   73.504\n",
      " 7  I-LOC    257     19      1      0      0      6     31      0    197      3      0      0   76.654\n",
      " 8 I-MISC    216     47      0      0      2      5     20      4      2    136      0      0   62.963\n",
      " 9<START>      0      0      0      0      0      0      0      0      0      0      0      0    0.000\n",
      "10 <STOP>      0      0      0      0      0      0      0      0      0      0      0      0    0.000\n",
      "44417/46435 (95.65414%)\n",
      "NER f1 : 77.77\n",
      "Loss :  NER 0.00934354\n",
      "Dev loss : NER 2.39547\n",
      "Test loss : NER 3.51626\n"
     ]
    },
    {
     "name": "stderr",
     "output_type": "stream",
     "text": [
      "/home/bruno/Apps/anaconda3/lib/python3.6/site-packages/matplotlib/pyplot.py:524: RuntimeWarning: More than 20 figures have been opened. Figures created through the pyplot interface (`matplotlib.pyplot.figure`) are retained until explicitly closed and may consume too much memory. (To control this warning, see the rcParam `figure.max_open_warning`).\n",
      "  max_open_warning, RuntimeWarning)\n",
      "  0%|          | 0/703 [00:00<?, ?it/s]"
     ]
    },
    {
     "name": "stdout",
     "output_type": "stream",
     "text": [
      "Epoch 22/1000 :\n"
     ]
    },
    {
     "name": "stderr",
     "output_type": "stream",
     "text": [
      "100%|██████████| 703/703 [00:57<00:00, 12.29it/s]\n",
      "163it [00:18,  8.98it/s]\n"
     ]
    },
    {
     "name": "stdout",
     "output_type": "stream",
     "text": [
      "ner : p 0.976332171802, r 0.977595264231, f 0.976963309761, acc 0.9710096958841167\n",
      "ID     NE  Total      O  B-LOC  B-PER  B-ORG  I-PER  I-ORG B-MISC  I-LOC I-MISC<START> <STOP>  Percent\n",
      " 0      O  42759  42599     33     25     25      3     36     17      4     17      0      0   99.626\n",
      " 1  B-LOC   1837     70   1707     11     31      2      6      7      3      0      0      0   92.923\n",
      " 2  B-PER   1842    111     21   1631     62      9      4      4      0      0      0      0   88.545\n",
      " 3  B-ORG   1341    104     48     51   1093      3     24     16      2      0      0      0   81.506\n",
      " 4  I-PER   1307     35      0      8      1   1225     36      0      0      2      0      0   93.726\n",
      " 5  I-ORG    751     50      5      3     22     17    628      1     15     10      0      0   83.622\n",
      " 6 B-MISC    922     91     14     15     27      1      3    771      0      0      0      0   83.623\n",
      " 7  I-LOC    257     10      3      0      0      7     17      0    219      1      0      0   85.214\n",
      " 8 I-MISC    346     41      3      2      1      6     17     22      4    250      0      0   72.254\n",
      " 9<START>      0      0      0      0      0      0      0      0      0      0      0      0    0.000\n",
      "10 <STOP>      0      0      0      0      0      0      0      0      0      0      0      0    0.000\n",
      "50123/51362 (97.58771%)\n",
      "NER f1 : 86.99\n"
     ]
    },
    {
     "name": "stderr",
     "output_type": "stream",
     "text": [
      "173it [00:17, 10.12it/s]\n"
     ]
    },
    {
     "name": "stdout",
     "output_type": "stream",
     "text": [
      "ner : p 0.958539804817, r 0.958415370302, f 0.958477583521, acc 0.9539571443953914\n",
      "ID     NE  Total      O  B-LOC  B-PER  B-ORG  I-PER  I-ORG B-MISC  I-LOC I-MISC<START> <STOP>  Percent\n",
      " 0      O  38323  37898     44     70     91     25     79     49     16     51      0      0   98.891\n",
      " 1  B-LOC   1668     74   1492     20     49      5      7     19      1      1      0      0   89.448\n",
      " 2  B-PER   1617    166     26   1251    138     27      1      3      2      3      0      0   77.365\n",
      " 3  B-ORG   1661    196     88     75   1232      3     30     36      0      1      0      0   74.172\n",
      " 4  I-PER   1156     43      0      2      3   1044     58      3      2      1      0      0   90.311\n",
      " 5  I-ORG    835     62      4      0     21     26    663      5     36     18      0      0   79.401\n",
      " 6 B-MISC    702    119     21     15     23      0      3    514      0      7      0      0   73.219\n",
      " 7  I-LOC    257     16      1      0      0      7     28      0    203      2      0      0   78.988\n",
      " 8 I-MISC    216     39      1      0      2      8     19      7      2    138      0      0   63.889\n",
      " 9<START>      0      0      0      0      0      0      0      0      0      0      0      0    0.000\n",
      "10 <STOP>      0      0      0      0      0      0      0      0      0      0      0      0    0.000\n",
      "44435/46435 (95.69290%)\n",
      "NER f1 : 77.87\n",
      "Loss :  NER 0.0111446\n",
      "Dev loss : NER 2.27838\n",
      "Test loss : NER 3.53599\n"
     ]
    },
    {
     "name": "stderr",
     "output_type": "stream",
     "text": [
      "\r",
      "  0%|          | 0/703 [00:00<?, ?it/s]"
     ]
    },
    {
     "name": "stdout",
     "output_type": "stream",
     "text": [
      "Epoch 23/1000 :\n"
     ]
    },
    {
     "name": "stderr",
     "output_type": "stream",
     "text": [
      "100%|██████████| 703/703 [00:58<00:00, 12.09it/s]\n",
      "163it [00:18,  9.00it/s]\n"
     ]
    },
    {
     "name": "stdout",
     "output_type": "stream",
     "text": [
      "ner : p 0.976103336921, r 0.977614865924, f 0.976858516712, acc 0.9710291655309373\n",
      "ID     NE  Total      O  B-LOC  B-PER  B-ORG  I-PER  I-ORG B-MISC  I-LOC I-MISC<START> <STOP>  Percent\n",
      " 0      O  42759  42643     29     23     22      1     16     16      2      7      0      0   99.729\n",
      " 1  B-LOC   1837     81   1701     13     27      2      3      7      3      0      0      0   92.597\n",
      " 2  B-PER   1842    132     15   1641     35     11      4      4      0      0      0      0   89.088\n",
      " 3  B-ORG   1341    135     41     49   1076      3     13     23      1      0      0      0   80.239\n",
      " 4  I-PER   1307     56      0      7      0   1221     20      0      0      3      0      0   93.420\n",
      " 5  I-ORG    751     75      7      3     17     21    598      4     13     13      0      0   79.627\n",
      " 6 B-MISC    922     96     15     12     18      1      3    777      0      0      0      0   84.273\n",
      " 7  I-LOC    257     15      1      0      0      8     14      0    217      2      0      0   84.436\n",
      " 8 I-MISC    346     54      2      1      1      7     14     23      2    242      0      0   69.942\n",
      " 9<START>      0      0      0      0      0      0      0      0      0      0      0      0    0.000\n",
      "10 <STOP>      0      0      0      0      0      0      0      0      0      0      0      0    0.000\n",
      "50116/51362 (97.57408%)\n",
      "NER f1 : 87.51\n"
     ]
    },
    {
     "name": "stderr",
     "output_type": "stream",
     "text": [
      "173it [00:16, 10.37it/s]\n"
     ]
    },
    {
     "name": "stdout",
     "output_type": "stream",
     "text": [
      "ner : p 0.959083044983, r 0.95951881261, f 0.959300879309, acc 0.9550554538602347\n",
      "ID     NE  Total      O  B-LOC  B-PER  B-ORG  I-PER  I-ORG B-MISC  I-LOC I-MISC<START> <STOP>  Percent\n",
      " 0      O  38323  37983     43     66     60     22     47     49     16     37      0      0   99.113\n",
      " 1  B-LOC   1668     79   1495     19     45      4      2     21      1      2      0      0   89.628\n",
      " 2  B-PER   1617    197     23   1267     86     33      0      6      3      2      0      0   78.355\n",
      " 3  B-ORG   1661    224     93     83   1194      1     25     41      0      0      0      0   71.884\n",
      " 4  I-PER   1156     68      0      4      3   1042     34      2      2      1      0      0   90.138\n",
      " 5  I-ORG    835     75      5      1     23     30    650      5     29     17      0      0   77.844\n",
      " 6 B-MISC    702    129     19     13     14      0      2    517      0      8      0      0   73.647\n",
      " 7  I-LOC    257     22      2      0      0      8     25      0    200      0      0      0   77.821\n",
      " 8 I-MISC    216     53      0      0      2      6     16      9      2    128      0      0   59.259\n",
      " 9<START>      0      0      0      0      0      0      0      0      0      0      0      0    0.000\n",
      "10 <STOP>      0      0      0      0      0      0      0      0      0      0      0      0    0.000\n",
      "44476/46435 (95.78120%)\n",
      "NER f1 : 78.65\n",
      "Loss :  NER 0.0109183\n",
      "Dev loss : NER 2.53819\n",
      "Test loss : NER 3.6341\n"
     ]
    },
    {
     "name": "stderr",
     "output_type": "stream",
     "text": [
      "\r",
      "  0%|          | 0/703 [00:00<?, ?it/s]"
     ]
    },
    {
     "name": "stdout",
     "output_type": "stream",
     "text": [
      "Epoch 24/1000 :\n"
     ]
    },
    {
     "name": "stderr",
     "output_type": "stream",
     "text": [
      "100%|██████████| 703/703 [00:57<00:00, 12.31it/s]\n",
      "163it [00:17,  9.06it/s]\n"
     ]
    },
    {
     "name": "stdout",
     "output_type": "stream",
     "text": [
      "ner : p 0.976466442165, r 0.977614865924, f 0.977040316577, acc 0.9710291655309373\n",
      "ID     NE  Total      O  B-LOC  B-PER  B-ORG  I-PER  I-ORG B-MISC  I-LOC I-MISC<START> <STOP>  Percent\n",
      " 0      O  42759  42627     30     25     24      3     18     15      4     13      0      0   99.691\n",
      " 1  B-LOC   1837     78   1693     17     34      1      3      8      3      0      0      0   92.161\n",
      " 2  B-PER   1842    128     14   1625     52     14      3      5      0      1      0      0   88.219\n",
      " 3  B-ORG   1341    116     41     50   1090      3     17     20      3      1      0      0   81.283\n",
      " 4  I-PER   1307     43      0      7      0   1226     27      1      0      3      0      0   93.803\n",
      " 5  I-ORG    751     59      5      3     20     16    618      3     13     14      0      0   82.290\n",
      " 6 B-MISC    922     90     14     14     25      1      3    775      0      0      0      0   84.056\n",
      " 7  I-LOC    257     10      2      0      0      7     17      0    220      1      0      0   85.603\n",
      " 8 I-MISC    346     39      2      2      1      7     16     22      4    253      0      0   73.121\n",
      " 9<START>      0      0      0      0      0      0      0      0      0      0      0      0    0.000\n",
      "10 <STOP>      0      0      0      0      0      0      0      0      0      0      0      0    0.000\n",
      "50127/51362 (97.59550%)\n",
      "NER f1 : 87.06\n"
     ]
    },
    {
     "name": "stderr",
     "output_type": "stream",
     "text": [
      "173it [00:16, 10.55it/s]\n"
     ]
    },
    {
     "name": "stdout",
     "output_type": "stream",
     "text": [
      "ner : p 0.958266626282, r 0.958328825808, f 0.958297725035, acc 0.9538710024765802\n",
      "ID     NE  Total      O  B-LOC  B-PER  B-ORG  I-PER  I-ORG B-MISC  I-LOC I-MISC<START> <STOP>  Percent\n",
      " 0      O  38323  37919     49     74     72     30     63     53     19     44      0      0   98.946\n",
      " 1  B-LOC   1668     80   1481     22     50      4      5     24      1      1      0      0   88.789\n",
      " 2  B-PER   1617    175     24   1249    126     32      0      6      2      3      0      0   77.242\n",
      " 3  B-ORG   1661    193     95     85   1216      2     30     40      0      0      0      0   73.209\n",
      " 4  I-PER   1156     50      0      1      3   1049     46      3      2      2      0      0   90.744\n",
      " 5  I-ORG    835     62      4      0     25     27    658      5     36     18      0      0   78.802\n",
      " 6 B-MISC    702    122     21     10     20      1      2    519      0      7      0      0   73.932\n",
      " 7  I-LOC    257     18      2      0      0      8     25      0    202      2      0      0   78.599\n",
      " 8 I-MISC    216     46      0      0      1      5     19      7      2    136      0      0   62.963\n",
      " 9<START>      0      0      0      0      0      0      0      0      0      0      0      0    0.000\n",
      "10 <STOP>      0      0      0      0      0      0      0      0      0      0      0      0    0.000\n",
      "44429/46435 (95.67998%)\n",
      "NER f1 : 77.86\n",
      "Loss :  NER 0.0101646\n",
      "Dev loss : NER 2.36319\n",
      "Test loss : NER 3.52748\n"
     ]
    },
    {
     "name": "stderr",
     "output_type": "stream",
     "text": [
      "\r",
      "  0%|          | 0/703 [00:00<?, ?it/s]"
     ]
    },
    {
     "name": "stdout",
     "output_type": "stream",
     "text": [
      "Epoch 25/1000 :\n"
     ]
    },
    {
     "name": "stderr",
     "output_type": "stream",
     "text": [
      "100%|██████████| 703/703 [00:57<00:00, 12.33it/s]\n",
      "163it [00:18,  8.73it/s]\n"
     ]
    },
    {
     "name": "stdout",
     "output_type": "stream",
     "text": [
      "ner : p 0.976427746344, r 0.977595264231, f 0.977011156495, acc 0.9710096958841167\n",
      "ID     NE  Total      O  B-LOC  B-PER  B-ORG  I-PER  I-ORG B-MISC  I-LOC I-MISC<START> <STOP>  Percent\n",
      " 0      O  42759  42614     25     28     33      4     23     17      5     10      0      0   99.661\n",
      " 1  B-LOC   1837     70   1680     17     44      2      4     16      4      0      0      0   91.453\n",
      " 2  B-PER   1842    104     15   1635     66     14      4      4      0      0      0      0   88.762\n",
      " 3  B-ORG   1341     96     31     58   1106      4     18     26      1      1      0      0   82.476\n",
      " 4  I-PER   1307     35      0      7      1   1231     30      1      0      2      0      0   94.185\n",
      " 5  I-ORG    751     63      5      3     20     17    613      3     12     15      0      0   81.625\n",
      " 6 B-MISC    922     86     11     14     31      1      4    775      0      0      0      0   84.056\n",
      " 7  I-LOC    257      8      1      0      0     10     17      0    219      2      0      0   85.214\n",
      " 8 I-MISC    346     35      2      2      1      7     18     23      3    255      0      0   73.699\n",
      " 9<START>      0      0      0      0      0      0      0      0      0      0      0      0    0.000\n",
      "10 <STOP>      0      0      0      0      0      0      0      0      0      0      0      0    0.000\n",
      "50128/51362 (97.59745%)\n",
      "NER f1 : 86.9\n"
     ]
    },
    {
     "name": "stderr",
     "output_type": "stream",
     "text": [
      "173it [00:17,  9.74it/s]\n"
     ]
    },
    {
     "name": "stdout",
     "output_type": "stream",
     "text": [
      "ner : p 0.958153926045, r 0.958112464571, f 0.958133194859, acc 0.953655647679552\n",
      "ID     NE  Total      O  B-LOC  B-PER  B-ORG  I-PER  I-ORG B-MISC  I-LOC I-MISC<START> <STOP>  Percent\n",
      " 0      O  38323  37893     44     70    100     35     68     51     20     42      0      0   98.878\n",
      " 1  B-LOC   1668     73   1456     27     59      5      7     38      2      1      0      0   87.290\n",
      " 2  B-PER   1617    165     21   1245    141     34      2      4      2      3      0      0   76.994\n",
      " 3  B-ORG   1661    173     72     92   1246      3     28     46      0      1      0      0   75.015\n",
      " 4  I-PER   1156     40      0      0      4   1060     44      3      2      3      0      0   91.696\n",
      " 5  I-ORG    835     62      5      1     26     30    657      5     30     19      0      0   78.683\n",
      " 6 B-MISC    702    112     12     15     27      0      3    523      0     10      0      0   74.501\n",
      " 7  I-LOC    257     16      3      0      0     10     23      0    203      2      0      0   78.988\n",
      " 8 I-MISC    216     45      0      0      1      7     18      6      2    137      0      0   63.426\n",
      " 9<START>      0      0      0      0      0      0      0      0      0      0      0      0    0.000\n",
      "10 <STOP>      0      0      0      0      0      0      0      0      0      0      0      0    0.000\n",
      "44420/46435 (95.66060%)\n",
      "NER f1 : 77.54\n",
      "Loss :  NER 0.0107694\n",
      "Dev loss : NER 2.40785\n",
      "Test loss : NER 3.48319\n"
     ]
    },
    {
     "name": "stderr",
     "output_type": "stream",
     "text": [
      "\r",
      "  0%|          | 0/703 [00:00<?, ?it/s]"
     ]
    },
    {
     "name": "stdout",
     "output_type": "stream",
     "text": [
      "Epoch 26/1000 :\n"
     ]
    },
    {
     "name": "stderr",
     "output_type": "stream",
     "text": [
      "100%|██████████| 703/703 [00:59<00:00, 11.73it/s]\n",
      "163it [00:18,  8.96it/s]\n"
     ]
    },
    {
     "name": "stdout",
     "output_type": "stream",
     "text": [
      "ner : p 0.974826269942, r 0.976144738905, f 0.975485058912, acc 0.9695689420193918\n",
      "ID     NE  Total      O  B-LOC  B-PER  B-ORG  I-PER  I-ORG B-MISC  I-LOC I-MISC<START> <STOP>  Percent\n",
      " 0      O  42759  42641     27     17     19      1     22     14      5     13      0      0   99.724\n",
      " 1  B-LOC   1837     77   1699     11     32      2      3     10      3      0      0      0   92.488\n",
      " 2  B-PER   1842    159     23   1588     51     13      4      4      0      0      0      0   86.211\n",
      " 3  B-ORG   1341    140     41     39   1075      0     22     21      2      1      0      0   80.164\n",
      " 4  I-PER   1307     63      0      7      0   1174     61      0      0      2      0      0   89.824\n",
      " 5  I-ORG    751     62      6      1     17     14    626      2     13     10      0      0   83.356\n",
      " 6 B-MISC    922     96     13     12     18      1      5    776      0      1      0      0   84.165\n",
      " 7  I-LOC    257     11      2      0      0      6     17      0    220      1      0      0   85.603\n",
      " 8 I-MISC    346     47      3      1      1      4     17     22      2    249      0      0   71.965\n",
      " 9<START>      0      0      0      0      0      0      0      0      0      0      0      0    0.000\n",
      "10 <STOP>      0      0      0      0      0      0      0      0      0      0      0      0    0.000\n",
      "50048/51362 (97.44169%)\n",
      "NER f1 : 86.48\n"
     ]
    },
    {
     "name": "stderr",
     "output_type": "stream",
     "text": [
      "173it [00:16, 10.32it/s]\n"
     ]
    },
    {
     "name": "stdout",
     "output_type": "stream",
     "text": [
      "ner : p 0.956873606994, r 0.95674938878, f 0.956811493855, acc 0.952298912458275\n",
      "ID     NE  Total      O  B-LOC  B-PER  B-ORG  I-PER  I-ORG B-MISC  I-LOC I-MISC<START> <STOP>  Percent\n",
      " 0      O  38323  37953     43     56     68     19     68     53     16     47      0      0   99.035\n",
      " 1  B-LOC   1668     84   1488     13     45      3      5     27      1      2      0      0   89.209\n",
      " 2  B-PER   1617    225     25   1196    126     33      2      4      3      3      0      0   73.964\n",
      " 3  B-ORG   1661    239     91     60   1205      2     30     33      0      1      0      0   72.547\n",
      " 4  I-PER   1156     68      0      0      3    992     87      3      2      1      0      0   85.813\n",
      " 5  I-ORG    835     70      8      1     20     23    660      4     31     18      0      0   79.042\n",
      " 6 B-MISC    702    127     18      5     19      0      3    522      0      8      0      0   74.359\n",
      " 7  I-LOC    257     19      3      0      1      3     25      0    204      2      0      0   79.377\n",
      " 8 I-MISC    216     46      0      0      2      4     17      5      2    140      0      0   64.815\n",
      " 9<START>      0      0      0      0      0      0      0      0      0      0      0      0    0.000\n",
      "10 <STOP>      0      0      0      0      0      0      0      0      0      0      0      0    0.000\n",
      "44360/46435 (95.53139%)\n",
      "NER f1 : 77.43\n",
      "Loss :  NER 0.0113294\n",
      "Dev loss : NER 2.53868\n",
      "Test loss : NER 3.73838\n"
     ]
    },
    {
     "name": "stderr",
     "output_type": "stream",
     "text": [
      "\r",
      "  0%|          | 0/703 [00:00<?, ?it/s]"
     ]
    },
    {
     "name": "stdout",
     "output_type": "stream",
     "text": [
      "Epoch 27/1000 :\n"
     ]
    },
    {
     "name": "stderr",
     "output_type": "stream",
     "text": [
      "100%|██████████| 703/703 [00:57<00:00, 12.23it/s]\n",
      "163it [00:18,  8.81it/s]\n"
     ]
    },
    {
     "name": "stdout",
     "output_type": "stream",
     "text": [
      "ner : p 0.977307880568, r 0.978438137055, f 0.977872682215, acc 0.9718468906974027\n",
      "ID     NE  Total      O  B-LOC  B-PER  B-ORG  I-PER  I-ORG B-MISC  I-LOC I-MISC<START> <STOP>  Percent\n",
      " 0      O  42759  42623     31     26     23      2     19     15      5     15      0      0   99.682\n",
      " 1  B-LOC   1837     67   1708     12     31      1      4     10      4      0      0      0   92.978\n",
      " 2  B-PER   1842    109     23   1644     48     11      4      3      0      0      0      0   89.251\n",
      " 3  B-ORG   1341    107     43     50   1102      3     15     18      2      1      0      0   82.177\n",
      " 4  I-PER   1307     41      0      8      1   1228     27      0      0      2      0      0   93.956\n",
      " 5  I-ORG    751     58      7      3     18     19    616      3     14     13      0      0   82.024\n",
      " 6 B-MISC    922     89     15     18     20      2      3    773      0      2      0      0   83.839\n",
      " 7  I-LOC    257     11      1      0      0      7     15      0    222      1      0      0   86.381\n",
      " 8 I-MISC    346     40      3      1      1      6     14     24      4    253      0      0   73.121\n",
      " 9<START>      0      0      0      0      0      0      0      0      0      0      0      0    0.000\n",
      "10 <STOP>      0      0      0      0      0      0      0      0      0      0      0      0    0.000\n",
      "50169/51362 (97.67727%)\n",
      "NER f1 : 87.28\n"
     ]
    },
    {
     "name": "stderr",
     "output_type": "stream",
     "text": [
      "173it [00:17, 10.09it/s]\n"
     ]
    },
    {
     "name": "stdout",
     "output_type": "stream",
     "text": [
      "ner : p 0.959064454012, r 0.959064454012, f 0.959064454012, acc 0.9546032087864758\n",
      "ID     NE  Total      O  B-LOC  B-PER  B-ORG  I-PER  I-ORG B-MISC  I-LOC I-MISC<START> <STOP>  Percent\n",
      " 0      O  38323  37907     48     78     77     32     67     52     18     44      0      0   98.914\n",
      " 1  B-LOC   1668     81   1490     18     48      4      2     22      0      3      0      0   89.329\n",
      " 2  B-PER   1617    158     26   1263    126     35      1      3      2      3      0      0   78.108\n",
      " 3  B-ORG   1661    200     93     79   1227      1     29     31      1      0      0      0   73.871\n",
      " 4  I-PER   1156     42      0      2      4   1058     44      3      2      1      0      0   91.522\n",
      " 5  I-ORG    835     68      8      0     24     25    659      5     31     15      0      0   78.922\n",
      " 6 B-MISC    702    112     22     14     21      1      3    520      0      9      0      0   74.074\n",
      " 7  I-LOC    257     19      4      1      0      8     19      0    203      3      0      0   78.988\n",
      " 8 I-MISC    216     43      0      0      1      5     18      6      5    138      0      0   63.889\n",
      " 9<START>      0      0      0      0      0      0      0      0      0      0      0      0    0.000\n",
      "10 <STOP>      0      0      0      0      0      0      0      0      0      0      0      0    0.000\n",
      "44465/46435 (95.75751%)\n",
      "NER f1 : 78.3\n",
      "Loss :  NER 0.0095084\n",
      "Dev loss : NER 2.35369\n",
      "Test loss : NER 3.61313\n"
     ]
    },
    {
     "name": "stderr",
     "output_type": "stream",
     "text": [
      "\r",
      "  0%|          | 0/703 [00:00<?, ?it/s]"
     ]
    },
    {
     "name": "stdout",
     "output_type": "stream",
     "text": [
      "Epoch 28/1000 :\n"
     ]
    },
    {
     "name": "stderr",
     "output_type": "stream",
     "text": [
      "100%|██████████| 703/703 [00:58<00:00, 12.06it/s]\n",
      "163it [00:18,  8.76it/s]\n"
     ]
    },
    {
     "name": "stdout",
     "output_type": "stream",
     "text": [
      "ner : p 0.977386639518, r 0.978536145523, f 0.977961054735, acc 0.9719442389315058\n",
      "ID     NE  Total      O  B-LOC  B-PER  B-ORG  I-PER  I-ORG B-MISC  I-LOC I-MISC<START> <STOP>  Percent\n",
      " 0      O  42759  42608     33     37     22      3     25     13      4     14      0      0   99.647\n",
      " 1  B-LOC   1837     65   1711     18     28      2      2      8      3      0      0      0   93.141\n",
      " 2  B-PER   1842    103     24   1667     31     10      4      3      0      0      0      0   90.499\n",
      " 3  B-ORG   1341    103     52     57   1086      4     14     23      2      0      0      0   80.984\n",
      " 4  I-PER   1307     42      0      9      1   1223     29      0      0      3      0      0   93.573\n",
      " 5  I-ORG    751     53      6      4     19     16    627      1     11     14      0      0   83.489\n",
      " 6 B-MISC    922     87     20     20     14      1      3    776      0      1      0      0   84.165\n",
      " 7  I-LOC    257     10      1      0      0      7     15      0    223      1      0      0   86.770\n",
      " 8 I-MISC    346     42      2      1      1      5     13     24      5    253      0      0   73.121\n",
      " 9<START>      0      0      0      0      0      0      0      0      0      0      0      0    0.000\n",
      "10 <STOP>      0      0      0      0      0      0      0      0      0      0      0      0    0.000\n",
      "50174/51362 (97.68701%)\n",
      "NER f1 : 87.38\n"
     ]
    },
    {
     "name": "stderr",
     "output_type": "stream",
     "text": [
      "173it [00:17, 10.06it/s]\n"
     ]
    },
    {
     "name": "stdout",
     "output_type": "stream",
     "text": [
      "ner : p 0.959630486987, r 0.959713537723, f 0.959672010558, acc 0.95524927317756\n",
      "ID     NE  Total      O  B-LOC  B-PER  B-ORG  I-PER  I-ORG B-MISC  I-LOC I-MISC<START> <STOP>  Percent\n",
      " 0      O  38323  37899     57     93     67     31     64     48     19     45      0      0   98.894\n",
      " 1  B-LOC   1668     67   1496     25     48      3      4     20      3      2      0      0   89.688\n",
      " 2  B-PER   1617    145     31   1325     82     29      0      2      2      1      0      0   81.942\n",
      " 3  B-ORG   1661    198    110     96   1191      2     31     33      0      0      0      0   71.704\n",
      " 4  I-PER   1156     42      0      0      3   1063     43      3      2      0      0      0   91.955\n",
      " 5  I-ORG    835     64      8      0     22     27    655      5     37     17      0      0   78.443\n",
      " 6 B-MISC    702    115     23     15     16      0      3    522      0      8      0      0   74.359\n",
      " 7  I-LOC    257     17      3      0      0      9     21      0    206      1      0      0   80.156\n",
      " 8 I-MISC    216     46      0      0      2      5     13      7      5    138      0      0   63.889\n",
      " 9<START>      0      0      0      0      0      0      0      0      0      0      0      0    0.000\n",
      "10 <STOP>      0      0      0      0      0      0      0      0      0      0      0      0    0.000\n",
      "44495/46435 (95.82212%)\n",
      "NER f1 : 78.73\n",
      "Loss :  NER 0.0121617\n",
      "Dev loss : NER 2.35741\n",
      "Test loss : NER 3.55167\n"
     ]
    },
    {
     "name": "stderr",
     "output_type": "stream",
     "text": [
      "\r",
      "  0%|          | 0/703 [00:00<?, ?it/s]"
     ]
    },
    {
     "name": "stdout",
     "output_type": "stream",
     "text": [
      "Epoch 29/1000 :\n"
     ]
    },
    {
     "name": "stderr",
     "output_type": "stream",
     "text": [
      "100%|██████████| 703/703 [00:57<00:00, 12.24it/s]\n",
      "163it [00:17,  9.08it/s]\n"
     ]
    },
    {
     "name": "stdout",
     "output_type": "stream",
     "text": [
      "ner : p 0.976721876346, r 0.977908891328, f 0.97731502341, acc 0.9713212102332464\n",
      "ID     NE  Total      O  B-LOC  B-PER  B-ORG  I-PER  I-ORG B-MISC  I-LOC I-MISC<START> <STOP>  Percent\n",
      " 0      O  42759  42601     32     31     31      9     21     16      4     14      0      0   99.630\n",
      " 1  B-LOC   1837     68   1700     15     41      1      2      7      3      0      0      0   92.542\n",
      " 2  B-PER   1842    103     20   1636     62     15      3      3      0      0      0      0   88.817\n",
      " 3  B-ORG   1341    101     42     48   1107      5     16     19      2      1      0      0   82.550\n",
      " 4  I-PER   1307     33      0      7      2   1243     20      0      0      2      0      0   95.103\n",
      " 5  I-ORG    751     57      5      2     23     26    611      2     13     12      0      0   81.358\n",
      " 6 B-MISC    922     88     14     13     29      2      2    773      0      1      0      0   83.839\n",
      " 7  I-LOC    257      8      2      0      0     11     17      0    218      1      0      0   84.825\n",
      " 8 I-MISC    346     38      3      1      1      7     17     24      2    253      0      0   73.121\n",
      " 9<START>      0      0      0      0      0      0      0      0      0      0      0      0    0.000\n",
      "10 <STOP>      0      0      0      0      0      0      0      0      0      0      0      0    0.000\n",
      "50142/51362 (97.62470%)\n",
      "NER f1 : 86.86\n"
     ]
    },
    {
     "name": "stderr",
     "output_type": "stream",
     "text": [
      "173it [00:17, 10.13it/s]\n"
     ]
    },
    {
     "name": "stdout",
     "output_type": "stream",
     "text": [
      "ner : p 0.958655156747, r 0.95869663991, f 0.95867589788, acc 0.954237105631528\n",
      "ID     NE  Total      O  B-LOC  B-PER  B-ORG  I-PER  I-ORG B-MISC  I-LOC I-MISC<START> <STOP>  Percent\n",
      " 0      O  38323  37893     60     68     80     47     65     51     14     45      0      0   98.878\n",
      " 1  B-LOC   1668     66   1482     27     53      4      8     24      2      2      0      0   88.849\n",
      " 2  B-PER   1617    153     27   1249    139     39      2      4      2      2      0      0   77.242\n",
      " 3  B-ORG   1661    183     92     80   1240      4     30     32      0      0      0      0   74.654\n",
      " 4  I-PER   1156     32      0      1      4   1074     40      3      2      0      0      0   92.907\n",
      " 5  I-ORG    835     66      5      0     24     35    657      5     27     16      0      0   78.683\n",
      " 6 B-MISC    702    113     22     12     23      1      3    519      0      9      0      0   73.932\n",
      " 7  I-LOC    257     17      3      0      0     12     26      0    196      3      0      0   76.265\n",
      " 8 I-MISC    216     47      0      0      3      8     12      6      3    137      0      0   63.426\n",
      " 9<START>      0      0      0      0      0      0      0      0      0      0      0      0    0.000\n",
      "10 <STOP>      0      0      0      0      0      0      0      0      0      0      0      0    0.000\n",
      "44447/46435 (95.71875%)\n",
      "NER f1 : 78.06\n",
      "Loss :  NER 0.0108356\n",
      "Dev loss : NER 2.29474\n",
      "Test loss : NER 3.53673\n"
     ]
    },
    {
     "name": "stderr",
     "output_type": "stream",
     "text": [
      "\r",
      "  0%|          | 0/703 [00:00<?, ?it/s]"
     ]
    },
    {
     "name": "stdout",
     "output_type": "stream",
     "text": [
      "Epoch 30/1000 :\n"
     ]
    },
    {
     "name": "stderr",
     "output_type": "stream",
     "text": [
      "100%|██████████| 703/703 [00:57<00:00, 12.31it/s]\n",
      "163it [00:17,  9.06it/s]\n"
     ]
    },
    {
     "name": "stdout",
     "output_type": "stream",
     "text": [
      "ner : p 0.976665883643, r 0.977967696409, f 0.977316356513, acc 0.9713796191737082\n",
      "ID     NE  Total      O  B-LOC  B-PER  B-ORG  I-PER  I-ORG B-MISC  I-LOC I-MISC<START> <STOP>  Percent\n",
      " 0      O  42759  42601     35     38     33      2     22     14      4     10      0      0   99.630\n",
      " 1  B-LOC   1837     61   1701     17     43      1      3      8      3      0      0      0   92.597\n",
      " 2  B-PER   1842     96     17   1647     64     11      4      3      0      0      0      0   89.414\n",
      " 3  B-ORG   1341     90     37     57   1112      4     17     21      1      2      0      0   82.923\n",
      " 4  I-PER   1307     39      0      8      1   1226     31      0      0      2      0      0   93.803\n",
      " 5  I-ORG    751     57      5      3     23     18    621      2     11     11      0      0   82.690\n",
      " 6 B-MISC    922     81     15     15     34      1      2    774      0      0      0      0   83.948\n",
      " 7  I-LOC    257     10      2      0      0     10     23      0    210      2      0      0   81.712\n",
      " 8 I-MISC    346     43      3      2      1      6     17     21      2    251      0      0   72.543\n",
      " 9<START>      0      0      0      0      0      0      0      0      0      0      0      0    0.000\n",
      "10 <STOP>      0      0      0      0      0      0      0      0      0      0      0      0    0.000\n",
      "50143/51362 (97.62665%)\n",
      "NER f1 : 87.03\n"
     ]
    },
    {
     "name": "stderr",
     "output_type": "stream",
     "text": [
      "173it [00:16, 10.47it/s]\n"
     ]
    },
    {
     "name": "stdout",
     "output_type": "stream",
     "text": [
      "ner : p 0.958509993943, r 0.95869663991, f 0.958603307841, acc 0.954237105631528\n",
      "ID     NE  Total      O  B-LOC  B-PER  B-ORG  I-PER  I-ORG B-MISC  I-LOC I-MISC<START> <STOP>  Percent\n",
      " 0      O  38323  37891     53     73    106     24     71     50     15     40      0      0   98.873\n",
      " 1  B-LOC   1668     69   1483     25     56      5      4     23      2      1      0      0   88.909\n",
      " 2  B-PER   1617    139     24   1262    151     31      1      4      2      3      0      0   78.046\n",
      " 3  B-ORG   1661    170     87     85   1252      2     28     36      0      1      0      0   75.376\n",
      " 4  I-PER   1156     45      0      1      4   1047     54      3      2      0      0      0   90.571\n",
      " 5  I-ORG    835     62      6      0     28     30    662      4     27     16      0      0   79.281\n",
      " 6 B-MISC    702    107     18     14     31      0      3    519      0     10      0      0   73.932\n",
      " 7  I-LOC    257     17      4      0      0     11     29      0    194      2      0      0   75.486\n",
      " 8 I-MISC    216     49      0      0      2      5     17      7      2    134      0      0   62.037\n",
      " 9<START>      0      0      0      0      0      0      0      0      0      0      0      0    0.000\n",
      "10 <STOP>      0      0      0      0      0      0      0      0      0      0      0      0    0.000\n",
      "44444/46435 (95.71229%)\n",
      "NER f1 : 77.63\n",
      "Loss :  NER 0.0091467\n",
      "Dev loss : NER 2.34518\n",
      "Test loss : NER 3.50614\n"
     ]
    },
    {
     "name": "stderr",
     "output_type": "stream",
     "text": [
      "\r",
      "  0%|          | 0/703 [00:00<?, ?it/s]"
     ]
    },
    {
     "name": "stdout",
     "output_type": "stream",
     "text": [
      "Epoch 31/1000 :\n"
     ]
    },
    {
     "name": "stderr",
     "output_type": "stream",
     "text": [
      "100%|██████████| 703/703 [00:57<00:00, 12.25it/s]\n",
      "163it [00:17,  9.11it/s]\n"
     ]
    },
    {
     "name": "stdout",
     "output_type": "stream",
     "text": [
      "ner : p 0.975888523563, r 0.977418848989, f 0.976653086807, acc 0.9708344690627312\n",
      "ID     NE  Total      O  B-LOC  B-PER  B-ORG  I-PER  I-ORG B-MISC  I-LOC I-MISC<START> <STOP>  Percent\n",
      " 0      O  42759  42630     30     27     23      4     18     17      2      8      0      0   99.698\n",
      " 1  B-LOC   1837     77   1699     18     30      2      2      7      2      0      0      0   92.488\n",
      " 2  B-PER   1842    125     20   1635     43     11      4      4      0      0      0      0   88.762\n",
      " 3  B-ORG   1341    114     49     55   1081      4     15     21      1      1      0      0   80.611\n",
      " 4  I-PER   1307     48      0      7      1   1234     16      0      0      1      0      0   94.415\n",
      " 5  I-ORG    751     67      6      3     20     23    604      3     13     12      0      0   80.426\n",
      " 6 B-MISC    922     93     16     16     25      1      2    769      0      0      0      0   83.406\n",
      " 7  I-LOC    257     13      2      0      0     11     17      0    212      2      0      0   82.490\n",
      " 8 I-MISC    346     52      3      2      1      6     13     25      2    242      0      0   69.942\n",
      " 9<START>      0      0      0      0      0      0      0      0      0      0      0      0    0.000\n",
      "10 <STOP>      0      0      0      0      0      0      0      0      0      0      0      0    0.000\n",
      "50106/51362 (97.55461%)\n",
      "NER f1 : 86.91\n"
     ]
    },
    {
     "name": "stderr",
     "output_type": "stream",
     "text": [
      "173it [00:16, 10.34it/s]\n"
     ]
    },
    {
     "name": "stdout",
     "output_type": "stream",
     "text": [
      "ner : p 0.958344147418, r 0.95869663991, f 0.958520361257, acc 0.954237105631528\n",
      "ID     NE  Total      O  B-LOC  B-PER  B-ORG  I-PER  I-ORG B-MISC  I-LOC I-MISC<START> <STOP>  Percent\n",
      " 0      O  38323  37962     52     71     66     29     44     44     15     40      0      0   99.058\n",
      " 1  B-LOC   1668     82   1475     25     49      4      1     27      2      3      0      0   88.429\n",
      " 2  B-PER   1617    190     26   1254    113     27      1      2      3      1      0      0   77.551\n",
      " 3  B-ORG   1661    204     98     86   1208      2     23     39      1      0      0      0   72.727\n",
      " 4  I-PER   1156     61      0      1      2   1057     30      4      1      0      0      0   91.436\n",
      " 5  I-ORG    835     76      6      1     27     33    638      5     33     16      0      0   76.407\n",
      " 6 B-MISC    702    120     20     13     19      1      2    520      0      7      0      0   74.074\n",
      " 7  I-LOC    257     23      2      0      0     11     25      0    196      0      0      0   76.265\n",
      " 8 I-MISC    216     49      0      0      2      7     15      9      2    132      0      0   61.111\n",
      " 9<START>      0      0      0      0      0      0      0      0      0      0      0      0    0.000\n",
      "10 <STOP>      0      0      0      0      0      0      0      0      0      0      0      0    0.000\n",
      "44442/46435 (95.70798%)\n",
      "NER f1 : 77.9\n",
      "Loss :  NER 0.0105243\n",
      "Dev loss : NER 2.42973\n",
      "Test loss : NER 3.65437\n"
     ]
    },
    {
     "name": "stderr",
     "output_type": "stream",
     "text": [
      "\r",
      "  0%|          | 0/703 [00:00<?, ?it/s]"
     ]
    },
    {
     "name": "stdout",
     "output_type": "stream",
     "text": [
      "Epoch 32/1000 :\n"
     ]
    },
    {
     "name": "stderr",
     "output_type": "stream",
     "text": [
      "100%|██████████| 703/703 [00:56<00:00, 12.34it/s]\n",
      "163it [00:17,  9.07it/s]\n"
     ]
    },
    {
     "name": "stdout",
     "output_type": "stream",
     "text": [
      "ner : p 0.976548889106, r 0.977869687941, f 0.977208842225, acc 0.9712822709396052\n",
      "ID     NE  Total      O  B-LOC  B-PER  B-ORG  I-PER  I-ORG B-MISC  I-LOC I-MISC<START> <STOP>  Percent\n",
      " 0      O  42759  42622     39     21     28      3     17     15      3     11      0      0   99.680\n",
      " 1  B-LOC   1837     77   1694     12     39      2      3      7      3      0      0      0   92.216\n",
      " 2  B-PER   1842    127     15   1630     56      8      4      2      0      0      0      0   88.491\n",
      " 3  B-ORG   1341    101     38     50   1112      4     14     20      2      0      0      0   82.923\n",
      " 4  I-PER   1307     59      0      7      0   1217     23      0      0      1      0      0   93.114\n",
      " 5  I-ORG    751     55      5      3     22     20    622      2      9     13      0      0   82.823\n",
      " 6 B-MISC    922     88     14     14     29      1      2    774      0      0      0      0   83.948\n",
      " 7  I-LOC    257     11      1      0      0      8     20      0    216      1      0      0   84.047\n",
      " 8 I-MISC    346     46      3      0      0      5     16     24      1    251      0      0   72.543\n",
      " 9<START>      0      0      0      0      0      0      0      0      0      0      0      0    0.000\n",
      "10 <STOP>      0      0      0      0      0      0      0      0      0      0      0      0    0.000\n",
      "50138/51362 (97.61692%)\n",
      "NER f1 : 87.35\n"
     ]
    },
    {
     "name": "stderr",
     "output_type": "stream",
     "text": [
      "173it [00:16, 10.39it/s]\n"
     ]
    },
    {
     "name": "stdout",
     "output_type": "stream",
     "text": [
      "ner : p 0.957775422354, r 0.957982647829, f 0.957879023884, acc 0.9535264348013353\n",
      "ID     NE  Total      O  B-LOC  B-PER  B-ORG  I-PER  I-ORG B-MISC  I-LOC I-MISC<START> <STOP>  Percent\n",
      " 0      O  38323  37928     47     77     79     22     68     46     16     40      0      0   98.969\n",
      " 1  B-LOC   1668     79   1474     24     56      4      5     23      2      1      0      0   88.369\n",
      " 2  B-PER   1617    189     26   1229    131     35      0      3      2      2      0      0   76.005\n",
      " 3  B-ORG   1661    189     88     72   1249      2     27     32      0      2      0      0   75.196\n",
      " 4  I-PER   1156     75      0      2      2   1023     47      4      2      1      0      0   88.495\n",
      " 5  I-ORG    835     68      6      0     29     29    658      5     24     16      0      0   78.802\n",
      " 6 B-MISC    702    118     19     11     23      0      3    522      0      6      0      0   74.359\n",
      " 7  I-LOC    257     18      3      0      0      8     30      0    194      4      0      0   75.486\n",
      " 8 I-MISC    216     49      0      0      2      6     15      8      2    134      0      0   62.037\n",
      " 9<START>      0      0      0      0      0      0      0      0      0      0      0      0    0.000\n",
      "10 <STOP>      0      0      0      0      0      0      0      0      0      0      0      0    0.000\n",
      "44411/46435 (95.64122%)\n",
      "NER f1 : 77.72\n",
      "Loss :  NER 0.00999721\n",
      "Dev loss : NER 2.40897\n",
      "Test loss : NER 3.54134\n"
     ]
    },
    {
     "name": "stderr",
     "output_type": "stream",
     "text": [
      "\r",
      "  0%|          | 0/703 [00:00<?, ?it/s]"
     ]
    },
    {
     "name": "stdout",
     "output_type": "stream",
     "text": [
      "Epoch 33/1000 :\n"
     ]
    },
    {
     "name": "stderr",
     "output_type": "stream",
     "text": [
      "100%|██████████| 703/703 [00:57<00:00, 12.23it/s]\n",
      "163it [00:18,  9.03it/s]\n"
     ]
    },
    {
     "name": "stdout",
     "output_type": "stream",
     "text": [
      "ner : p 0.975720551378, r 0.976791594794, f 0.976255779328, acc 0.9702114403644718\n",
      "ID     NE  Total      O  B-LOC  B-PER  B-ORG  I-PER  I-ORG B-MISC  I-LOC I-MISC<START> <STOP>  Percent\n",
      " 0      O  42759  42622     27     22     25      3     22     19      4     15      0      0   99.680\n",
      " 1  B-LOC   1837     84   1693     11     33      2      3      8      3      0      0      0   92.161\n",
      " 2  B-PER   1842    144     15   1610     54     11      4      4      0      0      0      0   87.405\n",
      " 3  B-ORG   1341    124     34     45   1092      3     13     27      1      2      0      0   81.432\n",
      " 4  I-PER   1307     59      0      8      0   1211     25      1      0      3      0      0   92.655\n",
      " 5  I-ORG    751     61      5      3     21     18    614      3     14     12      0      0   81.758\n",
      " 6 B-MISC    922     95     11     11     23      1      3    776      0      2      0      0   84.165\n",
      " 7  I-LOC    257     15      1      0      0      7     19      0    214      1      0      0   83.268\n",
      " 8 I-MISC    346     42      2      0      1      4     14     26      2    255      0      0   73.699\n",
      " 9<START>      0      0      0      0      0      0      0      0      0      0      0      0    0.000\n",
      "10 <STOP>      0      0      0      0      0      0      0      0      0      0      0      0    0.000\n",
      "50087/51362 (97.51762%)\n",
      "NER f1 : 86.89\n"
     ]
    },
    {
     "name": "stderr",
     "output_type": "stream",
     "text": [
      "173it [00:16, 10.53it/s]\n"
     ]
    },
    {
     "name": "stdout",
     "output_type": "stream",
     "text": [
      "ner : p 0.957719355188, r 0.95763646985, f 0.957677910725, acc 0.9531818671260902\n",
      "ID     NE  Total      O  B-LOC  B-PER  B-ORG  I-PER  I-ORG B-MISC  I-LOC I-MISC<START> <STOP>  Percent\n",
      " 0      O  38323  37951     45     59     68     23     64     49     17     47      0      0   99.029\n",
      " 1  B-LOC   1668     89   1468     20     53      5      4     26      1      2      0      0   88.010\n",
      " 2  B-PER   1617    212     23   1207    132     34      0      5      2      2      0      0   74.644\n",
      " 3  B-ORG   1661    206     78     67   1230      3     30     46      0      1      0      0   74.052\n",
      " 4  I-PER   1156     75      0      1      2   1028     43      4      2      1      0      0   88.927\n",
      " 5  I-ORG    835     70      6      0     25     25    662      5     25     17      0      0   79.281\n",
      " 6 B-MISC    702    121     18      8     23      0      2    521      0      9      0      0   74.217\n",
      " 7  I-LOC    257     19      2      0      0     11     27      0    194      4      0      0   75.486\n",
      " 8 I-MISC    216     48      0      0      2      5     14      7      3    137      0      0   63.426\n",
      " 9<START>      0      0      0      0      0      0      0      0      0      0      0      0    0.000\n",
      "10 <STOP>      0      0      0      0      0      0      0      0      0      0      0      0    0.000\n",
      "44398/46435 (95.61322%)\n",
      "NER f1 : 77.57\n",
      "Loss :  NER 0.0115122\n",
      "Dev loss : NER 2.49052\n",
      "Test loss : NER 3.68741\n"
     ]
    },
    {
     "name": "stderr",
     "output_type": "stream",
     "text": [
      "\r",
      "  0%|          | 0/703 [00:00<?, ?it/s]"
     ]
    },
    {
     "name": "stdout",
     "output_type": "stream",
     "text": [
      "Epoch 34/1000 :\n"
     ]
    },
    {
     "name": "stderr",
     "output_type": "stream",
     "text": [
      "100%|██████████| 703/703 [00:57<00:00, 12.29it/s]\n",
      "163it [00:18,  8.98it/s]\n"
     ]
    },
    {
     "name": "stdout",
     "output_type": "stream",
     "text": [
      "ner : p 0.976248286665, r 0.977281637133, f 0.976764688596, acc 0.970698181534987\n",
      "ID     NE  Total      O  B-LOC  B-PER  B-ORG  I-PER  I-ORG B-MISC  I-LOC I-MISC<START> <STOP>  Percent\n",
      " 0      O  42759  42644     31     18     18      3     16     12      4     13      0      0   99.731\n",
      " 1  B-LOC   1837     78   1706     11     27      2      3      7      3      0      0      0   92.869\n",
      " 2  B-PER   1842    145     22   1614     39     13      2      6      0      1      0      0   87.622\n",
      " 3  B-ORG   1341    136     42     42   1076      4     14     24      2      1      0      0   80.239\n",
      " 4  I-PER   1307     62      0      7      0   1217     16      0      0      5      0      0   93.114\n",
      " 5  I-ORG    751     69      6      2     21     21    601      3     13     15      0      0   80.027\n",
      " 6 B-MISC    922     99     12     13     19      1      1    775      0      2      0      0   84.056\n",
      " 7  I-LOC    257     11      2      0      0      6     13      0    224      1      0      0   87.160\n",
      " 8 I-MISC    346     46      3      0      1      4     11     24      3    254      0      0   73.410\n",
      " 9<START>      0      0      0      0      0      0      0      0      0      0      0      0    0.000\n",
      "10 <STOP>      0      0      0      0      0      0      0      0      0      0      0      0    0.000\n",
      "50111/51362 (97.56435%)\n",
      "NER f1 : 87.27\n"
     ]
    },
    {
     "name": "stderr",
     "output_type": "stream",
     "text": [
      "173it [00:16, 10.54it/s]\n"
     ]
    },
    {
     "name": "stdout",
     "output_type": "stream",
     "text": [
      "ner : p 0.958299069465, r 0.958112464571, f 0.958205757933, acc 0.953655647679552\n",
      "ID     NE  Total      O  B-LOC  B-PER  B-ORG  I-PER  I-ORG B-MISC  I-LOC I-MISC<START> <STOP>  Percent\n",
      " 0      O  38323  37959     47     64     55     29     47     54     18     50      0      0   99.050\n",
      " 1  B-LOC   1668     82   1492     18     40      4      6     24      0      2      0      0   89.448\n",
      " 2  B-PER   1617    217     30   1222    106     34      2      2      2      2      0      0   75.572\n",
      " 3  B-ORG   1661    229    100     67   1199      2     24     39      1      0      0      0   72.185\n",
      " 4  I-PER   1156     68      0      1      2   1047     29      5      3      1      0      0   90.571\n",
      " 5  I-ORG    835     78      7      0     26     28    643      5     30     18      0      0   77.006\n",
      " 6 B-MISC    702    125     20     11     16      0      1    518      0     11      0      0   73.789\n",
      " 7  I-LOC    257     18      4      0      0      7     21      0    203      4      0      0   78.988\n",
      " 8 I-MISC    216     48      0      0      2      6     13      7      3    137      0      0   63.426\n",
      " 9<START>      0      0      0      0      0      0      0      0      0      0      0      0    0.000\n",
      "10 <STOP>      0      0      0      0      0      0      0      0      0      0      0      0    0.000\n",
      "44420/46435 (95.66060%)\n",
      "NER f1 : 78.07\n",
      "Loss :  NER 0.00819174\n",
      "Dev loss : NER 2.48688\n",
      "Test loss : NER 3.69336\n"
     ]
    },
    {
     "name": "stderr",
     "output_type": "stream",
     "text": [
      "\r",
      "  0%|          | 0/703 [00:00<?, ?it/s]"
     ]
    },
    {
     "name": "stdout",
     "output_type": "stream",
     "text": [
      "Epoch 35/1000 :\n"
     ]
    },
    {
     "name": "stderr",
     "output_type": "stream",
     "text": [
      "100%|██████████| 703/703 [00:56<00:00, 12.36it/s]\n",
      "163it [00:18,  8.96it/s]\n"
     ]
    },
    {
     "name": "stdout",
     "output_type": "stream",
     "text": [
      "ner : p 0.975026421889, r 0.976517171084, f 0.975771227108, acc 0.9699388653089833\n",
      "ID     NE  Total      O  B-LOC  B-PER  B-ORG  I-PER  I-ORG B-MISC  I-LOC I-MISC<START> <STOP>  Percent\n",
      " 0      O  42759  42644     29     17     22      1     22     12      3      9      0      0   99.731\n",
      " 1  B-LOC   1837     87   1692     14     28      2      4      7      3      0      0      0   92.107\n",
      " 2  B-PER   1842    161     18   1598     44     12      4      4      0      1      0      0   86.754\n",
      " 3  B-ORG   1341    134     37     47   1081      2     16     23      1      0      0      0   80.611\n",
      " 4  I-PER   1307     76      0      8      0   1198     24      0      0      1      0      0   91.660\n",
      " 5  I-ORG    751     67      5      2     22     14    616      2     12     11      0      0   82.024\n",
      " 6 B-MISC    922    102     12     11     22      1      1    772      0      1      0      0   83.731\n",
      " 7  I-LOC    257     12      3      0      0      7     17      0    217      1      0      0   84.436\n",
      " 8 I-MISC    346     51      3      0      1      4     16     25      2    244      0      0   70.520\n",
      " 9<START>      0      0      0      0      0      0      0      0      0      0      0      0    0.000\n",
      "10 <STOP>      0      0      0      0      0      0      0      0      0      0      0      0    0.000\n",
      "50062/51362 (97.46895%)\n",
      "NER f1 : 86.92\n"
     ]
    },
    {
     "name": "stderr",
     "output_type": "stream",
     "text": [
      "173it [00:16, 10.40it/s]\n"
     ]
    },
    {
     "name": "stdout",
     "output_type": "stream",
     "text": [
      "ner : p 0.957436684906, r 0.957809558839, f 0.957623085576, acc 0.9533541509637127\n",
      "ID     NE  Total      O  B-LOC  B-PER  B-ORG  I-PER  I-ORG B-MISC  I-LOC I-MISC<START> <STOP>  Percent\n",
      " 0      O  38323  37993     37     56     64     22     54     43     17     37      0      0   99.139\n",
      " 1  B-LOC   1668     90   1469     17     52      4      7     25      1      3      0      0   88.070\n",
      " 2  B-PER   1617    242     24   1198    112     31      1      4      2      3      0      0   74.088\n",
      " 3  B-ORG   1661    231     88     66   1212      2     28     34      0      0      0      0   72.968\n",
      " 4  I-PER   1156     82      0      3      2   1020     42      4      2      1      0      0   88.235\n",
      " 5  I-ORG    835     74      5      0     22     28    659      5     27     15      0      0   78.922\n",
      " 6 B-MISC    702    131     19      7     18      0      2    519      0      6      0      0   73.932\n",
      " 7  I-LOC    257     21      3      1      0      6     26      0    199      1      0      0   77.432\n",
      " 8 I-MISC    216     50      0      0      1      5     16      9      3    132      0      0   61.111\n",
      " 9<START>      0      0      0      0      0      0      0      0      0      0      0      0    0.000\n",
      "10 <STOP>      0      0      0      0      0      0      0      0      0      0      0      0    0.000\n",
      "44401/46435 (95.61968%)\n",
      "NER f1 : 77.39\n",
      "Loss :  NER 0.00932051\n",
      "Dev loss : NER 2.62409\n",
      "Test loss : NER 3.82078\n"
     ]
    },
    {
     "name": "stderr",
     "output_type": "stream",
     "text": [
      "\r",
      "  0%|          | 0/703 [00:00<?, ?it/s]"
     ]
    },
    {
     "name": "stdout",
     "output_type": "stream",
     "text": [
      "Epoch 36/1000 :\n"
     ]
    },
    {
     "name": "stderr",
     "output_type": "stream",
     "text": [
      " 26%|██▌       | 183/703 [00:31<00:57,  9.02it/s]Process Process-424:\n",
      "Process Process-423:\n",
      "Process Process-421:\n",
      "Process Process-422:\n",
      "  File \"/home/bruno/Apps/anaconda3/lib/python3.6/site-packages/torch/utils/data/dataloader.py\", line 35, in _worker_loop\n",
      "    r = index_queue.get()\n",
      "  File \"/home/bruno/Apps/anaconda3/lib/python3.6/site-packages/torch/utils/data/dataloader.py\", line 35, in _worker_loop\n",
      "    r = index_queue.get()\n",
      "  File \"/home/bruno/Apps/anaconda3/lib/python3.6/site-packages/torch/utils/data/dataloader.py\", line 35, in _worker_loop\n",
      "    r = index_queue.get()\n",
      "Traceback (most recent call last):\n",
      "Traceback (most recent call last):\n",
      "Traceback (most recent call last):\n",
      "Traceback (most recent call last):\n",
      "  File \"/home/bruno/Apps/anaconda3/lib/python3.6/multiprocessing/process.py\", line 249, in _bootstrap\n",
      "    self.run()\n",
      "  File \"/home/bruno/Apps/anaconda3/lib/python3.6/multiprocessing/process.py\", line 249, in _bootstrap\n",
      "    self.run()\n",
      "  File \"/home/bruno/Apps/anaconda3/lib/python3.6/multiprocessing/process.py\", line 249, in _bootstrap\n",
      "    self.run()\n",
      "  File \"/home/bruno/Apps/anaconda3/lib/python3.6/multiprocessing/process.py\", line 93, in run\n",
      "    self._target(*self._args, **self._kwargs)\n",
      "  File \"/home/bruno/Apps/anaconda3/lib/python3.6/multiprocessing/process.py\", line 93, in run\n",
      "    self._target(*self._args, **self._kwargs)\n",
      "  File \"/home/bruno/Apps/anaconda3/lib/python3.6/multiprocessing/process.py\", line 93, in run\n",
      "    self._target(*self._args, **self._kwargs)\n",
      "  File \"/home/bruno/Apps/anaconda3/lib/python3.6/multiprocessing/process.py\", line 249, in _bootstrap\n",
      "    self.run()\n",
      "KeyboardInterrupt\n",
      "  File \"/home/bruno/Apps/anaconda3/lib/python3.6/multiprocessing/queues.py\", line 342, in get\n",
      "    with self._rlock:\n",
      "  File \"/home/bruno/Apps/anaconda3/lib/python3.6/multiprocessing/process.py\", line 93, in run\n",
      "    self._target(*self._args, **self._kwargs)\n",
      "  File \"/home/bruno/Apps/anaconda3/lib/python3.6/multiprocessing/queues.py\", line 342, in get\n",
      "    with self._rlock:\n",
      "  File \"/home/bruno/Apps/anaconda3/lib/python3.6/multiprocessing/queues.py\", line 342, in get\n",
      "    with self._rlock:\n",
      "  File \"/home/bruno/Apps/anaconda3/lib/python3.6/multiprocessing/synchronize.py\", line 96, in __enter__\n",
      "    return self._semlock.__enter__()\n",
      "  File \"/home/bruno/Apps/anaconda3/lib/python3.6/multiprocessing/synchronize.py\", line 96, in __enter__\n",
      "    return self._semlock.__enter__()\n",
      "  File \"/home/bruno/Apps/anaconda3/lib/python3.6/multiprocessing/synchronize.py\", line 96, in __enter__\n",
      "    return self._semlock.__enter__()\n",
      "KeyboardInterrupt\n",
      "KeyboardInterrupt\n",
      "  File \"/home/bruno/Apps/anaconda3/lib/python3.6/site-packages/torch/utils/data/dataloader.py\", line 35, in _worker_loop\n",
      "    r = index_queue.get()\n",
      "  File \"/home/bruno/Apps/anaconda3/lib/python3.6/multiprocessing/queues.py\", line 343, in get\n",
      "    res = self._reader.recv_bytes()\n",
      "  File \"/home/bruno/Apps/anaconda3/lib/python3.6/multiprocessing/connection.py\", line 216, in recv_bytes\n",
      "    buf = self._recv_bytes(maxlength)\n",
      "  File \"/home/bruno/Apps/anaconda3/lib/python3.6/multiprocessing/connection.py\", line 407, in _recv_bytes\n",
      "    buf = self._recv(4)\n",
      "  File \"/home/bruno/Apps/anaconda3/lib/python3.6/multiprocessing/connection.py\", line 379, in _recv\n",
      "    chunk = read(handle, remaining)\n",
      "KeyboardInterrupt\n"
     ]
    },
    {
     "ename": "KeyboardInterrupt",
     "evalue": "",
     "output_type": "error",
     "traceback": [
      "\u001b[0;31m---------------------------------------------------------------------------\u001b[0m",
      "\u001b[0;31mKeyboardInterrupt\u001b[0m                         Traceback (most recent call last)",
      "\u001b[0;32m<ipython-input-21-bdd3a20f1737>\u001b[0m in \u001b[0;36m<module>\u001b[0;34m()\u001b[0m\n\u001b[1;32m     18\u001b[0m         \u001b[0;32mif\u001b[0m \u001b[0mparameters\u001b[0m\u001b[0;34m[\u001b[0m\u001b[0;34m\"crf\"\u001b[0m\u001b[0;34m]\u001b[0m\u001b[0;34m:\u001b[0m\u001b[0;34m\u001b[0m\u001b[0m\n\u001b[1;32m     19\u001b[0m             loss = model.neg_log_likelihood(sentences_in, lens, targets,\n\u001b[0;32m---> 20\u001b[0;31m                                             gradient_clipping=parameters[\"gradient_clipping\"])\n\u001b[0m\u001b[1;32m     21\u001b[0m         \u001b[0;32melse\u001b[0m\u001b[0;34m:\u001b[0m\u001b[0;34m\u001b[0m\u001b[0m\n\u001b[1;32m     22\u001b[0m             \u001b[0mscores\u001b[0m \u001b[0;34m=\u001b[0m \u001b[0mmodel\u001b[0m\u001b[0;34m(\u001b[0m\u001b[0msentences_in\u001b[0m\u001b[0;34m,\u001b[0m \u001b[0mlens\u001b[0m\u001b[0;34m)\u001b[0m\u001b[0;34m\u001b[0m\u001b[0m\n",
      "\u001b[0;32m/media/bruno/DATA/Projects/NER/model.py\u001b[0m in \u001b[0;36mneg_log_likelihood\u001b[0;34m(self, sentences, lens, tags, test, gradient_clipping)\u001b[0m\n\u001b[1;32m    230\u001b[0m         \u001b[0mlstm_out\u001b[0m\u001b[0;34m,\u001b[0m \u001b[0mself\u001b[0m\u001b[0;34m.\u001b[0m\u001b[0mhidden\u001b[0m \u001b[0;34m=\u001b[0m \u001b[0mself\u001b[0m\u001b[0;34m.\u001b[0m\u001b[0mlstm\u001b[0m\u001b[0;34m(\u001b[0m\u001b[0mpacked\u001b[0m\u001b[0;34m,\u001b[0m \u001b[0mself\u001b[0m\u001b[0;34m.\u001b[0m\u001b[0mhidden\u001b[0m\u001b[0;34m)\u001b[0m\u001b[0;34m\u001b[0m\u001b[0m\n\u001b[1;32m    231\u001b[0m \u001b[0;34m\u001b[0m\u001b[0m\n\u001b[0;32m--> 232\u001b[0;31m         \u001b[0mlstm_feats\u001b[0m \u001b[0;34m=\u001b[0m \u001b[0mself\u001b[0m\u001b[0;34m.\u001b[0m\u001b[0mhidden2tag\u001b[0m\u001b[0;34m(\u001b[0m\u001b[0mlstm_out\u001b[0m\u001b[0;34m.\u001b[0m\u001b[0mdata\u001b[0m\u001b[0;34m.\u001b[0m\u001b[0mview\u001b[0m\u001b[0;34m(\u001b[0m\u001b[0;34m-\u001b[0m\u001b[0;36m1\u001b[0m\u001b[0;34m,\u001b[0m \u001b[0mself\u001b[0m\u001b[0;34m.\u001b[0m\u001b[0mhidden_dim\u001b[0m\u001b[0;34m)\u001b[0m\u001b[0;34m)\u001b[0m\u001b[0;34m\u001b[0m\u001b[0m\n\u001b[0m\u001b[1;32m    233\u001b[0m \u001b[0;34m\u001b[0m\u001b[0m\n\u001b[1;32m    234\u001b[0m         \u001b[0mpadded_feats\u001b[0m \u001b[0;34m=\u001b[0m \u001b[0mpad_packed_sequence\u001b[0m\u001b[0;34m(\u001b[0m\u001b[0mPackedSequence\u001b[0m\u001b[0;34m(\u001b[0m\u001b[0mlstm_feats\u001b[0m\u001b[0;34m,\u001b[0m \u001b[0mlstm_out\u001b[0m\u001b[0;34m.\u001b[0m\u001b[0mbatch_sizes\u001b[0m\u001b[0;34m)\u001b[0m\u001b[0;34m,\u001b[0m \u001b[0mbatch_first\u001b[0m\u001b[0;34m=\u001b[0m\u001b[0;32mTrue\u001b[0m\u001b[0;34m)\u001b[0m\u001b[0;34m\u001b[0m\u001b[0m\n",
      "\u001b[0;32m/media/bruno/DATA/Projects/NER/model.py\u001b[0m in \u001b[0;36m_score_sentence\u001b[0;34m(self, feats, tags)\u001b[0m\n\u001b[1;32m    155\u001b[0m         \u001b[0minit_vvars\u001b[0m\u001b[0;34m[\u001b[0m\u001b[0;36m0\u001b[0m\u001b[0;34m]\u001b[0m\u001b[0;34m[\u001b[0m\u001b[0mself\u001b[0m\u001b[0;34m.\u001b[0m\u001b[0mtag2idx\u001b[0m\u001b[0;34m[\u001b[0m\u001b[0;34m\"<START>\"\u001b[0m\u001b[0;34m]\u001b[0m\u001b[0;34m]\u001b[0m \u001b[0;34m=\u001b[0m \u001b[0;36m0\u001b[0m\u001b[0;34m\u001b[0m\u001b[0m\n\u001b[1;32m    156\u001b[0m \u001b[0;34m\u001b[0m\u001b[0m\n\u001b[0;32m--> 157\u001b[0;31m         \u001b[0;31m# forward_var at step i holds the viterbi variables for step i-1\u001b[0m\u001b[0;34m\u001b[0m\u001b[0;34m\u001b[0m\u001b[0m\n\u001b[0m\u001b[1;32m    158\u001b[0m         \u001b[0mforward_var\u001b[0m \u001b[0;34m=\u001b[0m \u001b[0mautograd\u001b[0m\u001b[0;34m.\u001b[0m\u001b[0mVariable\u001b[0m\u001b[0;34m(\u001b[0m\u001b[0minit_vvars\u001b[0m\u001b[0;34m)\u001b[0m\u001b[0;34m\u001b[0m\u001b[0m\n\u001b[1;32m    159\u001b[0m         \u001b[0;32mfor\u001b[0m \u001b[0mfeat\u001b[0m \u001b[0;32min\u001b[0m \u001b[0mfeats\u001b[0m\u001b[0;34m:\u001b[0m\u001b[0;34m\u001b[0m\u001b[0m\n",
      "\u001b[0;31mKeyboardInterrupt\u001b[0m: "
     ]
    }
   ],
   "source": [
    "for epoch in range(epochs):\n",
    "    print(\"Epoch %s/%s :\" % (epoch+1, epochs))\n",
    "\n",
    "    losses = []\n",
    "    val_loss_epoch = []\n",
    "    loss_epoch = []\n",
    "    \n",
    "    test_lim = 3500 \n",
    "    for i, (sentences, tags, lens) in enumerate(tqdm(loader_train)):\n",
    "#     test_lim = 10\n",
    "#     for i in tqdm(range(10)):\n",
    "                      \n",
    "        sentences_in = autograd.Variable(cuda(sentences[:,:lens.numpy()[0]]))\n",
    "        targets = autograd.Variable(cuda(tags[:,:lens.numpy()[0]]))\n",
    "        \n",
    "        packed_targets = pack_padded_sequence(targets, lens.numpy(), batch_first=True) \n",
    "        \n",
    "        if parameters[\"crf\"]:        \n",
    "            loss = model.neg_log_likelihood(sentences_in, lens, targets,\n",
    "                                            gradient_clipping=parameters[\"gradient_clipping\"])\n",
    "        else:\n",
    "            scores = model(sentences_in, lens)\n",
    "            padded_scores = pad_packed_sequence(scores, batch_first=True) \n",
    "            \n",
    "#             print(padded_scores[0].size())\n",
    "#             print(targets.size())\n",
    "            \n",
    "            loss = nn.CrossEntropyLoss()(padded_scores[0].contiguous().view(-1,len(ner2idx)),\n",
    "                                                          targets.contiguous().view(-1))\n",
    "\n",
    "        loss.backward()        \n",
    "        optimizer.step()\n",
    "        \n",
    "        losses.append(loss.cpu().data.numpy())\n",
    "    \n",
    "    preds_dev, ner_loss_dev = model.test(loader_dev)  \n",
    "    \n",
    "    eval_metrics_crf(preds_dev, metrics, idner_dev[:test_lim], sents_dev_03[:test_lim], \n",
    "                     ner2idx, idx2ner, model_path, dev=True)\n",
    "    \n",
    "    val_loss_epoch = ner_loss_dev\n",
    "    \n",
    "    preds_test, ner_loss_test = model.test(loader_test)     \n",
    "    \n",
    "    eval_metrics_crf(preds_test, metrics, idner_test[:test_lim], sents_test_03[:test_lim], \n",
    "                         ner2idx, idx2ner, model_path)\n",
    "    \n",
    "    loss_epoch = np.mean(losses)\n",
    "    \n",
    "    print(\"Loss :  NER %s\" % (loss_epoch))\n",
    "    print(\"Dev loss : NER %s\" % (val_loss_epoch))\n",
    "    print(\"Test loss : NER %s\" % (ner_loss_test))\n",
    "    \n",
    "    torch.save(model.state_dict(), model_path + \"last_state_dict\")\n",
    "    if ner_loss_dev < best_ner: \n",
    "        print(\"New best score on dev.\")\n",
    "        print(\"Saving model...\")\n",
    "        torch.save(model.state_dict(), model_path + \"best_state_dict\")\n",
    "        \n",
    "        best_ner = ner_loss_dev\n",
    "    \n",
    "    metrics[\"ner\"][\"val_loss_dev\"].append(val_loss_epoch)\n",
    "    metrics[\"ner\"][\"val_loss_test\"].append(ner_loss_test)    \n",
    "    metrics[\"ner\"][\"loss\"].append(loss_epoch)    \n",
    "\n",
    "    # Save learning curve\n",
    "    save_plot(metrics, model_path)\n",
    "    with open(model_path + \"metrics.p\", \"wb\") as file:\n",
    "        pickle.dump(metrics, file)\n",
    "\n",
    "print(\"Done\")"
   ]
  },
  {
   "cell_type": "markdown",
   "metadata": {},
   "source": [
    "# Debug Tests"
   ]
  },
  {
   "cell_type": "code",
   "execution_count": null,
   "metadata": {
    "collapsed": true
   },
   "outputs": [],
   "source": [
    "for x,y,l in loader_train:\n",
    "    X = autograd.Variable(x)\n",
    "    Y = autograd.Variable(y)\n",
    "    L = l\n",
    "    break"
   ]
  },
  {
   "cell_type": "code",
   "execution_count": null,
   "metadata": {
    "collapsed": true
   },
   "outputs": [],
   "source": [
    "word_embeddings = nn.Embedding(len(w2idx_train), 300)"
   ]
  },
  {
   "cell_type": "code",
   "execution_count": null,
   "metadata": {
    "collapsed": true
   },
   "outputs": [],
   "source": [
    "packed = pack_padded_sequence(X, l.numpy(), batch_first=True)"
   ]
  },
  {
   "cell_type": "code",
   "execution_count": null,
   "metadata": {
    "collapsed": true
   },
   "outputs": [],
   "source": [
    "w = word_embeddings(X)"
   ]
  },
  {
   "cell_type": "code",
   "execution_count": null,
   "metadata": {
    "collapsed": true
   },
   "outputs": [],
   "source": [
    "w.size()"
   ]
  },
  {
   "cell_type": "code",
   "execution_count": null,
   "metadata": {
    "collapsed": true
   },
   "outputs": [],
   "source": [
    "p = pack_padded_sequence(w, l.numpy(), batch_first=True)"
   ]
  },
  {
   "cell_type": "code",
   "execution_count": null,
   "metadata": {
    "collapsed": true
   },
   "outputs": [],
   "source": [
    "p"
   ]
  },
  {
   "cell_type": "code",
   "execution_count": null,
   "metadata": {
    "collapsed": true
   },
   "outputs": [],
   "source": [
    "np.sum(p.batch_sizes)"
   ]
  },
  {
   "cell_type": "code",
   "execution_count": null,
   "metadata": {
    "collapsed": true
   },
   "outputs": [],
   "source": [
    "np.sum(l.numpy())"
   ]
  },
  {
   "cell_type": "code",
   "execution_count": null,
   "metadata": {
    "collapsed": true
   },
   "outputs": [],
   "source": [
    "print(l.numpy())\n",
    "print(p.batch_sizes)"
   ]
  },
  {
   "cell_type": "code",
   "execution_count": null,
   "metadata": {
    "collapsed": true
   },
   "outputs": [],
   "source": []
  }
 ],
 "metadata": {
  "kernelspec": {
   "display_name": "Python 3",
   "language": "python",
   "name": "python3"
  },
  "language_info": {
   "codemirror_mode": {
    "name": "ipython",
    "version": 3
   },
   "file_extension": ".py",
   "mimetype": "text/x-python",
   "name": "python",
   "nbconvert_exporter": "python",
   "pygments_lexer": "ipython3",
   "version": "3.6.1"
  }
 },
 "nbformat": 4,
 "nbformat_minor": 2
}
